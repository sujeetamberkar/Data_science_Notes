{
 "cells": [
  {
   "cell_type": "code",
   "execution_count": 7,
   "id": "843dd9ff-968a-4426-a342-1a5f63f5f846",
   "metadata": {},
   "outputs": [
    {
     "data": {
      "text/plain": [
       "[1, 3, 5, 7, 9, 11, 13, 15, 17, 19, 21, 23, 25]"
      ]
     },
     "execution_count": 7,
     "metadata": {},
     "output_type": "execute_result"
    }
   ],
   "source": [
    "# Q1\n",
    "# Which keyword is used to create a function? Create a function to return a list of odd numbers in the range of 1 to 25.\n",
    "\n",
    "# KEY WORD used to create a function is def\n",
    "def fun():\n",
    "    li=[i for i in range (1,26) if i % 2 !=  0]\n",
    "    return li\n",
    "fun()"
   ]
  },
  {
   "cell_type": "code",
   "execution_count": 1,
   "id": "be01bdcb-f513-479e-be77-3a0d9440e0bc",
   "metadata": {},
   "outputs": [
    {
     "name": "stdout",
     "output_type": "stream",
     "text": [
      "() <class 'tuple'>\n",
      "(1, 2, 43) <class 'tuple'>\n",
      "('Sujeet', <class 'tuple'>)\n"
     ]
    },
    {
     "data": {
      "text/plain": [
       "{'a': [1, 2, 3, 5], 'b': ['Sujeet', 'Amberkar']}"
      ]
     },
     "execution_count": 1,
     "metadata": {},
     "output_type": "execute_result"
    }
   ],
   "source": [
    "# Q 2\n",
    "# Why *args and **kwargs is used in some functions? Create a function each for *args and **kwargs to demonstrate their use.\n",
    "\n",
    "# args is used when we want to pass some data to a function but we do not know how much data is being passed\n",
    "# So we can pass 2 variables, 3 varibles ... etc \n",
    "# The *args parameter allows a function to accept any number of positional arguments.\n",
    "# This is useful when you want to pass an arbitrary number of arguments to a function without explicitly specifying the number of arguments.\n",
    "def dynamicArguments(*args):\n",
    "    # Everything is converted into a topule and now we can do anything what we want \n",
    "    return args\n",
    "print(dynamicArguments(),type(dynamicArguments()))\n",
    "print(dynamicArguments(1,2,43),type(dynamicArguments()))\n",
    "print(dynamicArguments(\"Sujeet\",type(dynamicArguments())))\n",
    "\n",
    "\n",
    "\n",
    "# kwargs\n",
    "# The **kwargs parameter allows a function to accept any number of keyword arguments, which are treated as a dictionary within the function\n",
    "def test10(**kwargs):\n",
    "    \"\"\" Converts the input into a key value pair\"\"\"\n",
    "    return kwargs\n",
    "test10(a=[1,2,3,5],b=[\"Sujeet\",\"Amberkar\"])\n"
   ]
  },
  {
   "cell_type": "code",
   "execution_count": 3,
   "id": "f06590ad-79a0-4d98-97ea-2865ea59fa5e",
   "metadata": {},
   "outputs": [
    {
     "name": "stdout",
     "output_type": "stream",
     "text": [
      "10\n",
      "20\n",
      "30\n",
      "40\n",
      "50\n"
     ]
    }
   ],
   "source": [
    "# Q3\n",
    "\n",
    "# In Python, an iterator is an object that implements the iterator protocol, which consists of two methods: __iter__() and __next__().\n",
    "# The __iter__() method is used to initialize an iterator object. \n",
    "# It returns the iterator object itself and is called when an iterator is requested for the first time.\n",
    "# The __next__() method is used to retrieve the next element from the iterator.\n",
    "# It returns the next item in the sequence and raises the StopIteration exception when there are no more elements to be retrieved.\n",
    "\n",
    "my_list = [10,20,30,40,50,60,70]\n",
    "my_iterator = iter(my_list)\n",
    "for _ in range(5):\n",
    "    element = next(my_iterator)\n",
    "    print(element)\n"
   ]
  },
  {
   "cell_type": "code",
   "execution_count": 4,
   "id": "11cfb28e-0832-40df-b7fb-2f3cbad414fc",
   "metadata": {},
   "outputs": [
    {
     "name": "stdout",
     "output_type": "stream",
     "text": [
      "0\n",
      "1\n",
      "1\n",
      "2\n",
      "3\n",
      "5\n",
      "8\n",
      "13\n",
      "21\n",
      "34\n"
     ]
    }
   ],
   "source": [
    "# Q4 \n",
    "# What is a generator function in python? Why yield keyword is used? Give an example of a generator function.\n",
    "\n",
    "# Generator function will keep giviing outcome one by one without storing in and then giving it in one go\n",
    "# In Python, a generator function is a special type of function that generates a sequence of values using the yield keyword. \n",
    "# Instead of returning a single value like a regular function, a generator function can yield multiple values, one at a time, \n",
    "# and then resume from where it left off each time it is called. \n",
    "# This makes it an efficient way to generate large sequences of values without storing them all in memory at once.\n",
    "\n",
    "# Yeild Keyword \n",
    "# The yield keyword is used in a generator function to specify the value to be yielded. \n",
    "# When the generator function is called, it returns an iterator object, which can be used to iterate over the generated values\n",
    "# Each time the yield statement is encountered, the current state of the generator function is saved,\n",
    "# and the yielded value is returned. The next time the generator's iterator is called, execution resumes from where it left off, \n",
    "# continuing until the next yield statement or until the function ends\n",
    "\n",
    "def test_fibo(n):\n",
    "    a,b=0,1\n",
    "    for i in range (n):\n",
    "        yield a\n",
    "        a,b = b, b+a\n",
    "data=test_fibo(10)\n",
    "for i in data:\n",
    "    print(i)"
   ]
  },
  {
   "cell_type": "code",
   "execution_count": 25,
   "id": "f37dc437-6779-42d9-a1c6-388705337eaa",
   "metadata": {},
   "outputs": [
    {
     "name": "stdout",
     "output_type": "stream",
     "text": [
      "2\n",
      "3\n",
      "5\n",
      "7\n",
      "11\n",
      "13\n",
      "17\n",
      "19\n",
      "23\n",
      "29\n",
      "31\n",
      "37\n",
      "41\n",
      "43\n",
      "47\n",
      "53\n",
      "59\n",
      "61\n",
      "67\n",
      "71\n"
     ]
    }
   ],
   "source": [
    "# Q5 \n",
    "# Create a generator function for prime numbers less than 1000. Use the next() method to print the\n",
    "# first 20 prime numbers.\n",
    "\n",
    "def PrimeNumbers(n):\n",
    "    i=2\n",
    "    \n",
    "    while i < n:\n",
    "        j=2\n",
    "        primeFlag=1\n",
    "\n",
    "        while j < i:\n",
    "            if i % j == 0:\n",
    "                primeFlag = 0\n",
    "                break\n",
    "            j=j+1\n",
    "        if primeFlag == 1:\n",
    "            yield j\n",
    "            \n",
    "        i=i+1\n",
    "data=PrimeNumbers(1000)\n",
    "my_iterator = iter(data)\n",
    "for _ in range(20):\n",
    "    element = next(my_iterator)\n",
    "    print(element)"
   ]
  },
  {
   "cell_type": "code",
   "execution_count": 36,
   "id": "feeb0813-4f0d-41cb-b8fc-002cd2c6b864",
   "metadata": {},
   "outputs": [
    {
     "name": "stdout",
     "output_type": "stream",
     "text": [
      "[0, 1, 1, 2, 3, 5, 8, 13, 21, 34]\n"
     ]
    }
   ],
   "source": [
    "# Q6\n",
    "# Write a python program to print the first 10 Fibonacci numbers using a while loop.\n",
    "def fibo(num):\n",
    "    a,b=0,1\n",
    "    result=[]\n",
    "    counter=0\n",
    "    while counter < num:\n",
    "        result.append(a)\n",
    "        temp=a\n",
    "        a=b\n",
    "        b=temp+a\n",
    "        counter=counter+1\n",
    "    return result\n",
    "answer=fibo(10)\n",
    "print(answer)"
   ]
  },
  {
   "cell_type": "code",
   "execution_count": 39,
   "id": "1f8fd337-a65b-49d2-bfb7-9e5fc1cfb668",
   "metadata": {},
   "outputs": [
    {
     "name": "stdout",
     "output_type": "stream",
     "text": [
      "['P', 'w', 's', 'k', 'i', 'l', 'l', 's']\n"
     ]
    }
   ],
   "source": [
    "# Q7 \n",
    "# Q7. Write a List Comprehension to iterate through the given string: ‘pwskills’.\n",
    "# Expected output: ['p', 'w', 's', 'k', 'i', 'l', 'l', 's']\n",
    "\n",
    "def pwskills(var):\n",
    "    li=[]\n",
    "    li=[i for i in var]\n",
    "    return li\n",
    "print(pwskills(\"Pwskills\"))"
   ]
  },
  {
   "cell_type": "code",
   "execution_count": 47,
   "id": "c83c3489-0e29-4fbb-b2a7-2905c5b79061",
   "metadata": {},
   "outputs": [
    {
     "name": "stdout",
     "output_type": "stream",
     "text": [
      "True\n",
      "False\n"
     ]
    }
   ],
   "source": [
    "# Q8. Write a python program to check whether a given number is Palindrome or not using a while loop.\n",
    "def check_palindrome(var):\n",
    "    temp=var\n",
    "    rev=0\n",
    "    while var >0:\n",
    "        rev = (rev *10) + (var % 10)\n",
    "        var = var // 10\n",
    "    if rev == temp:\n",
    "        return True\n",
    "    else :\n",
    "        return False\n",
    "print(check_palindrome(121))\n",
    "print(check_palindrome(234))        "
   ]
  },
  {
   "cell_type": "code",
   "execution_count": 49,
   "id": "c43ae987-899e-4d0d-a75f-d2e61da6e057",
   "metadata": {},
   "outputs": [
    {
     "data": {
      "text/plain": [
       "[1,\n",
       " 3,\n",
       " 5,\n",
       " 7,\n",
       " 9,\n",
       " 11,\n",
       " 13,\n",
       " 15,\n",
       " 17,\n",
       " 19,\n",
       " 21,\n",
       " 23,\n",
       " 25,\n",
       " 27,\n",
       " 29,\n",
       " 31,\n",
       " 33,\n",
       " 35,\n",
       " 37,\n",
       " 39,\n",
       " 41,\n",
       " 43,\n",
       " 45,\n",
       " 47,\n",
       " 49,\n",
       " 51,\n",
       " 53,\n",
       " 55,\n",
       " 57,\n",
       " 59,\n",
       " 61,\n",
       " 63,\n",
       " 65,\n",
       " 67,\n",
       " 69,\n",
       " 71,\n",
       " 73,\n",
       " 75,\n",
       " 77,\n",
       " 79,\n",
       " 81,\n",
       " 83,\n",
       " 85,\n",
       " 87,\n",
       " 89,\n",
       " 91,\n",
       " 93,\n",
       " 95,\n",
       " 97,\n",
       " 99]"
      ]
     },
     "execution_count": 49,
     "metadata": {},
     "output_type": "execute_result"
    }
   ],
   "source": [
    "# Q9. Write a code to print odd numbers from 1 to 100 using list comprehension.\n",
    "def print_oddNumbers():\n",
    "    a,b=1,100\n",
    "    li=[i for i in range(a,b+1) if i % 2 != 0]\n",
    "    return li\n",
    "print_oddNumbers()"
   ]
  },
  {
   "cell_type": "code",
   "execution_count": null,
   "id": "481d0d74-69cd-4dda-a783-1a6de8444308",
   "metadata": {},
   "outputs": [],
   "source": []
  }
 ],
 "metadata": {
  "kernelspec": {
   "display_name": "Python 3 (ipykernel)",
   "language": "python",
   "name": "python3"
  },
  "language_info": {
   "codemirror_mode": {
    "name": "ipython",
    "version": 3
   },
   "file_extension": ".py",
   "mimetype": "text/x-python",
   "name": "python",
   "nbconvert_exporter": "python",
   "pygments_lexer": "ipython3",
   "version": "3.10.8"
  }
 },
 "nbformat": 4,
 "nbformat_minor": 5
}
