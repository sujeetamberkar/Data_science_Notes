{
 "cells": [
  {
   "cell_type": "code",
   "execution_count": 22,
   "id": "10336177-4ef2-49c1-a511-c9b57c98aa6f",
   "metadata": {},
   "outputs": [
    {
     "data": {
      "text/plain": [
       "'Valid Password'"
      ]
     },
     "execution_count": 22,
     "metadata": {},
     "output_type": "execute_result"
    }
   ],
   "source": [
    "# Q1) \n",
    "\"\"\"\n",
    "Q1. You are writing code for a company. The requirement of the company is that you create a python\n",
    "function that will check whether the password entered by the user is correct or not. The function should\n",
    "take the password as input and return the string “Valid Password” if the entered password follows the\n",
    "below-given password guidelines else it should return “Invalid Password”.\n",
    "Note: 1. The Password should contain at least two uppercase letters and at least two lowercase letters.\n",
    "2. The Password should contain at least a number and three special characters.\n",
    "3. The length of the password should be 10 characters long.\n",
    "\"\"\"\n",
    "def check_password(password):\n",
    "    if len(password) != 10:\n",
    "        return \"Invalid Password\"\n",
    "\n",
    "    upper_count = sum(1 for c in password if c.isupper())\n",
    "    if upper_count < 2:\n",
    "        return \"Invalid Password\"\n",
    "\n",
    "    lower_count = sum(1 for c in password if c.islower())\n",
    "    if lower_count < 2:\n",
    "        return \"Invalid Password\"\n",
    "\n",
    "    digit_count = sum(1 for c in password if c.isdigit())\n",
    "    if digit_count < 1:\n",
    "        return \"Invalid Password\"\n",
    "\n",
    "    special_chars = \"!@#$%^&*()_+=\"\n",
    "    special_count = sum(1 for c in password if c in special_chars)\n",
    "    if special_count < 3:\n",
    "        return \"Invalid Password\"\n",
    "\n",
    "    return \"Valid Password\"\n",
    "check_password(\"Ab#2$3Xy!#\")"
   ]
  },
  {
   "cell_type": "code",
   "execution_count": 24,
   "id": "80d5180a-bd64-4d0b-9e2f-5c71171b07eb",
   "metadata": {},
   "outputs": [
    {
     "data": {
      "text/plain": [
       "True"
      ]
     },
     "execution_count": 24,
     "metadata": {},
     "output_type": "execute_result"
    }
   ],
   "source": [
    "# Q2)\n",
    "# a)\n",
    "# Check if the string starts with a particular letter\n",
    "string=\"Apple\"\n",
    "letter = \"A\"\n",
    "\n",
    "x= True if string[0] is letter else False\n",
    "x"
   ]
  },
  {
   "cell_type": "code",
   "execution_count": 9,
   "id": "3d988e76-77a9-4022-9cc5-18bdcb4a2cd0",
   "metadata": {},
   "outputs": [
    {
     "name": "stdout",
     "output_type": "stream",
     "text": [
      "True\n"
     ]
    }
   ],
   "source": [
    "# B) Check if the string is numeric\n",
    "is_numeric = lambda x: x.isnumeric()\n",
    "print(is_numeric(\"13\"))  # Change the string as required\n"
   ]
  },
  {
   "cell_type": "code",
   "execution_count": 14,
   "id": "2ced73c2-63a7-40e1-9397-b015e515d199",
   "metadata": {},
   "outputs": [
    {
     "name": "stdout",
     "output_type": "stream",
     "text": [
      "[('grapes', 1000), ('mango', 99), ('orange', 80)]\n"
     ]
    }
   ],
   "source": [
    "# C)\n",
    "fruit_list = [(\"mango\",99),(\"orange\",80), (\"grapes\", 1000)]\n",
    "fruit_list.sort()\n",
    "print(fruit_list)"
   ]
  },
  {
   "cell_type": "code",
   "execution_count": 15,
   "id": "2bf9b2e4-9393-452b-a40d-f93fae5d0156",
   "metadata": {},
   "outputs": [
    {
     "name": "stdout",
     "output_type": "stream",
     "text": [
      "[1, 4, 9, 16, 25, 36, 49, 64, 81, 100]\n"
     ]
    }
   ],
   "source": [
    "# D) Find the squares of numbers from 1 to 10\n",
    "squares = [x*x for x in range(1, 11)]\n",
    "print(squares)\n"
   ]
  },
  {
   "cell_type": "code",
   "execution_count": 17,
   "id": "1580ff1d-78f3-4447-a46d-48fa487bbec3",
   "metadata": {},
   "outputs": [
    {
     "name": "stdout",
     "output_type": "stream",
     "text": [
      "[1.0, 1.26, 1.44, 1.59, 1.71, 1.82, 1.91, 2.0, 2.08, 2.15]\n"
     ]
    }
   ],
   "source": [
    "# E) Find the cube root of numbers from 1 to 10\n",
    "cube_roots = [round(x**(1/3), 2) for x in range(1, 11)]  # rounding to 2 decimal places\n",
    "print(cube_roots)\n"
   ]
  },
  {
   "cell_type": "code",
   "execution_count": 19,
   "id": "bbb649b2-eea8-44cc-8e84-955305fc6049",
   "metadata": {},
   "outputs": [
    {
     "name": "stdout",
     "output_type": "stream",
     "text": [
      "True\n"
     ]
    }
   ],
   "source": [
    "# F) Check if a given number is even\n",
    "is_even = lambda x: x % 2 == 0\n",
    "print(is_even(4))  # Change the number as required\n"
   ]
  },
  {
   "cell_type": "code",
   "execution_count": 20,
   "id": "d3fc50d6-3d90-4586-9cc4-72dc2ed50634",
   "metadata": {},
   "outputs": [
    {
     "name": "stdout",
     "output_type": "stream",
     "text": [
      "[1, 3, 5, 7, 9]\n"
     ]
    }
   ],
   "source": [
    "# G) Filter odd numbers from the given list.\n",
    "numbers = [1,2,3,4,5,6,7,8,9,10]\n",
    "odd_numbers = list(filter(lambda x: x % 2 != 0, numbers))\n",
    "print(odd_numbers)\n"
   ]
  },
  {
   "cell_type": "code",
   "execution_count": 21,
   "id": "8377e8b1-7b78-4c19-809b-cb214dbb5478",
   "metadata": {},
   "outputs": [
    {
     "name": "stdout",
     "output_type": "stream",
     "text": [
      "Positive Numbers:  [1, 2, 3, 4, 5, 6, 0]\n",
      "Negative Numbers:  [-1, -2, -3, -4, -5]\n"
     ]
    }
   ],
   "source": [
    "# G) Filter odd numbers from the given list.\n",
    "numbers = [1,2,3,4,5,6,-1,-2,-3,-4,-5,0]\n",
    "positive_numbers = [x for x in numbers if x >= 0]\n",
    "negative_numbers = [x for x in numbers if x < 0]\n",
    "print(\"Positive Numbers: \", positive_numbers)\n",
    "print(\"Negative Numbers: \", negative_numbers)\n"
   ]
  },
  {
   "cell_type": "code",
   "execution_count": null,
   "id": "44673e9e-a360-4f47-b4e1-ca89bf6767e4",
   "metadata": {},
   "outputs": [],
   "source": []
  }
 ],
 "metadata": {
  "kernelspec": {
   "display_name": "Python 3 (ipykernel)",
   "language": "python",
   "name": "python3"
  },
  "language_info": {
   "codemirror_mode": {
    "name": "ipython",
    "version": 3
   },
   "file_extension": ".py",
   "mimetype": "text/x-python",
   "name": "python",
   "nbconvert_exporter": "python",
   "pygments_lexer": "ipython3",
   "version": "3.10.8"
  }
 },
 "nbformat": 4,
 "nbformat_minor": 5
}
