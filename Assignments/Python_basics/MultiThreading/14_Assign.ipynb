{
 "cells": [
  {
   "cell_type": "code",
   "execution_count": 1,
   "id": "aab27996-6de0-40a4-b50b-f27848b958e3",
   "metadata": {},
   "outputs": [
    {
     "data": {
      "text/plain": [
       "'\\n    1)Multithreading in Python is a method of executing multiple threads concurrently.\\n    2)It is used to increase the efficiency of the program by allowing \\n      multiple operations to run parallelly without blocking the main program.\\n    3)The threading module is used to handle threads in Python.\\n'"
      ]
     },
     "execution_count": 1,
     "metadata": {},
     "output_type": "execute_result"
    }
   ],
   "source": [
    "# Q1). What is multithreading in python? hy is it used? Name the module used to handle threads in python\n",
    "\"\"\"\n",
    "    1)Multithreading in Python is a method of executing multiple threads concurrently.\n",
    "    2)It is used to increase the efficiency of the program by allowing \n",
    "      multiple operations to run parallelly without blocking the main program.\n",
    "    3)The threading module is used to handle threads in Python.\n",
    "\"\"\""
   ]
  },
  {
   "cell_type": "code",
   "execution_count": 2,
   "id": "9859ed99-017d-401c-9d2b-2a8251e55149",
   "metadata": {},
   "outputs": [],
   "source": [
    "# Q2) Why threading module used? Write the use of the following functions\n",
    "# activeCount\n",
    "# currentThread\n",
    "# enumerate\n",
    "\n",
    "\"\"\"\n",
    "    The threading module in Python is used to create, control, and manage threads in a Python program for \n",
    "    concurrent execution to improve performance.\n",
    "\n",
    "    Functions:\n",
    "\n",
    "    a) activeCount: Returns the number of Thread objects currently alive. \n",
    "                    This corresponds to the total number of actively running threads.\n",
    "\n",
    "    b) currentThread: Returns the current Thread object, corresponding to the caller's thread of control.\n",
    "\n",
    "    c) enumerate: Returns a list of all Thread objects currently alive. \n",
    "                  This includes the main thread, daemon threads, and non-daemon threads.\n",
    "\"\"\""
   ]
  },
  {
   "cell_type": "code",
   "execution_count": null,
   "id": "fcd614e0-2199-4c0c-9a0a-a1659b2c71be",
   "metadata": {},
   "outputs": [],
   "source": [
    "# Q 3. Explain the following functions\n",
    "# 1) run\n",
    "# 2) start\n",
    "# 3) join\n",
    "# 4) isAlive\n",
    "\"\"\"\n",
    "    run: Executes the code within a thread.\n",
    "    start: Initiates the execution of a thread.\n",
    "    join: Waits for a thread to complete before continuing.\n",
    "    isAlive: Checks if a thread is currently running.\n",
    "\"\"\""
   ]
  },
  {
   "cell_type": "code",
   "execution_count": 3,
   "id": "f6368d2d-7de1-416a-b0c2-e6fd503e4563",
   "metadata": {},
   "outputs": [
    {
     "name": "stdout",
     "output_type": "stream",
     "text": [
      "Square: 1\n",
      "Square: 4\n",
      "Square: 9\n",
      "Square: 16\n",
      "Square: 25\n",
      "Cube: 1\n",
      "Cube: 8\n",
      "Cube: 27\n",
      "Cube: 64\n",
      "Cube: 125\n",
      "Done!\n"
     ]
    }
   ],
   "source": [
    "\"\"\"\n",
    "Q4) Write a python program to create two threads. Thread one must print the list of squares and thread\n",
    "two must print the list of cubes\n",
    "\"\"\"\n",
    "import threading\n",
    "# Function to print squares\n",
    "def print_squares(numbers):\n",
    "    for n in numbers:\n",
    "        print('Square:', n * n)\n",
    "\n",
    "# Function to print cubes\n",
    "def print_cubes(numbers):\n",
    "    for n in numbers:\n",
    "        print('Cube:', n * n * n)\n",
    "# Create lists of numbers\n",
    "numbers = [1, 2, 3, 4, 5]\n",
    "\n",
    "# Create threads\n",
    "t1 = threading.Thread(target=print_squares, args=(numbers,))\n",
    "t2 = threading.Thread(target=print_cubes, args=(numbers,))\n",
    "\n",
    "# Start threads\n",
    "t1.start()\n",
    "t2.start()\n",
    "\n",
    "# Wait for both threads to finish\n",
    "t1.join()\n",
    "t2.join()\n",
    "\n",
    "print('Done!')\n"
   ]
  },
  {
   "cell_type": "code",
   "execution_count": null,
   "id": "8aeea93b-cf38-4e4f-8039-b3c5381185ea",
   "metadata": {},
   "outputs": [],
   "source": [
    "# Q5 ) Advantages and disadvantages of Multi-Threading \n",
    "\"\"\"\n",
    "Advantages:\n",
    "\n",
    "    Improved performance\n",
    "    Responsiveness\n",
    "    Resource sharing\n",
    "\n",
    "Disadvantages:\n",
    "\n",
    "    Complexity and difficulty in debugging\n",
    "    Increased risk of synchronization issues and data races\n",
    "    Potential for increased resource consumption\n",
    "    Limited scalability on single-core systems\n",
    "\"\"\""
   ]
  }
 ],
 "metadata": {
  "kernelspec": {
   "display_name": "Python 3 (ipykernel)",
   "language": "python",
   "name": "python3"
  },
  "language_info": {
   "codemirror_mode": {
    "name": "ipython",
    "version": 3
   },
   "file_extension": ".py",
   "mimetype": "text/x-python",
   "name": "python",
   "nbconvert_exporter": "python",
   "pygments_lexer": "ipython3",
   "version": "3.10.8"
  }
 },
 "nbformat": 4,
 "nbformat_minor": 5
}
