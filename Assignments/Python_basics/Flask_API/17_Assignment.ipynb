{
 "cells": [
  {
   "cell_type": "code",
   "execution_count": 1,
   "id": "78feb822-a943-4299-a886-ddc75ad84c40",
   "metadata": {},
   "outputs": [
    {
     "ename": "SyntaxError",
     "evalue": "invalid syntax (4030195605.py, line 1)",
     "output_type": "error",
     "traceback": [
      "\u001b[0;36m  Cell \u001b[0;32mIn[1], line 1\u001b[0;36m\u001b[0m\n\u001b[0;31m    Q1. What is an API? Give an example, where an API is used in real life.\u001b[0m\n\u001b[0m                   ^\u001b[0m\n\u001b[0;31mSyntaxError\u001b[0m\u001b[0;31m:\u001b[0m invalid syntax\n"
     ]
    }
   ],
   "source": [
    "# Q1. What is an API? Give an example, where an API is used in real life.\n",
    "\"\"\"\n",
    " An API (Application Programming Interface) is a set of protocols and tools that allow different software applications to \n",
    " communicate with each other. It enables software to request services from another software application, not the user.\n",
    "A real-life example is logging into an app using your Gmail account. Google provides an API that the app uses to request \n",
    "access to your Gmail account details. When you hit 'log in with Google', the app calls Google's API, which in turn sends the \n",
    "request to Google's servers. The servers respond with the requested details (if you have given permission), allowing you to log in.\n",
    "\n",
    "Another example is a UPI (Unified Payments Interface) payment. Banks provide APIs that enable financial transactions.\n",
    "When you use a UPI payment app to send money, the app uses the bank's API to request transaction services (checking account \n",
    "balance, verifying the recipient's account, making the transfer). The bank's servers respond, and the transaction goes through.\"\"\"\n"
   ]
  },
  {
   "cell_type": "code",
   "execution_count": 2,
   "id": "91146f64-95fa-47a8-b9a6-f336f4b0eb04",
   "metadata": {},
   "outputs": [
    {
     "data": {
      "text/plain": [
       "'\\nQ2. Give advantages and disadvantages of using API.?\\n\\nAdvantages of APIs:\\n    Efficiency: APIs allow different software systems to communicate, speeding up processes.\\n    Integration: They enable different software systems to work together and share data.\\n    Automation: APIs can automate tasks by connecting different services.\\n    Scalability: APIs allow systems to expand and accommodate more users or services.\\n'"
      ]
     },
     "execution_count": 2,
     "metadata": {},
     "output_type": "execute_result"
    }
   ],
   "source": [
    "\"\"\"\n",
    "Q2. Give advantages and disadvantages of using API.?\n",
    "\n",
    "Advantages of APIs:\n",
    "    Efficiency: APIs allow different software systems to communicate, speeding up processes.\n",
    "    Integration: They enable different software systems to work together and share data.\n",
    "    Automation: APIs can automate tasks by connecting different services.\n",
    "    Scalability: APIs allow systems to expand and accommodate more users or services.\n",
    "    \n",
    "Disadvantages of APIs:\n",
    "\n",
    "    Dependency: If an API changes or goes down, it could affect the dependent services.\n",
    "    Security risks: If not properly secured, APIs can be a potential point of attack.\n",
    "    Compatibility issues: Not all APIs work seamlessly with all systems.\n",
    "    Complexity: APIs can add an additional layer of complexity to software development.\n",
    "\"\"\""
   ]
  },
  {
   "cell_type": "code",
   "execution_count": 3,
   "id": "4b593032-9ed5-431a-a6f1-3288ac1c4b27",
   "metadata": {},
   "outputs": [
    {
     "data": {
      "text/plain": [
       "\"\\nQ3. What is a Web API? Differentiate between API and Web API. ?\\n\\nA Web API is a specific type of API that operates over the internet using HTTP protocol, enabling communication between \\ndifferent software systems on the web.\\n\\nAPI vs Web API:\\n\\n    An API (Application Programming Interface) is a general term referring to the interface that allows different software systems\\n    to communicate, irrespective of the medium of communication. APIs can be used for communication between parts of the same \\n    system (local/intra-system communication), or with external systems.\\n\\n    A Web API, on the other hand, is a type of API that specifically facilitates interaction between different systems over the\\n    web using HTTP. It's a subset of APIs designed for web-based communication.\\n\\nIn essence, all Web APIs are APIs, but not all APIs are Web APIs. For example, operating system APIs used for intra-system \\ncommunication aren't Web APIs.\\n\""
      ]
     },
     "execution_count": 3,
     "metadata": {},
     "output_type": "execute_result"
    }
   ],
   "source": [
    "\"\"\"\n",
    "Q3. What is a Web API? Differentiate between API and Web API. ?\n",
    "\n",
    "A Web API is a specific type of API that operates over the internet using HTTP protocol, enabling communication between \n",
    "different software systems on the web.\n",
    "\n",
    "API vs Web API:\n",
    "\n",
    "    An API (Application Programming Interface) is a general term referring to the interface that allows different software systems\n",
    "    to communicate, irrespective of the medium of communication. APIs can be used for communication between parts of the same \n",
    "    system (local/intra-system communication), or with external systems.\n",
    "\n",
    "    A Web API, on the other hand, is a type of API that specifically facilitates interaction between different systems over the\n",
    "    web using HTTP. It's a subset of APIs designed for web-based communication.\n",
    "\n",
    "In essence, all Web APIs are APIs, but not all APIs are Web APIs. For example, operating system APIs used for intra-system \n",
    "communication aren't Web APIs.\n",
    "\"\"\""
   ]
  },
  {
   "cell_type": "code",
   "execution_count": 4,
   "id": "638c6209-1860-482e-a020-ee3a65da11a7",
   "metadata": {},
   "outputs": [
    {
     "data": {
      "text/plain": [
       "\"\\nQ4. Explain REST and SOAP Architecture. Mention shortcomings of SOAP.\\nANS:\\nREST (Representational State Transfer) is an architectural style used in Web APIs. It utilizes HTTP methods \\n(GET, POST, PUT, DELETE) to perform operations. REST is stateless, meaning each request from client to server must contain all \\nthe information needed to understand the request, and cannot take advantage of any stored context on the server. \\nIt's more flexible and easy to use, and generally best suited for web use due to its lightweight nature.\\n\\nSOAP (Simple Object Access Protocol) is a protocol which is used for exchanging structured information in the implementation \\nof web services using XML. It can work with any application layer protocol, such as HTTP, SMTP, TCP, etc., not just HTTP. SOAP\\nprovides robust security features and supports ACID transactions, which makes it suitable for high-security, reliable applications.\\n\\nShortcomings of SOAP:\\n\\n    Complexity: SOAP is more complex and has a steep learning curve compared to REST.\\n    Overhead: Due to its extensive standards and XML usage, SOAP can be slower and require more bandwidth.\\n    Less flexible: SOAP is less flexible to cache and has strict rules to follow, making it less developer-friendly.\\n\""
      ]
     },
     "execution_count": 4,
     "metadata": {},
     "output_type": "execute_result"
    }
   ],
   "source": [
    "\"\"\"\n",
    "Q4. Explain REST and SOAP Architecture. Mention shortcomings of SOAP.\n",
    "ANS:\n",
    "REST (Representational State Transfer) is an architectural style used in Web APIs. It utilizes HTTP methods \n",
    "(GET, POST, PUT, DELETE) to perform operations. REST is stateless, meaning each request from client to server must contain all \n",
    "the information needed to understand the request, and cannot take advantage of any stored context on the server. \n",
    "It's more flexible and easy to use, and generally best suited for web use due to its lightweight nature.\n",
    "\n",
    "SOAP (Simple Object Access Protocol) is a protocol which is used for exchanging structured information in the implementation \n",
    "of web services using XML. It can work with any application layer protocol, such as HTTP, SMTP, TCP, etc., not just HTTP. SOAP\n",
    "provides robust security features and supports ACID transactions, which makes it suitable for high-security, reliable applications.\n",
    "\n",
    "Shortcomings of SOAP:\n",
    "\n",
    "    Complexity: SOAP is more complex and has a steep learning curve compared to REST.\n",
    "    Overhead: Due to its extensive standards and XML usage, SOAP can be slower and require more bandwidth.\n",
    "    Less flexible: SOAP is less flexible to cache and has strict rules to follow, making it less developer-friendly.\n",
    "\"\"\""
   ]
  },
  {
   "cell_type": "code",
   "execution_count": 5,
   "id": "8abb5343-9a6e-4888-9ab0-5f2a1a475d47",
   "metadata": {},
   "outputs": [
    {
     "data": {
      "text/plain": [
       "\"\\nQ5. Differentiate between REST and SOAP.\\n\\nREST (Representational State Transfer):\\n\\n    It uses standard HTTP methods and is stateless.\\n    It's simpler and more flexible.\\n    Better suited for web-based applications due to its lightweight nature.\\n    Supports multiple data formats, not only XML.\\n\\nSOAP (Simple Object Access Protocol):\\n\\n    It's a protocol that can work with any application layer protocol, not just HTTP.\\n    It's more complex and robust.\\n    Offers high security and ACID transactions, suitable for secure, reliable applications.\\n    It uses XML for message exchange and has a heavier data footprint.\\n\""
      ]
     },
     "execution_count": 5,
     "metadata": {},
     "output_type": "execute_result"
    }
   ],
   "source": [
    "\"\"\"\n",
    "Q5. Differentiate between REST and SOAP.\n",
    "\n",
    "REST (Representational State Transfer):\n",
    "\n",
    "    It uses standard HTTP methods and is stateless.\n",
    "    It's simpler and more flexible.\n",
    "    Better suited for web-based applications due to its lightweight nature.\n",
    "    Supports multiple data formats, not only XML.\n",
    "\n",
    "SOAP (Simple Object Access Protocol):\n",
    "\n",
    "    It's a protocol that can work with any application layer protocol, not just HTTP.\n",
    "    It's more complex and robust.\n",
    "    Offers high security and ACID transactions, suitable for secure, reliable applications.\n",
    "    It uses XML for message exchange and has a heavier data footprint.\n",
    "\"\"\""
   ]
  },
  {
   "cell_type": "code",
   "execution_count": null,
   "id": "4ed4e448-900b-481b-9363-3665fee18918",
   "metadata": {},
   "outputs": [],
   "source": []
  }
 ],
 "metadata": {
  "kernelspec": {
   "display_name": "Python 3 (ipykernel)",
   "language": "python",
   "name": "python3"
  },
  "language_info": {
   "codemirror_mode": {
    "name": "ipython",
    "version": 3
   },
   "file_extension": ".py",
   "mimetype": "text/x-python",
   "name": "python",
   "nbconvert_exporter": "python",
   "pygments_lexer": "ipython3",
   "version": "3.10.8"
  }
 },
 "nbformat": 4,
 "nbformat_minor": 5
}
