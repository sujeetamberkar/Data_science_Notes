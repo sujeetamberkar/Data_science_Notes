{
 "cells": [
  {
   "cell_type": "code",
   "execution_count": 1,
   "id": "5b178fc3-8e28-42c7-97cd-bb324f43b792",
   "metadata": {},
   "outputs": [
    {
     "name": "stdout",
     "output_type": "stream",
     "text": [
      "('Virat Kohli', 24936)\n",
      "('Jack Kallis', 25534)\n",
      "('Ricky Ponting', 27483)\n",
      "('Sachin Tendulkar', 34357)\n"
     ]
    }
   ],
   "source": [
    "# Q1. Create a python program to sort the given list of tuples based on integer value using a lambda function.\n",
    "# List of tuples\n",
    "my_list = [('Sachin Tendulkar', 34357), ('Ricky Ponting', 27483), ('Jack Kallis', 25534), ('Virat Kohli', 24936)]\n",
    "\n",
    "# Bubble sort implementation with lambda function\n",
    "n = len(my_list)\n",
    "for i in range(n):\n",
    "    for j in range(0, n-i-1):\n",
    "        if (lambda x: x[1])(my_list[j]) > (lambda x: x[1])(my_list[j+1]):\n",
    "            my_list[j], my_list[j+1] = my_list[j+1], my_list[j]\n",
    "\n",
    "# Printing the sorted list\n",
    "for item in my_list:\n",
    "    print(item)\n"
   ]
  },
  {
   "cell_type": "code",
   "execution_count": 2,
   "id": "d95514d5-1654-4857-a0be-2372eb0db090",
   "metadata": {},
   "outputs": [
    {
     "name": "stdout",
     "output_type": "stream",
     "text": [
      "[1, 4, 9, 16, 25, 36, 49, 64, 81, 100]\n"
     ]
    }
   ],
   "source": [
    "# Q2. Write a Python Program to find the squares of all the numbers in the given list of integers using lambda and map functions.\n",
    "list1=[1, 2, 3, 4, 5, 6, 7, 8, 9, 10]\n",
    "print(list(map(lambda x: x**2 , list1)))"
   ]
  },
  {
   "cell_type": "code",
   "execution_count": 4,
   "id": "f65be84c-837f-4dc9-b611-0cebd7649cf0",
   "metadata": {},
   "outputs": [
    {
     "name": "stdout",
     "output_type": "stream",
     "text": [
      "('1', '2', '3', '4', '5', '6', '7', '8', '9', '10')\n"
     ]
    }
   ],
   "source": [
    "# Q3. Write a python program to convert the given list of integers into a tuple of strings. Use map and lambda functions\n",
    "string1=[1, 2, 3, 4, 5, 6, 7, 8, 9, 10]\n",
    "print(tuple(map (lambda y:str(y),string1)))\n"
   ]
  },
  {
   "cell_type": "code",
   "execution_count": 9,
   "id": "2b110f72-b591-4243-8407-e69e64fbc688",
   "metadata": {},
   "outputs": [
    {
     "name": "stdout",
     "output_type": "stream",
     "text": [
      "15511210043330985984000000\n"
     ]
    }
   ],
   "source": [
    "# Q4. Write a python program using reduce function to compute the product of a list containing numbers from 1 to 25.\n",
    "list1=list(range(1,26))\n",
    "from functools import reduce\n",
    "print(reduce (lambda x,y:x*y,list1))"
   ]
  },
  {
   "cell_type": "code",
   "execution_count": 11,
   "id": "769ecca4-f0cd-486b-8eae-c81e42e3cd0a",
   "metadata": {},
   "outputs": [
    {
     "name": "stdout",
     "output_type": "stream",
     "text": [
      "[6, 60, 90, 120]\n"
     ]
    }
   ],
   "source": [
    "# Q5. Write a python program to filter the numbers in a given list that are divisible by 2 and 3 using the filter function.\n",
    "# [2, 3, 6, 9, 27, 60, 90, 120, 55, 46]\n",
    "\n",
    "list1=[2, 3, 6, 9, 27, 60, 90, 120, 55, 46]\n",
    "\n",
    "list2=list(filter (lambda x: x % 2 ==0 and x % 3 ==0 , list1  ))\n",
    "print(list2)"
   ]
  },
  {
   "cell_type": "code",
   "execution_count": null,
   "id": "b9479e8a-2848-462a-8107-72fde1fcd27e",
   "metadata": {},
   "outputs": [],
   "source": []
  }
 ],
 "metadata": {
  "kernelspec": {
   "display_name": "Python 3 (ipykernel)",
   "language": "python",
   "name": "python3"
  },
  "language_info": {
   "codemirror_mode": {
    "name": "ipython",
    "version": 3
   },
   "file_extension": ".py",
   "mimetype": "text/x-python",
   "name": "python",
   "nbconvert_exporter": "python",
   "pygments_lexer": "ipython3",
   "version": "3.10.8"
  }
 },
 "nbformat": 4,
 "nbformat_minor": 5
}
