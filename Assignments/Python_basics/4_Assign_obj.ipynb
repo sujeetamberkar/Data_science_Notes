{
 "cells": [
  {
   "cell_type": "code",
   "execution_count": 1,
   "id": "77202297-a054-4f37-87af-2f7cba4c4bdb",
   "metadata": {},
   "outputs": [],
   "source": [
    "#Q1. Explain Class and Object with respect to Object-Oriented Programming. Give a suitable example.\n",
    "\"\"\"\n",
    "Class: In object-oriented programming, a class is a blueprint for creating objects (a particular data structure),\n",
    "Object: An object is an instance of a class. When a class is defined, no memory is allocated but when it is instantiated\n",
    "\n",
    "\"\"\"\n",
    "class bank:\n",
    "    def __init__(self,balance):\n",
    "        self.__balance=balance\n",
    "    \n",
    "    def deposit(self,amount):\n",
    "        if amount>0:\n",
    "            self.__balance=self.__balance+amount\n",
    "            return True\n",
    "        else:\n",
    "            return False\n",
    "    def withdraw(self,amount):\n",
    "        if self.__balance>amount:\n",
    "            self.__balance=self.__balance-amount\n",
    "            return True\n",
    "        else:\n",
    "            return False\n",
    "    def get_balance(self):\n",
    "        return self.__balance\n",
    "    \n",
    "b=bank(2000)"
   ]
  },
  {
   "cell_type": "code",
   "execution_count": 3,
   "id": "12489d16-ede1-4044-a496-f1f2d4b1481a",
   "metadata": {},
   "outputs": [
    {
     "data": {
      "text/plain": [
       "'\\nThe four pillars of object-oriented programming (OOP) are:\\n\\n    Encapsulation: Encapsulation refers to the bundling of data and methods into a single unit called an object. \\n                    It allows the object to control access to its internal state and behavior, providing a way to hide the \\n                    implementation details and expose only the necessary information through well-defined interfaces.\\n\\n    Inheritance: Inheritance enables the creation of new classes based on existing classes. It allows a class to inherit \\n                 the properties and methods of another class, called the superclass or base class.\\n                 The derived class, also known as the subclass or derived class, can add new features or override existing\\n                 ones while maintaining the characteristics of the base class.\\n\\n    Polymorphism: Polymorphism means the ability of objects of different classes to respond to the same message or method call \\n                  in different ways. It allows objects of different types to be treated as instances of a common superclass,\\n                  providing flexibility and extensibility in designing and implementing systems.\\n\\n    Abstraction: Abstraction involves simplifying complex systems by representing essential features while hiding unnecessary \\n                details. It allows programmers to focus on the relevant aspects of an object or system, ignoring the \\n                irrelevant complexities. Abstraction is achieved through abstract classes and interfaces, which define common \\n                characteristics and behaviors that can be shared by multiple classes\\n'"
      ]
     },
     "execution_count": 3,
     "metadata": {},
     "output_type": "execute_result"
    }
   ],
   "source": [
    "# Q2. Name the four pillars of OOPs.\n",
    "\"\"\"\n",
    "The four pillars of object-oriented programming (OOP) are:\n",
    "\n",
    "    Encapsulation: Encapsulation refers to the bundling of data and methods into a single unit called an object. \n",
    "                    It allows the object to control access to its internal state and behavior, providing a way to hide the \n",
    "                    implementation details and expose only the necessary information through well-defined interfaces.\n",
    "\n",
    "    Inheritance: Inheritance enables the creation of new classes based on existing classes. It allows a class to inherit \n",
    "                 the properties and methods of another class, called the superclass or base class.\n",
    "                 The derived class, also known as the subclass or derived class, can add new features or override existing\n",
    "                 ones while maintaining the characteristics of the base class.\n",
    "\n",
    "    Polymorphism: Polymorphism means the ability of objects of different classes to respond to the same message or method call \n",
    "                  in different ways. It allows objects of different types to be treated as instances of a common superclass,\n",
    "                  providing flexibility and extensibility in designing and implementing systems.\n",
    "\n",
    "    Abstraction: Abstraction involves simplifying complex systems by representing essential features while hiding unnecessary \n",
    "                details. It allows programmers to focus on the relevant aspects of an object or system, ignoring the \n",
    "                irrelevant complexities. Abstraction is achieved through abstract classes and interfaces, which define common \n",
    "                characteristics and behaviors that can be shared by multiple classes\n",
    "\"\"\""
   ]
  },
  {
   "cell_type": "code",
   "execution_count": 4,
   "id": "75ab1c74-4c51-426b-954b-6df120cf399d",
   "metadata": {},
   "outputs": [],
   "source": [
    "# Q3  __init__()\n",
    "\"\"\"\n",
    "The __init__() function is a special method in Python that is automatically called when an object is created from a class. \n",
    "It is commonly used to initialize the attributes of an object and perform any necessary setup or configuration.\n",
    "The primary purpose of the __init__() function is to ensure that the object starts in a valid state by setting its initial attributes. \n",
    "\"\"\"\n",
    "class car:\n",
    "    def __init__(self, year, make, model, speed):\n",
    "        self.__year = year\n",
    "        self.__model = model\n",
    "        self.__make = make\n",
    "        self.speed = 0  # Assign the provided speed value, instead of setting it to 0\n",
    "\n",
    "d = car(2023, 1, 'tesla', 45)  # Removed unnecessary int() conversion for the make paramete"
   ]
  },
  {
   "cell_type": "code",
   "execution_count": 5,
   "id": "7e0b98ea-7ba9-4e2f-8286-1fadeba57291",
   "metadata": {},
   "outputs": [],
   "source": [
    "# Q4. Why self is used in OOPs?\n",
    "\"\"\"\n",
    "In object-oriented programming (OOP), the self parameter is used to refer to the instance of a class within its own methods. \n",
    "It is a convention in Python to name this parameter as self, although you can technically choose any name for it.\n",
    "The self parameter allows an instance of a class to access its own attributes and methods. When a method is called on an object, \n",
    "the self parameter implicitly passes a reference to that object, allowing the method to operate on the specific instance of the class.\n",
    "\"\"\"\n",
    "class car:\n",
    "    def __init__(self, year, make, model, speed):\n",
    "        self.__year = year\n",
    "        self.__model = model\n",
    "        self.__make = make\n",
    "        self.speed = 0  # Assign the provided speed value, instead of setting it to 0\n",
    "\n",
    "d = car(2023, 1, 'tesla', 45)  # Removed unnecessary int() conversion for the make paramete"
   ]
  },
  {
   "cell_type": "code",
   "execution_count": 8,
   "id": "71b6e579-9671-4f9f-9bf6-ba5334707e0f",
   "metadata": {},
   "outputs": [
    {
     "name": "stdout",
     "output_type": "stream",
     "text": [
      "Eating...\n",
      "Barking...\n"
     ]
    },
    {
     "data": {
      "text/plain": [
       "'This is my first class'"
      ]
     },
     "execution_count": 8,
     "metadata": {},
     "output_type": "execute_result"
    }
   ],
   "source": [
    "#Q5. What is inheritance? Give an example for each type of inheritance.\n",
    "\"\"\" \n",
    "Inheritance is a fundamental concept in object-oriented programming (OOP) that allows a class to inherit properties \n",
    "and behaviors from another class. The class that is being inherited from is called the superclass or base class, \n",
    "and the class that inherits from it is called the subclass or derived class.\"\"\"\n",
    "\n",
    "# Single Inheritance:\n",
    "\"\"\"\n",
    "Single inheritance involves one subclass inheriting from a single superclass. It forms a simple hierarchical relationship between classes\"\"\"\n",
    "class Animal:\n",
    "    def eat(self):\n",
    "        print(\"Eating...\")\n",
    "\n",
    "class Dog(Animal):\n",
    "    def bark(self):\n",
    "        print(\"Barking...\")\n",
    "\n",
    "my_dog = Dog()\n",
    "my_dog.eat()  # Inherited from Animal class\n",
    "my_dog.bark()  # Defined in Dog class\n",
    "\n",
    "# Multiple Inheritance:\n",
    "\"\"\" Multiple inheritance allows a subclass to inherit from multiple superclasses. \n",
    "The subclass inherits attributes and methods from all the superclasses.\"\"\"\n",
    "# multiple inheritence\n",
    "class class1:\n",
    "    def testclass1(self):\n",
    "        return \"This is class 1\"\n",
    "class class2:\n",
    "    def testclass2(self):\n",
    "        return \"This is class 2\"\n",
    "class class3(class1, class2):\n",
    "    pass\n",
    "class3_obj=class3()\n",
    "class3_obj.testclass1()\n",
    "\n",
    "\n",
    "# Multi Level Inheritence \n",
    "\"\"\" Multilevel inheritance involves a chain of inheritance where a subclass inherits from another subclass, forming a hierarchy of classes.\"\"\"\n",
    "class test:\n",
    "    def test_method(self):\n",
    "        return \"This is my first class\"\n",
    "class child_test(test):\n",
    "    pass\n",
    "c=child_test()\n",
    "c.test_method()"
   ]
  },
  {
   "cell_type": "code",
   "execution_count": null,
   "id": "f1cef0a9-9073-40cb-9bd0-e330ee2ad637",
   "metadata": {},
   "outputs": [],
   "source": []
  }
 ],
 "metadata": {
  "kernelspec": {
   "display_name": "Python 3 (ipykernel)",
   "language": "python",
   "name": "python3"
  },
  "language_info": {
   "codemirror_mode": {
    "name": "ipython",
    "version": 3
   },
   "file_extension": ".py",
   "mimetype": "text/x-python",
   "name": "python",
   "nbconvert_exporter": "python",
   "pygments_lexer": "ipython3",
   "version": "3.10.8"
  }
 },
 "nbformat": 4,
 "nbformat_minor": 5
}
