{
 "cells": [
  {
   "cell_type": "code",
   "execution_count": 2,
   "id": "772f336f-07e5-4980-9374-5038155a07b4",
   "metadata": {},
   "outputs": [],
   "source": [
    "# Q1) Create a vehicle class with an init method having instance variables as name_of_vehicle, max_speed and average_of_vehicle.|\n",
    "class Vehicle:\n",
    "    def __init__(self, name_of_vehicle, max_speed, average_of_vehicle):\n",
    "        self.name_of_vehicle = name_of_vehicle\n",
    "        self.max_speed = max_speed\n",
    "        self.average_of_vehicle = average_of_vehicle\n"
   ]
  },
  {
   "cell_type": "code",
   "execution_count": 3,
   "id": "b2710da9-c625-4817-ae49-d1fac9c7dbc5",
   "metadata": {},
   "outputs": [
    {
     "name": "stdout",
     "output_type": "stream",
     "text": [
      "Toyota Camry - Seating Capacity: 5\n"
     ]
    }
   ],
   "source": [
    "\"\"\"\n",
    "Q2. Create a child class car from the vehicle class created in Que 1, which will inherit the vehicle class.\n",
    "Create a method named seating_capacity which takes capacity as an argument and returns the name of\n",
    "the vehicle and its seating capacity.\n",
    "\"\"\"\n",
    "class Car(Vehicle):\n",
    "    def seating_capacity(self, capacity):\n",
    "        return self.name_of_vehicle + \" - Seating Capacity: \" + str(capacity)\n",
    "\n",
    "# Example usage\n",
    "car = Car(\"Toyota Camry\", 180, 25)\n",
    "print(car.seating_capacity(5))\n"
   ]
  },
  {
   "cell_type": "code",
   "execution_count": 4,
   "id": "5b49c85f-44bd-4b16-b9a5-ea39be419f0d",
   "metadata": {},
   "outputs": [
    {
     "data": {
      "text/plain": [
       "'This is class 1'"
      ]
     },
     "execution_count": 4,
     "metadata": {},
     "output_type": "execute_result"
    }
   ],
   "source": [
    "# Q3. What is multiple inheritance? Write a python code to demonstrate multiple inheritance.\n",
    "\"\"\"\n",
    "Multiple inheritance is a feature in object-oriented programming languages where a class can inherit attributes and methods\n",
    "from multiple parent classes. In Python, a class can inherit from multiple parent classes by listing them in the parentheses \n",
    "after the class name.\n",
    "\"\"\"\n",
    "# multiple inheritence\n",
    "class class1:\n",
    "    def testclass1(self):\n",
    "        return \"This is class 1\"\n",
    "class class2:\n",
    "    def testclass2(self):\n",
    "        return \"This is class 2\"\n",
    "class class3(class1, class2):\n",
    "    pass\n",
    "class3_obj=class3()\n",
    "class3_obj.testclass1()"
   ]
  },
  {
   "cell_type": "code",
   "execution_count": 6,
   "id": "d112b0da-270e-4c45-b931-a0d60bbc8413",
   "metadata": {},
   "outputs": [
    {
     "name": "stdout",
     "output_type": "stream",
     "text": [
      "John\n",
      "Mike\n",
      "30\n",
      "35\n",
      "Age cannot be negative.\n"
     ]
    }
   ],
   "source": [
    "# Q4. What are getter and setter in python? Create a class and create a getter and a setter method in this class.\n",
    "\"\"\"\n",
    "In Python, getters and setters are methods used to access and modify the attributes of a class. They provide a way to encapsulate\n",
    "the access to class variables and enforce control over how they are read and written.\n",
    "\"\"\"\n",
    "\n",
    "class Person:\n",
    "    def __init__(self, name, age):\n",
    "        self._name = name\n",
    "        self._age = age\n",
    "\n",
    "    def get_name(self):\n",
    "        return self._name\n",
    "\n",
    "    def set_name(self, new_name):\n",
    "        self._name = new_name\n",
    "\n",
    "    def get_age(self):\n",
    "        return self._age\n",
    "\n",
    "    def set_age(self, new_age):\n",
    "        if new_age >= 0:\n",
    "            self._age = new_age\n",
    "        else:\n",
    "            print(\"Age cannot be negative.\")\n",
    "\n",
    "person = Person(\"John\", 30)\n",
    "print(person.get_name())  \n",
    "person.set_name(\"Mike\")\n",
    "print(person.get_name())  \n",
    "print(person.get_age())\n",
    "person.set_age(35)\n",
    "print(person.get_age()) \n",
    "person.set_age(-5) \n"
   ]
  },
  {
   "cell_type": "code",
   "execution_count": 7,
   "id": "d7eee93b-0b18-4c0a-98b1-91c955bc477b",
   "metadata": {},
   "outputs": [
    {
     "name": "stdout",
     "output_type": "stream",
     "text": [
      "Generic animal sound\n",
      "Meow\n",
      "Woof\n"
     ]
    }
   ],
   "source": [
    "# Q5.What is method overriding in python? Write a python code to demonstrate method overriding.\n",
    "\"\"\"\n",
    "Method overriding is a concept in object-oriented programming where a subclass provides its own implementation of a method \n",
    "that is already defined in its superclass. By doing so, the subclass can modify or extend the behavior of the inherited method.\"\"\"\n",
    "\n",
    "class Animal:\n",
    "    def make_sound(self):\n",
    "        print(\"Generic animal sound\")\n",
    "\n",
    "class Cat(Animal):\n",
    "    def make_sound(self):\n",
    "        print(\"Meow\")\n",
    "\n",
    "class Dog(Animal):\n",
    "    def make_sound(self):\n",
    "        print(\"Woof\")\n",
    "\n",
    "# Create instances of the classes\n",
    "animal = Animal()\n",
    "cat = Cat()\n",
    "dog = Dog()\n",
    "\n",
    "# Call the make_sound method of each object\n",
    "animal.make_sound()  # Output: Generic animal sound\n",
    "cat.make_sound()     # Output: Meow\n",
    "dog.make_sound()     # Output: Woof\n"
   ]
  },
  {
   "cell_type": "code",
   "execution_count": null,
   "id": "086156f1-b76b-41e8-9200-116381e54446",
   "metadata": {},
   "outputs": [],
   "source": []
  }
 ],
 "metadata": {
  "kernelspec": {
   "display_name": "Python 3 (ipykernel)",
   "language": "python",
   "name": "python3"
  },
  "language_info": {
   "codemirror_mode": {
    "name": "ipython",
    "version": 3
   },
   "file_extension": ".py",
   "mimetype": "text/x-python",
   "name": "python",
   "nbconvert_exporter": "python",
   "pygments_lexer": "ipython3",
   "version": "3.10.8"
  }
 },
 "nbformat": 4,
 "nbformat_minor": 5
}
