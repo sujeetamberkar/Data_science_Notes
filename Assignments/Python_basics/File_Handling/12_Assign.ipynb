{
 "cells": [
  {
   "cell_type": "code",
   "execution_count": 1,
   "id": "6ee6ba08-b5e2-4f90-9fa8-c9afb6f32873",
   "metadata": {},
   "outputs": [
    {
     "data": {
      "text/plain": [
       "'\\nIn Python, an exception is an error or exceptional condition that occurs during the execution of a program, \\ndisrupting the normal flow. It represents unexpected events that need to be handled to prevent program termination.\\n\\n\\nThe key difference between exceptions and syntax errors is:\\n    Exceptions: Exceptions occur during the runtime of a program and are caused by issues such as invalid input, \\n    file not found, or divide by zero. They can be caught and handled using try-except blocks, allowing the program to gracefully \\n    recover from the error and continue execution.\\n\\n    Syntax Errors: Syntax errors occur during the parsing or compilation phase of the program, before it runs. \\n    They are caused by violations of the Python language grammar rules or incorrect syntax usage. Syntax errors indicate \\n    that the code is not written correctly and prevent the program from running altogether. They need to be fixed before \\n    the program can be executed.\\n'"
      ]
     },
     "execution_count": 1,
     "metadata": {},
     "output_type": "execute_result"
    }
   ],
   "source": [
    "# Q1. What is an Exception in python? Write the difference between Exceptions and syntax errors\n",
    "\"\"\"\n",
    "In Python, an exception is an error or exceptional condition that occurs during the execution of a program, \n",
    "disrupting the normal flow. It represents unexpected events that need to be handled to prevent program termination.\n",
    "\n",
    "\n",
    "The key difference between exceptions and syntax errors is:\n",
    "    Exceptions: Exceptions occur during the runtime of a program and are caused by issues such as invalid input, \n",
    "    file not found, or divide by zero. They can be caught and handled using try-except blocks, allowing the program to gracefully \n",
    "    recover from the error and continue execution.\n",
    "\n",
    "    Syntax Errors: Syntax errors occur during the parsing or compilation phase of the program, before it runs. \n",
    "    They are caused by violations of the Python language grammar rules or incorrect syntax usage. Syntax errors indicate \n",
    "    that the code is not written correctly and prevent the program from running altogether. They need to be fixed before \n",
    "    the program can be executed.\n",
    "\"\"\""
   ]
  },
  {
   "cell_type": "code",
   "execution_count": 2,
   "id": "6ddc3ba5-7a37-4214-be91-a712cfcbd333",
   "metadata": {},
   "outputs": [
    {
     "ename": "ZeroDivisionError",
     "evalue": "division by zero",
     "output_type": "error",
     "traceback": [
      "\u001b[0;31m---------------------------------------------------------------------------\u001b[0m",
      "\u001b[0;31mZeroDivisionError\u001b[0m                         Traceback (most recent call last)",
      "Cell \u001b[0;32mIn[2], line 11\u001b[0m\n\u001b[1;32m      8\u001b[0m     \u001b[38;5;28;01mreturn\u001b[39;00m result\n\u001b[1;32m     10\u001b[0m \u001b[38;5;66;03m# Calling the function with invalid arguments\u001b[39;00m\n\u001b[0;32m---> 11\u001b[0m result \u001b[38;5;241m=\u001b[39m \u001b[43mdivide_numbers\u001b[49m\u001b[43m(\u001b[49m\u001b[38;5;241;43m10\u001b[39;49m\u001b[43m,\u001b[49m\u001b[43m \u001b[49m\u001b[38;5;241;43m0\u001b[39;49m\u001b[43m)\u001b[49m\n\u001b[1;32m     12\u001b[0m \u001b[38;5;28mprint\u001b[39m(result)\n",
      "Cell \u001b[0;32mIn[2], line 7\u001b[0m, in \u001b[0;36mdivide_numbers\u001b[0;34m(a, b)\u001b[0m\n\u001b[1;32m      6\u001b[0m \u001b[38;5;28;01mdef\u001b[39;00m \u001b[38;5;21mdivide_numbers\u001b[39m(a, b):\n\u001b[0;32m----> 7\u001b[0m     result \u001b[38;5;241m=\u001b[39m \u001b[43ma\u001b[49m\u001b[43m \u001b[49m\u001b[38;5;241;43m/\u001b[39;49m\u001b[43m \u001b[49m\u001b[43mb\u001b[49m\n\u001b[1;32m      8\u001b[0m     \u001b[38;5;28;01mreturn\u001b[39;00m result\n",
      "\u001b[0;31mZeroDivisionError\u001b[0m: division by zero"
     ]
    }
   ],
   "source": [
    "# Q2) What happens when an exceptions is not handled  ? Explain with Example ?\n",
    "\"\"\"\n",
    "When an exception is not handled in Python, the program terminates abruptly and an error message is displayed to the user. \n",
    "It prevents the normal flow of the program and can lead to unexpected behavior or crashes.\n",
    "\"\"\"\n",
    "def divide_numbers(a, b):\n",
    "    result = a / b\n",
    "    return result\n",
    "\n",
    "# Calling the function with invalid arguments\n",
    "result = divide_numbers(10, 0)\n",
    "print(result)\n"
   ]
  },
  {
   "cell_type": "code",
   "execution_count": 3,
   "id": "62190abc-6618-4190-8e0a-966740f5899c",
   "metadata": {},
   "outputs": [],
   "source": [
    "# Q3)Which Python statements are used to catch and handle exceptions, explain with an example \n",
    "\n",
    "try:\n",
    "    f=open(\"01_suj.txt4\",\"r\")\n",
    "    f.write(\"Hi1\")\n",
    "    f.close()\n",
    "except Exception as e:\n",
    "    print(\"this is my exeception block \",e)\n",
    "else:\n",
    "    print(\"This is else\")\n",
    "finally:\n",
    "    print(\"You are in finally\")\n",
    "print(\"The code resumes\")\n",
    "\"\"\"\n",
    "    try: Encloses the code that may raise an exception.\n",
    "    except: Catches and handles exceptions that occur within the try block.\n",
    "    finally: Executes code that should always run, regardless of whether an exception occurred or not.\n",
    "    else: Executes code if no exception occurs in the try block.\n",
    "\"\"\""
   ]
  },
  {
   "cell_type": "code",
   "execution_count": 5,
   "id": "2dfacc87-ba4c-4732-bba4-cd0f5bd0e6bb",
   "metadata": {},
   "outputs": [
    {
     "name": "stdout",
     "output_type": "stream",
     "text": [
      "You tried to divide by zero!\n",
      "You tried to divide by zero!\n",
      "This always runs, whether an exception occurred or not.\n"
     ]
    },
    {
     "name": "stdin",
     "output_type": "stream",
     "text": [
      "Enter a number:  33\n"
     ]
    }
   ],
   "source": [
    "# Q4) Explain with an exqample \n",
    "\"\"\"\n",
    "    a) try and else\n",
    "    b)finally \n",
    "    c) raise \n",
    "\"\"\"\n",
    "\n",
    "\"\"\"\n",
    "a) try and else\n",
    "\n",
    "try and else \n",
    "In Python are used for exception handling. The try block lets you test a block of code for errors. \n",
    "The else block lets you specify a block of code to be executed if no errors were raised.\n",
    "In this case, because the division by zero raises a ZeroDivisionError, the else block will not run\n",
    "\"\"\"\n",
    "try:\n",
    "    # This will raise a ZeroDivisionError\n",
    "    result = 10 / 0\n",
    "except ZeroDivisionError:\n",
    "    print(\"You tried to divide by zero!\")\n",
    "else:\n",
    "    # This will run if no exceptions were raised in the try block\n",
    "    print(\"The result of your division is\", result)\n",
    "    \n",
    "    \n",
    "    \n",
    "    \n",
    "\"\"\"\n",
    "b) finally\n",
    "The finally block lets you specify a block of code to be executed no matter whether an exception was raised or not.\n",
    " even though the division by zero raises a ZeroDivisionError, the finally block still runs\"\"\"\n",
    "try:\n",
    "    # This will raise a ZeroDivisionError\n",
    "    result = 10 / 0\n",
    "except ZeroDivisionError:\n",
    "    print(\"You tried to divide by zero!\")\n",
    "finally:\n",
    "    # This will always run\n",
    "    print(\"This always runs, whether an exception occurred or not.\")\n",
    "\n",
    "    \n",
    "    \n",
    "\"\"\"\n",
    "c) raise\n",
    "raise allows you to throw an exception at any time.\n",
    "\"\"\"\n",
    "try:\n",
    "    user_input = input(\"Enter a number: \")\n",
    "    if not user_input.isdigit():\n",
    "        raise ValueError(\"That's not a number!\")\n",
    "except ValueError as e:\n",
    "    print(\"Caught an exception:\", e)\n"
   ]
  },
  {
   "cell_type": "code",
   "execution_count": 6,
   "id": "f5da247b-d0d0-4d74-a5fa-8f67ce833841",
   "metadata": {},
   "outputs": [
    {
     "name": "stdin",
     "output_type": "stream",
     "text": [
      "Enter age:  -2\n"
     ]
    },
    {
     "name": "stdout",
     "output_type": "stream",
     "text": [
      "Entered age is negative\n"
     ]
    }
   ],
   "source": [
    "# Q5 ) What are custom Exceptions in Python? What do we need Custom Exceptions ? Explain with an example ?\n",
    "\"\"\"\n",
    "Custom exceptions in Python are user-defined exceptions that allow you to create and raise errors that \n",
    "fit the needs of your own program. Custom exceptions can help to make your code more readable and easier to \n",
    "understand, because they can be more specific than Python's built-in exceptions.\n",
    "\n",
    "The main reason to use custom exceptions is to handle specific error situations unique to your program's \n",
    "domain. For example, in a banking system, there is no built-in exception for situations like an \n",
    "\"InsufficientFundsError\". In such cases, it makes sense to define and use a custom exception.\n",
    "\"\"\"\n",
    "class ValidateAgeError(Exception):\n",
    "    def __init__(self, msg):\n",
    "        self.msg = msg\n",
    "\n",
    "def validate_age(age):\n",
    "   # print(type(age))\n",
    "    if age < 0:\n",
    "        raise ValidateAgeError(\"Entered age is negative\")\n",
    "    elif age >= 200:\n",
    "        raise ValidateAgeError(\"Entered age is not possible for humans\")\n",
    "    else:\n",
    "        print(\"Entered age is valid\")\n",
    "\n",
    "try:\n",
    "    age = int(input(\"Enter age: \"))\n",
    "    validate_age(age)\n",
    "except Exception as e:\n",
    "    print(e)\n"
   ]
  },
  {
   "cell_type": "code",
   "execution_count": 8,
   "id": "c4c2ed88-d24b-4b4c-828b-3137d7ca467f",
   "metadata": {},
   "outputs": [
    {
     "name": "stdin",
     "output_type": "stream",
     "text": [
      "Enter age:  2\n"
     ]
    },
    {
     "name": "stdout",
     "output_type": "stream",
     "text": [
      "Entered age is valid\n"
     ]
    }
   ],
   "source": [
    "# Q6) Create a custom exception class. Use this class to handle exception.\n",
    "class ValidateAgeError(Exception):\n",
    "    def __init__(self, msg):\n",
    "        self.msg = msg\n",
    "\n",
    "def validate_age(age):\n",
    "   # print(type(age))\n",
    "    if age < 0:\n",
    "        raise ValidateAgeError(\"Entered age is negative\")\n",
    "    elif age >= 200:\n",
    "        raise ValidateAgeError(\"Entered age is not possible for humans\")\n",
    "    else:\n",
    "        print(\"Entered age is valid\")\n",
    "\n",
    "try:\n",
    "    age = int(input(\"Enter age: \"))\n",
    "    validate_age(age)\n",
    "except Exception as e:\n",
    "    print(e)\n"
   ]
  },
  {
   "cell_type": "code",
   "execution_count": null,
   "id": "436d66c4-5ebf-4fec-b55c-c8602a9987a3",
   "metadata": {},
   "outputs": [],
   "source": []
  }
 ],
 "metadata": {
  "kernelspec": {
   "display_name": "Python 3 (ipykernel)",
   "language": "python",
   "name": "python3"
  },
  "language_info": {
   "codemirror_mode": {
    "name": "ipython",
    "version": 3
   },
   "file_extension": ".py",
   "mimetype": "text/x-python",
   "name": "python",
   "nbconvert_exporter": "python",
   "pygments_lexer": "ipython3",
   "version": "3.10.8"
  }
 },
 "nbformat": 4,
 "nbformat_minor": 5
}
