{
 "cells": [
  {
   "cell_type": "code",
   "execution_count": 1,
   "id": "ecd45042-5019-46ad-aca4-3e4c5b4f06bc",
   "metadata": {},
   "outputs": [],
   "source": [
    "# Q1. Which function is used to open a file? What are the different modes of opening a file? Explain each mode\n",
    "of file opening.\n",
    "\"\"\"\n",
    "In Python, the open() function is used to open a file. \n",
    "\"\"\"\n",
    "f=open(\"test.txt\",\"w\")\n",
    "\"\"\"\n",
    "The mode parameter is a string that contains multiple characters to represent how the file will be opened. The modes are:\n",
    "\n",
    "    'r': This is the default mode. It opens a file for reading.\n",
    "    'w': This mode opens a file for writing. If the file doesn't exist, it creates a new file. If it exists, it truncates the file.\n",
    "    'x': This mode opens a file for exclusive creation. If the file exists, the operation fails.\n",
    "    'a': This mode opens a file for appending at the end without truncating it. It creates a new file if it doesn't exist.\n",
    "    't': This mode opens the file in text mode.\n",
    "    'b': This mode opens the file in binary mode.\n",
    "    '+': This mode opens a file for updating (reading and writing).\n",
    "\"\"\""
   ]
  },
  {
   "cell_type": "code",
   "execution_count": 2,
   "id": "aa170de6-77bb-45d6-920e-5c27fb8b1335",
   "metadata": {},
   "outputs": [
    {
     "data": {
      "text/plain": [
       "\"\\nThe close() function is used to close an open file. It's important to close a file for several reasons:\\n\\n1)Resource Management: Open files consume system resources. Closing files when they're no longer needed frees up system resources.\\n2)Data Integrity: Closing a file forces any buffered data to be written to the file, ensuring data is not lost.\\n3)Preventing Data Corruption: If a program crashes with a file open, the file could become corrupted. Closing files reduces \\n  this risk.\\n4)Avoiding File Conflicts: Some systems limit the number of processes that can open a file simultaneously. \\n  Closing files helps avoid conflicts.\\n5)The with keyword in Python ensures a file is closed after use, even if an error occurs. It's a best practice to use  \\n  it when working with files.\\n\""
      ]
     },
     "execution_count": 2,
     "metadata": {},
     "output_type": "execute_result"
    }
   ],
   "source": [
    "# Q2. Why close() function is used? Why is it important to close a file?\n",
    "\"\"\"\n",
    "The close() function is used to close an open file. It's important to close a file for several reasons:\n",
    "\n",
    "1)Resource Management: Open files consume system resources. Closing files when they're no longer needed frees up system resources.\n",
    "2)Data Integrity: Closing a file forces any buffered data to be written to the file, ensuring data is not lost.\n",
    "3)Preventing Data Corruption: If a program crashes with a file open, the file could become corrupted. Closing files reduces \n",
    "  this risk.\n",
    "4)Avoiding File Conflicts: Some systems limit the number of processes that can open a file simultaneously. \n",
    "  Closing files helps avoid conflicts.\n",
    "5)The with keyword in Python ensures a file is closed after use, even if an error occurs. It's a best practice to use  \n",
    "  it when working with files.\n",
    "\"\"\""
   ]
  },
  {
   "cell_type": "code",
   "execution_count": 3,
   "id": "6190dc6b-62b0-4637-87bf-f22cfc22eda7",
   "metadata": {},
   "outputs": [
    {
     "name": "stdout",
     "output_type": "stream",
     "text": [
      "I want to become a Data Scientist\n"
     ]
    }
   ],
   "source": [
    "# Q3) Write a python program to create a text file. Write ‘I want to become a Data Scientist’ in that file. Then\n",
    "#     close the file. Open this file and read the content of the file.\n",
    "\n",
    "# Step 1: Create and write to the file\n",
    "with open('my_file.txt', 'w') as f:\n",
    "    f.write('I want to become a Data Scientist')\n",
    "\n",
    "# Step 2: Open and read the file\n",
    "with open('my_file.txt', 'r') as f:\n",
    "    content = f.read()\n",
    "    print(content)\n"
   ]
  },
  {
   "cell_type": "code",
   "execution_count": 4,
   "id": "0ce03a30-69b4-4ac7-92e2-46d1089f2e50",
   "metadata": {},
   "outputs": [
    {
     "ename": "FileNotFoundError",
     "evalue": "[Errno 2] No such file or directory: 'msd.txt'",
     "output_type": "error",
     "traceback": [
      "\u001b[0;31m---------------------------------------------------------------------------\u001b[0m",
      "\u001b[0;31mFileNotFoundError\u001b[0m                         Traceback (most recent call last)",
      "Cell \u001b[0;32mIn[4], line 5\u001b[0m\n\u001b[1;32m      1\u001b[0m \u001b[38;5;66;03m# Q4. Explain the following with python code: read(), readline() and readlines().\u001b[39;00m\n\u001b[1;32m      2\u001b[0m \n\u001b[1;32m      3\u001b[0m \u001b[38;5;66;03m# Using read() method\u001b[39;00m\n\u001b[1;32m      4\u001b[0m file_path \u001b[38;5;241m=\u001b[39m \u001b[38;5;124m\"\u001b[39m\u001b[38;5;124mmsd.txt\u001b[39m\u001b[38;5;124m\"\u001b[39m\n\u001b[0;32m----> 5\u001b[0m \u001b[38;5;28;01mwith\u001b[39;00m \u001b[38;5;28;43mopen\u001b[39;49m\u001b[43m(\u001b[49m\u001b[43mfile_path\u001b[49m\u001b[43m,\u001b[49m\u001b[43m \u001b[49m\u001b[38;5;124;43m\"\u001b[39;49m\u001b[38;5;124;43mr\u001b[39;49m\u001b[38;5;124;43m\"\u001b[39;49m\u001b[43m)\u001b[49m \u001b[38;5;28;01mas\u001b[39;00m file:\n\u001b[1;32m      6\u001b[0m     content \u001b[38;5;241m=\u001b[39m file\u001b[38;5;241m.\u001b[39mread()\n\u001b[1;32m      7\u001b[0m     \u001b[38;5;28mprint\u001b[39m(content)\n",
      "File \u001b[0;32m/opt/conda/lib/python3.10/site-packages/IPython/core/interactiveshell.py:282\u001b[0m, in \u001b[0;36m_modified_open\u001b[0;34m(file, *args, **kwargs)\u001b[0m\n\u001b[1;32m    275\u001b[0m \u001b[38;5;28;01mif\u001b[39;00m file \u001b[38;5;129;01min\u001b[39;00m {\u001b[38;5;241m0\u001b[39m, \u001b[38;5;241m1\u001b[39m, \u001b[38;5;241m2\u001b[39m}:\n\u001b[1;32m    276\u001b[0m     \u001b[38;5;28;01mraise\u001b[39;00m \u001b[38;5;167;01mValueError\u001b[39;00m(\n\u001b[1;32m    277\u001b[0m         \u001b[38;5;124mf\u001b[39m\u001b[38;5;124m\"\u001b[39m\u001b[38;5;124mIPython won\u001b[39m\u001b[38;5;124m'\u001b[39m\u001b[38;5;124mt let you open fd=\u001b[39m\u001b[38;5;132;01m{\u001b[39;00mfile\u001b[38;5;132;01m}\u001b[39;00m\u001b[38;5;124m by default \u001b[39m\u001b[38;5;124m\"\u001b[39m\n\u001b[1;32m    278\u001b[0m         \u001b[38;5;124m\"\u001b[39m\u001b[38;5;124mas it is likely to crash IPython. If you know what you are doing, \u001b[39m\u001b[38;5;124m\"\u001b[39m\n\u001b[1;32m    279\u001b[0m         \u001b[38;5;124m\"\u001b[39m\u001b[38;5;124myou can use builtins\u001b[39m\u001b[38;5;124m'\u001b[39m\u001b[38;5;124m open.\u001b[39m\u001b[38;5;124m\"\u001b[39m\n\u001b[1;32m    280\u001b[0m     )\n\u001b[0;32m--> 282\u001b[0m \u001b[38;5;28;01mreturn\u001b[39;00m \u001b[43mio_open\u001b[49m\u001b[43m(\u001b[49m\u001b[43mfile\u001b[49m\u001b[43m,\u001b[49m\u001b[43m \u001b[49m\u001b[38;5;241;43m*\u001b[39;49m\u001b[43margs\u001b[49m\u001b[43m,\u001b[49m\u001b[43m \u001b[49m\u001b[38;5;241;43m*\u001b[39;49m\u001b[38;5;241;43m*\u001b[39;49m\u001b[43mkwargs\u001b[49m\u001b[43m)\u001b[49m\n",
      "\u001b[0;31mFileNotFoundError\u001b[0m: [Errno 2] No such file or directory: 'msd.txt'"
     ]
    }
   ],
   "source": [
    "# Q4. Explain the following with python code: read(), readline() and readlines().\n",
    "\n",
    "# Using read() method\n",
    "file_path = \"msd.txt\"\n",
    "with open(file_path, \"r\") as file:\n",
    "    content = file.read()\n",
    "    print(content)\n",
    "\n",
    "# Using readline() method\n",
    "file_path = \"msd.txt\"\n",
    "with open(file_path, \"r\") as file:\n",
    "    line = file.readline()\n",
    "    while line:\n",
    "        print(line)\n",
    "        line = file.readline()\n",
    "\n",
    "# Using readlines() method\n",
    "file_path = \"msd.txt\"\n",
    "with open(file_path, \"r\") as file:\n",
    "    lines = file.readlines()\n",
    "    for line in lines:\n",
    "        print(line)\n",
    "\"\"\"\n",
    "    The read() method reads the entire contents of the file as a single string. \n",
    "    It returns the contents of the file as a single string, including newline characters ('\\n').\n",
    "    \n",
    "    \n",
    "    The readline() method reads a single line from the file. It returns the line as a string, including the newline \n",
    "    character at the end. By repeatedly calling readline(), you can read the file line by line until reaching the end of the file\n",
    "    \n",
    "    \n",
    "    The readlines() method reads all the lines of the file and returns them as a list of strings. Each string represents \n",
    "    a single line from the file, including newline characters.\n",
    "\"\"\""
   ]
  },
  {
   "cell_type": "code",
   "execution_count": 6,
   "id": "8403087f-6385-4a56-8a89-2df4e7181623",
   "metadata": {},
   "outputs": [
    {
     "ename": "FileNotFoundError",
     "evalue": "[Errno 2] No such file or directory: 'example.txt'",
     "output_type": "error",
     "traceback": [
      "\u001b[0;31m---------------------------------------------------------------------------\u001b[0m",
      "\u001b[0;31mFileNotFoundError\u001b[0m                         Traceback (most recent call last)",
      "Cell \u001b[0;32mIn[6], line 2\u001b[0m\n\u001b[1;32m      1\u001b[0m \u001b[38;5;66;03m# Q5. Explain why with statement is used with open(). What is the advantage of using with statement and open() together?\u001b[39;00m\n\u001b[0;32m----> 2\u001b[0m \u001b[38;5;28;01mwith\u001b[39;00m \u001b[38;5;28;43mopen\u001b[39;49m\u001b[43m(\u001b[49m\u001b[38;5;124;43m'\u001b[39;49m\u001b[38;5;124;43mexample.txt\u001b[39;49m\u001b[38;5;124;43m'\u001b[39;49m\u001b[43m,\u001b[49m\u001b[43m \u001b[49m\u001b[38;5;124;43m'\u001b[39;49m\u001b[38;5;124;43mr\u001b[39;49m\u001b[38;5;124;43m'\u001b[39;49m\u001b[43m)\u001b[49m \u001b[38;5;28;01mas\u001b[39;00m f:\n\u001b[1;32m      3\u001b[0m     contents \u001b[38;5;241m=\u001b[39m f\u001b[38;5;241m.\u001b[39mread()\n\u001b[1;32m      4\u001b[0m \u001b[38;5;124;03m\"\"\"\u001b[39;00m\n\u001b[1;32m      5\u001b[0m \u001b[38;5;124;03mAdvantages:\u001b[39;00m\n\u001b[1;32m      6\u001b[0m \u001b[38;5;124;03m    1)Resource Management: Automatically closes the file after usage, preventing resource leaks.\u001b[39;00m\n\u001b[0;32m   (...)\u001b[0m\n\u001b[1;32m     10\u001b[0m \u001b[38;5;124;03m    3)Code Readability: It simplifies the code and makes it clear when the file is being used and when it is closed.\u001b[39;00m\n\u001b[1;32m     11\u001b[0m \u001b[38;5;124;03m\"\"\"\u001b[39;00m\n",
      "File \u001b[0;32m/opt/conda/lib/python3.10/site-packages/IPython/core/interactiveshell.py:282\u001b[0m, in \u001b[0;36m_modified_open\u001b[0;34m(file, *args, **kwargs)\u001b[0m\n\u001b[1;32m    275\u001b[0m \u001b[38;5;28;01mif\u001b[39;00m file \u001b[38;5;129;01min\u001b[39;00m {\u001b[38;5;241m0\u001b[39m, \u001b[38;5;241m1\u001b[39m, \u001b[38;5;241m2\u001b[39m}:\n\u001b[1;32m    276\u001b[0m     \u001b[38;5;28;01mraise\u001b[39;00m \u001b[38;5;167;01mValueError\u001b[39;00m(\n\u001b[1;32m    277\u001b[0m         \u001b[38;5;124mf\u001b[39m\u001b[38;5;124m\"\u001b[39m\u001b[38;5;124mIPython won\u001b[39m\u001b[38;5;124m'\u001b[39m\u001b[38;5;124mt let you open fd=\u001b[39m\u001b[38;5;132;01m{\u001b[39;00mfile\u001b[38;5;132;01m}\u001b[39;00m\u001b[38;5;124m by default \u001b[39m\u001b[38;5;124m\"\u001b[39m\n\u001b[1;32m    278\u001b[0m         \u001b[38;5;124m\"\u001b[39m\u001b[38;5;124mas it is likely to crash IPython. If you know what you are doing, \u001b[39m\u001b[38;5;124m\"\u001b[39m\n\u001b[1;32m    279\u001b[0m         \u001b[38;5;124m\"\u001b[39m\u001b[38;5;124myou can use builtins\u001b[39m\u001b[38;5;124m'\u001b[39m\u001b[38;5;124m open.\u001b[39m\u001b[38;5;124m\"\u001b[39m\n\u001b[1;32m    280\u001b[0m     )\n\u001b[0;32m--> 282\u001b[0m \u001b[38;5;28;01mreturn\u001b[39;00m \u001b[43mio_open\u001b[49m\u001b[43m(\u001b[49m\u001b[43mfile\u001b[49m\u001b[43m,\u001b[49m\u001b[43m \u001b[49m\u001b[38;5;241;43m*\u001b[39;49m\u001b[43margs\u001b[49m\u001b[43m,\u001b[49m\u001b[43m \u001b[49m\u001b[38;5;241;43m*\u001b[39;49m\u001b[38;5;241;43m*\u001b[39;49m\u001b[43mkwargs\u001b[49m\u001b[43m)\u001b[49m\n",
      "\u001b[0;31mFileNotFoundError\u001b[0m: [Errno 2] No such file or directory: 'example.txt'"
     ]
    }
   ],
   "source": [
    "# Q5. Explain why with statement is used with open(). What is the advantage of using with statement and open() together?\n",
    "with open('example.txt', 'r') as f:\n",
    "    contents = f.read()\n",
    "\"\"\"\n",
    "Advantages:\n",
    "    1)Resource Management: Automatically closes the file after usage, preventing resource leaks.\n",
    "\n",
    "    2)Error Handling: Ensures the file is properly closed even if an exception occurs, avoiding potential data corruption.\n",
    "\n",
    "    3)Code Readability: It simplifies the code and makes it clear when the file is being used and when it is closed.\n",
    "\"\"\""
   ]
  },
  {
   "cell_type": "code",
   "execution_count": 7,
   "id": "8621e71b-e5d6-4a79-8848-2c8e65948725",
   "metadata": {},
   "outputs": [],
   "source": [
    "# Q6) Explain the write() and writelines() functions. Give a suitable example.\n",
    "\n",
    "# write() function: \n",
    "#The write() method writes a string to the file.\n",
    "with open('example.txt', 'w') as f:\n",
    "    f.write(\"Hello, world!\") # \n",
    "#This will write the string \"Hello, world!\" to the file named 'example.txt'.\n",
    "#If 'example.txt' doesn't already exist, it will be created.\n",
    "\n",
    "\n",
    "\"\"\"\n",
    "writelines() function: The writelines() method writes a list of strings to the file. If you want to write the elements of a list\n",
    "to a file line by line, you can use this method. Here's an example:\n",
    "\"\"\"\n",
    "lines = [\"Hello, world!\\n\", \"Welcome to Python programming.\\n\", \"Enjoy coding.\\n\"]\n",
    "with open('example.txt', 'w') as f:\n",
    "    f.writelines(lines)\n",
    "\n"
   ]
  }
 ],
 "metadata": {
  "kernelspec": {
   "display_name": "Python 3 (ipykernel)",
   "language": "python",
   "name": "python3"
  },
  "language_info": {
   "codemirror_mode": {
    "name": "ipython",
    "version": 3
   },
   "file_extension": ".py",
   "mimetype": "text/x-python",
   "name": "python",
   "nbconvert_exporter": "python",
   "pygments_lexer": "ipython3",
   "version": "3.10.8"
  }
 },
 "nbformat": 4,
 "nbformat_minor": 5
}
