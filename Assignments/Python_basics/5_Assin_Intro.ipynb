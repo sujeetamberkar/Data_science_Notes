{
 "cells": [
  {
   "cell_type": "code",
   "execution_count": null,
   "id": "c0c1d858-d1a4-41d1-8893-eff3d6729e54",
   "metadata": {},
   "outputs": [],
   "source": [
    "1. Who developed Python Programming Language? \n",
    "2. Which type of Programming does Python support? \n",
    "3. Is Python case sensitive when dealing with identifiers? \n",
    "4. What is the correct extension of the Python file? \n",
    "5. Is Python code compiled or interpreted? \n",
    "6. Name a few blocks of code used to define in Python language? \n",
    "7. State a character used to give single-line comments in Python? \n",
    "8. Mention functions which can help us to find the version of python that we are currently working on? \n",
    "9. Python supports the creation of anonymous functions at runtime, using a construct called \n",
    "10. What does pip stand for python? \n",
    "11. Mention a few built-in functions in python? \n",
    "12. What is the maximum possible length of an identifier in Python? \n",
    "13. What are the benefits of using Python? \n",
    "14. How is memory managed in Python? \n",
    "15. How to install Python on Windows and set path variables? 16. Is indentation required in python? \n",
    "\n",
    "\"\"\"\n",
    "    Q1)Python was developed by Guido van Rossum.\n",
    "    Q2)Python supports procedural, object-oriented, and functional programming paradigms.\n",
    "    Q3)Yes, Python is case sensitive when dealing with identifiers.\n",
    "    Q4)The correct extension of a Python file is .py.\n",
    "    Q5)Python code is interpreted, not compiled.\n",
    "    Q6)Functions, classes, and modules are few blocks of code used in Python.\n",
    "    Q7)The character used for single-line comments in Python is '#'.\n",
    "    Q8)We can use sys.version or platform.python_version() functions to find the version of Python.\n",
    "    Q9)Python supports the creation of anonymous functions at runtime using a construct called \"lambda\".\n",
    "    Q10)PIP stands for \"Pip Installs Packages\" or \"Preferred Installer Program\".\n",
    "    Q11)Some built-in functions in Python are: print(), len(), type(), str(), int(), etc.\n",
    "    Q12)Python does not impose a limit on the length of an identifier (name of a variable, function, etc.).\n",
    "    Q13)Benefits of Python include its simplicity and readability, large standard library, and supportive community, among others.\n",
    "    Q14)Memory in Python is managed by Python private heap space. All Python objects and data structures are located in a private heap, managed by Python's memory manager.\n",
    "    Q15)To install Python on Windows, download the installer from the Python website, run it, and follow the instructions. To set path variables, you can either do it during installation (there's an option) or manually add Python's installation directory to the PATH environment variable.\n",
    "    Q16)Yes, indentation is required in Python. It is used to define the block of code in functions, loops, classes, etc.\n",
    "    \n",
    "\"\"\""
   ]
  }
 ],
 "metadata": {
  "kernelspec": {
   "display_name": "Python 3 (ipykernel)",
   "language": "python",
   "name": "python3"
  },
  "language_info": {
   "codemirror_mode": {
    "name": "ipython",
    "version": 3
   },
   "file_extension": ".py",
   "mimetype": "text/x-python",
   "name": "python",
   "nbconvert_exporter": "python",
   "pygments_lexer": "ipython3",
   "version": "3.10.8"
  }
 },
 "nbformat": 4,
 "nbformat_minor": 5
}
