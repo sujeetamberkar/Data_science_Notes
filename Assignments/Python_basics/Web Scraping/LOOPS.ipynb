{
 "cells": [
  {
   "cell_type": "code",
   "execution_count": 2,
   "id": "0192d4b2-3072-4d4e-880b-ee12169f8ff8",
   "metadata": {},
   "outputs": [
    {
     "name": "stdout",
     "output_type": "stream",
     "text": [
      "For Loop\n",
      "1\n",
      "2\n",
      "3\n",
      "4\n",
      "5\n",
      "6\n",
      "7\n",
      "8\n",
      "9\n",
      "While Loop\n",
      "0\n",
      "1\n",
      "2\n"
     ]
    }
   ],
   "source": [
    "# Q1\n",
    "print(\"For Loop\")\n",
    "#For loop\n",
    "# Use a for loop when you have a collection (such as a list, tuple, or string) or an iterable object, and you want to iterate over each element or item in that collection\n",
    "list1=[1,2,3,4,5,6,7,8,9]\n",
    "for i in list1:\n",
    "    print(i)\n",
    "print(\"While Loop\")\n",
    "# While Loop\n",
    "# While loop is used when we want to execute a loop until a condition is fulfiled\n",
    "i=0\n",
    "while (i<3):\n",
    "    print(i)\n",
    "    i=i+1"
   ]
  },
  {
   "cell_type": "code",
   "execution_count": 4,
   "id": "9aa913b1-6553-4131-a588-86b9d22c75e3",
   "metadata": {},
   "outputs": [
    {
     "name": "stdout",
     "output_type": "stream",
     "text": [
      "45\n",
      "45\n"
     ]
    }
   ],
   "source": [
    "# Q2\n",
    "# Write a python program to print the sum and product of the first 10 natural numbers using forand while loop.\n",
    "#for loop\n",
    "sum=0\n",
    "for i in list(range(0,10,1)):\n",
    "    sum=sum+i\n",
    "print(sum)\n",
    "\n",
    "# While loop\n",
    "sum=0\n",
    "i=0\n",
    "counter=10\n",
    "while(counter!=0):\n",
    "    sum=sum+i\n",
    "    i=i+1\n",
    "    counter=counter-1\n",
    "print(sum)"
   ]
  },
  {
   "cell_type": "code",
   "execution_count": 7,
   "id": "6d2d3310-8079-47a3-9e72-b6830c7fa040",
   "metadata": {},
   "outputs": [
    {
     "name": "stdin",
     "output_type": "stream",
     "text": [
      "Enter units of electricity consumed 310\n"
     ]
    },
    {
     "name": "stdout",
     "output_type": "stream",
     "text": [
      "2250.0\n"
     ]
    }
   ],
   "source": [
    "# Q3 \n",
    "# Electricity bill \n",
    "var=int(input(\"Enter units of electricity consumed\"))\n",
    "amount=0.0\n",
    "if var <= 100:\n",
    "    amount=var*4.5\n",
    "elif var <= 200 and var > 100:\n",
    "    amount=100*4.5+(var-100)*6\n",
    "elif var <=300 and var >200:\n",
    "    amount=100*4.5+100*6+(var-200)*10\n",
    "else:\n",
    "    amount=100*4.5+100*6+100*10+(var-300)*20\n",
    "\n",
    "print(amount)\n",
    "\n",
    "    \n"
   ]
  },
  {
   "cell_type": "code",
   "execution_count": 10,
   "id": "0876fbc9-c78d-4136-a370-c886978e22c1",
   "metadata": {},
   "outputs": [
    {
     "name": "stdout",
     "output_type": "stream",
     "text": [
      "[0, 2, 4, 5, 6, 8, 10, 12, 14, 15, 16, 18, 20, 22, 24, 25, 26, 28, 30, 32, 34, 35, 36, 38, 40, 42, 44, 45, 46, 48, 50, 52, 54, 55, 56, 58, 60, 62, 64, 65, 66, 68, 70, 72, 74, 75, 76, 78, 80, 82, 84, 85, 86, 88, 90, 92, 94, 95, 96, 98, 100]\n"
     ]
    }
   ],
   "source": [
    "# Q 4 \n",
    "list1=[]\n",
    "for i in list(range(0,101,1)):\n",
    "    var=pow(i,3)\n",
    "    if var % 4 == 0  or var % 5 == 0:\n",
    "        list1.append(i)\n",
    "print(list1)"
   ]
  },
  {
   "cell_type": "code",
   "execution_count": 11,
   "id": "df1146c1-fb53-4e63-8187-4c3e1eefa1f9",
   "metadata": {},
   "outputs": [
    {
     "name": "stdout",
     "output_type": "stream",
     "text": [
      "12\n"
     ]
    }
   ],
   "source": [
    "# Q5 \n",
    "# Write a program to filter count vowels in the below-given string.\n",
    "#string = \"I want to become a data scientist\"\n",
    "\n",
    "string = \"I want to become a data scientist\"\n",
    "vowels = ['a', 'e', 'i', 'o', 'u','A','E','I','O','U']\n",
    "count=0\n",
    "\n",
    "for i in string:\n",
    "    if i in vowels:\n",
    "        count=count+1\n",
    "\n",
    "print(count)\n",
    "        "
   ]
  },
  {
   "cell_type": "code",
   "execution_count": null,
   "id": "f6e121ae-ac7e-43ea-b9a7-6cb32ddddc38",
   "metadata": {},
   "outputs": [],
   "source": []
  }
 ],
 "metadata": {
  "kernelspec": {
   "display_name": "Python 3 (ipykernel)",
   "language": "python",
   "name": "python3"
  },
  "language_info": {
   "codemirror_mode": {
    "name": "ipython",
    "version": 3
   },
   "file_extension": ".py",
   "mimetype": "text/x-python",
   "name": "python",
   "nbconvert_exporter": "python",
   "pygments_lexer": "ipython3",
   "version": "3.10.8"
  }
 },
 "nbformat": 4,
 "nbformat_minor": 5
}
