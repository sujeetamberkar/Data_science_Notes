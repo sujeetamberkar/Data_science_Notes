{
 "cells": [
  {
   "cell_type": "code",
   "execution_count": 15,
   "id": "01af3912-d22c-4da8-88ae-4352ff3f9e17",
   "metadata": {},
   "outputs": [
    {
     "name": "stdout",
     "output_type": "stream",
     "text": [
      "0     4\n",
      "1     8\n",
      "2    15\n",
      "3    16\n",
      "4    23\n",
      "5    42\n",
      "dtype: int64\n"
     ]
    }
   ],
   "source": [
    "# Q1. Create a Pandas Series that contains the following data: 4, 8, 15, 16, 23, and 42. \n",
    "# Then, print the series.\n",
    "\n",
    "import pandas as pd\n",
    "data = [4, 8, 15, 16, 23, 42]\n",
    "series = pd.Series(data)\n",
    "\n",
    "print(series)\n"
   ]
  },
  {
   "cell_type": "code",
   "execution_count": 16,
   "id": "72763225-afab-4d93-bfa1-e01c10a64281",
   "metadata": {},
   "outputs": [
    {
     "name": "stdout",
     "output_type": "stream",
     "text": [
      "0     1\n",
      "1     2\n",
      "2     3\n",
      "3     4\n",
      "4     5\n",
      "5     6\n",
      "6     7\n",
      "7     8\n",
      "8     9\n",
      "9    10\n",
      "dtype: int64\n"
     ]
    }
   ],
   "source": [
    "# Q2. Create a variable of list type containing 10 elements in it, and apply pandas.\n",
    "#     Series function on the variable print it.\n",
    "import pandas as pd\n",
    "my_list = [1, 2, 3, 4, 5, 6, 7, 8, 9, 10]\n",
    "series = pd.Series(my_list)\n",
    "print(series)\n"
   ]
  },
  {
   "cell_type": "code",
   "execution_count": 17,
   "id": "528e1478-cee6-4b32-b3aa-70466510eee8",
   "metadata": {},
   "outputs": [
    {
     "name": "stdout",
     "output_type": "stream",
     "text": [
      "     Name  Age  Gender\n",
      "0   Alice   25  Female\n",
      "1     Bob   30    Male\n",
      "2  Claire   27  Female\n"
     ]
    }
   ],
   "source": [
    "# Q3. Create a Pandas DataFrame that contains the following data:\n",
    "import pandas as pd\n",
    "\n",
    "data = [[\"Alice\", 25, \"Female\"], [\"Bob\", 30, \"Male\"], [\"Claire\", 27, \"Female\"]]\n",
    "columns = [\"Name\", \"Age\", \"Gender\"]\n",
    "\n",
    "Dframe = pd.DataFrame(data, columns=columns)\n",
    "\n",
    "print(Dframe)\n"
   ]
  },
  {
   "cell_type": "code",
   "execution_count": 18,
   "id": "2d0354b4-0517-4c4e-ba8e-aa27aee52faa",
   "metadata": {},
   "outputs": [
    {
     "data": {
      "text/html": [
       "<div>\n",
       "<style scoped>\n",
       "    .dataframe tbody tr th:only-of-type {\n",
       "        vertical-align: middle;\n",
       "    }\n",
       "\n",
       "    .dataframe tbody tr th {\n",
       "        vertical-align: top;\n",
       "    }\n",
       "\n",
       "    .dataframe thead th {\n",
       "        text-align: right;\n",
       "    }\n",
       "</style>\n",
       "<table border=\"1\" class=\"dataframe\">\n",
       "  <thead>\n",
       "    <tr style=\"text-align: right;\">\n",
       "      <th></th>\n",
       "      <th>Name</th>\n",
       "      <th>Age</th>\n",
       "      <th>Gender</th>\n",
       "    </tr>\n",
       "  </thead>\n",
       "  <tbody>\n",
       "    <tr>\n",
       "      <th>0</th>\n",
       "      <td>Alice</td>\n",
       "      <td>25</td>\n",
       "      <td>Female</td>\n",
       "    </tr>\n",
       "    <tr>\n",
       "      <th>1</th>\n",
       "      <td>Bob</td>\n",
       "      <td>30</td>\n",
       "      <td>Male</td>\n",
       "    </tr>\n",
       "    <tr>\n",
       "      <th>2</th>\n",
       "      <td>Claire</td>\n",
       "      <td>27</td>\n",
       "      <td>Female</td>\n",
       "    </tr>\n",
       "  </tbody>\n",
       "</table>\n",
       "</div>"
      ],
      "text/plain": [
       "     Name  Age  Gender\n",
       "0   Alice   25  Female\n",
       "1     Bob   30    Male\n",
       "2  Claire   27  Female"
      ]
     },
     "execution_count": 18,
     "metadata": {},
     "output_type": "execute_result"
    }
   ],
   "source": [
    "Dframe"
   ]
  },
  {
   "cell_type": "code",
   "execution_count": 19,
   "id": "9c32270e-2d12-470e-ae58-5006e5793749",
   "metadata": {},
   "outputs": [
    {
     "data": {
      "text/plain": [
       "'\\nSeries:\\n        A Series is a one-dimensional labeled array capable of holding any data type \\n        (integers, strings, floating point numbers, Python objects, etc.). \\n        It is analogous to a column in a spreadsheet.\\n        Series is a one-dimensional labeled array and can only hold a single list, dict, or \\n        DataFrame column.\\n        \\n        \\nDataFrame: \\n        A DataFrame is a two-dimensional labeled data structure with columns of potentially \\n        different types. It is similar to a spreadsheet or SQL table, or a dictionary of Series \\n        objects.\\n        DataFrame is a two-dimensional labeled data structure where data is aligned in a \\n        tabular fashion in rows and columns.\\n'"
      ]
     },
     "execution_count": 19,
     "metadata": {},
     "output_type": "execute_result"
    }
   ],
   "source": [
    "# Q4. What is ‘DataFrame’ in pandas and how is it different from pandas.series? \n",
    "# Explain with an example.\n",
    "\n",
    "\"\"\"\n",
    "Series:\n",
    "        A Series is a one-dimensional labeled array capable of holding any data type \n",
    "        (integers, strings, floating point numbers, Python objects, etc.). \n",
    "        It is analogous to a column in a spreadsheet.\n",
    "        Series is a one-dimensional labeled array and can only hold a single list, dict, or \n",
    "        DataFrame column.\n",
    "        \n",
    "        \n",
    "DataFrame: \n",
    "        A DataFrame is a two-dimensional labeled data structure with columns of potentially \n",
    "        different types. It is similar to a spreadsheet or SQL table, or a dictionary of Series \n",
    "        objects.\n",
    "        DataFrame is a two-dimensional labeled data structure where data is aligned in a \n",
    "        tabular fashion in rows and columns.\n",
    "\"\"\""
   ]
  },
  {
   "cell_type": "code",
   "execution_count": 30,
   "id": "23303ce4-c780-4f34-8d13-19badb9d5e66",
   "metadata": {},
   "outputs": [
    {
     "name": "stdout",
     "output_type": "stream",
     "text": [
      "Head\n",
      "    Name  Age  Gender\n",
      "0  Alice   29  Female\n",
      "1    Bob   34    Male\n",
      "Tail\n",
      "     Name  Age  Gender\n",
      "1     Bob   34    Male\n",
      "2  Claire   31  Female\n",
      "             Age\n",
      "count   3.000000\n",
      "mean   31.333333\n",
      "std     2.516611\n",
      "min    29.000000\n",
      "25%    30.000000\n",
      "50%    31.000000\n",
      "75%    32.500000\n",
      "max    34.000000\n",
      "     Name  Age  Gender\n",
      "0   Alice   29  Female\n",
      "2  Claire   31  Female\n",
      "1     Bob   34    Male\n",
      "     Name  Age  Gender\n",
      "0   Alice   29  Female\n",
      "1     Bob   34    Male\n",
      "2  Claire   31  Female\n",
      "         Age\n",
      "Gender      \n",
      "Female  30.0\n",
      "Male    34.0\n",
      "None\n"
     ]
    },
    {
     "data": {
      "text/html": [
       "<div>\n",
       "<style scoped>\n",
       "    .dataframe tbody tr th:only-of-type {\n",
       "        vertical-align: middle;\n",
       "    }\n",
       "\n",
       "    .dataframe tbody tr th {\n",
       "        vertical-align: top;\n",
       "    }\n",
       "\n",
       "    .dataframe thead th {\n",
       "        text-align: right;\n",
       "    }\n",
       "</style>\n",
       "<table border=\"1\" class=\"dataframe\">\n",
       "  <thead>\n",
       "    <tr style=\"text-align: right;\">\n",
       "      <th></th>\n",
       "      <th>Name</th>\n",
       "      <th>Age</th>\n",
       "    </tr>\n",
       "  </thead>\n",
       "  <tbody>\n",
       "    <tr>\n",
       "      <th>0</th>\n",
       "      <td>Alice</td>\n",
       "      <td>30</td>\n",
       "    </tr>\n",
       "    <tr>\n",
       "      <th>1</th>\n",
       "      <td>Bob</td>\n",
       "      <td>35</td>\n",
       "    </tr>\n",
       "    <tr>\n",
       "      <th>2</th>\n",
       "      <td>Claire</td>\n",
       "      <td>32</td>\n",
       "    </tr>\n",
       "  </tbody>\n",
       "</table>\n",
       "</div>"
      ],
      "text/plain": [
       "     Name  Age\n",
       "0   Alice   30\n",
       "1     Bob   35\n",
       "2  Claire   32"
      ]
     },
     "execution_count": 30,
     "metadata": {},
     "output_type": "execute_result"
    }
   ],
   "source": [
    "# Q5. What are some common functions you can use to manipulate data in a Pandas DataFrame? Can\n",
    "#     you give an example of when you might use one of these functions?\n",
    "\n",
    "# 1) \n",
    "# head() and tail(): These functions display the first or last n rows of the DataFrame\n",
    "print(\"Head\")\n",
    "print(Dframe.head(2))  # Prints the first 2 rows\n",
    "print(\"Tail\")\n",
    "print(Dframe.tail(2))  # Prints the last 2 rows\n",
    "\n",
    "# 2)\n",
    "# describe(): This function provides a statistical summary of the DataFrame,\n",
    "# which is beneficial for understanding the data's overall distribution.\n",
    "print(Dframe.describe())\n",
    "\n",
    "\n",
    "# 3)\n",
    "# sort_values(): This function sorts a DataFrame by one or more columns.\n",
    "print(Dframe.sort_values('Age'))  # Sorts the DataFrame by the 'Age' column\n",
    "\n",
    "\n",
    "# 4) \n",
    "\"\"\"\n",
    "loc[] and iloc[]: These functions select data by label (loc) or by position (iloc), \n",
    "which is useful when you need to filter or subset the data.\n",
    "\"\"\"\n",
    "print(Dframe.loc[Dframe['Age'] > 25] )\n",
    "\n",
    "\n",
    "# 5)\n",
    "\"\"\"\n",
    "groupby(): This function groups the DataFrame by one or more columns, \n",
    "allowing aggregation functions to be applied to each group.\n",
    "\"\"\"\n",
    "try:\n",
    "    print(print(Dframe.groupby('Gender').mean(numeric_only=True)))\n",
    "except:\n",
    "    pass\n",
    "\n",
    "# 6) \n",
    "\"\"\"\n",
    "apply() and applymap(): These functions apply a function to a DataFrame or Series, respectively.\n",
    "They are useful for complex data transformations.\n",
    "\"\"\"\n",
    "Dframe['Age'] = Dframe['Age'].apply(lambda x: x + 1)\n",
    "\n",
    "\n",
    "# 7) \n",
    "\"\"\"drop() and dropna(): These functions remove rows or columns (drop) or rows with missing values \n",
    "(dropna), respectively\"\"\"\n",
    "Dframe.drop('Gender', axis=1)  # Drops the 'Gender' column\n"
   ]
  },
  {
   "cell_type": "code",
   "execution_count": 1,
   "id": "adab4ef8-04ac-4e2d-bedb-5d94a522f9d0",
   "metadata": {},
   "outputs": [
    {
     "name": "stdout",
     "output_type": "stream",
     "text": [
      "0    1\n",
      "1    2\n",
      "2    3\n",
      "dtype: int64\n",
      "0    10\n",
      "1     2\n",
      "2     3\n",
      "dtype: int64\n",
      "   A  B\n",
      "0  1  3\n",
      "1  2  4\n",
      "    A  B\n",
      "0  10  3\n",
      "1   2  4\n"
     ]
    },
    {
     "ename": "AttributeError",
     "evalue": "module 'pandas' has no attribute 'Panel'",
     "output_type": "error",
     "traceback": [
      "\u001b[0;31m---------------------------------------------------------------------------\u001b[0m",
      "\u001b[0;31mAttributeError\u001b[0m                            Traceback (most recent call last)",
      "Cell \u001b[0;32mIn[1], line 31\u001b[0m\n\u001b[1;32m     28\u001b[0m \u001b[38;5;28;01mimport\u001b[39;00m \u001b[38;5;21;01mnumpy\u001b[39;00m \u001b[38;5;28;01mas\u001b[39;00m \u001b[38;5;21;01mnp\u001b[39;00m\n\u001b[1;32m     30\u001b[0m data \u001b[38;5;241m=\u001b[39m np\u001b[38;5;241m.\u001b[39mrandom\u001b[38;5;241m.\u001b[39mrand(\u001b[38;5;241m2\u001b[39m, \u001b[38;5;241m4\u001b[39m, \u001b[38;5;241m5\u001b[39m)\n\u001b[0;32m---> 31\u001b[0m p \u001b[38;5;241m=\u001b[39m \u001b[43mpd\u001b[49m\u001b[38;5;241;43m.\u001b[39;49m\u001b[43mPanel\u001b[49m(data)\n\u001b[1;32m     33\u001b[0m \u001b[38;5;28mprint\u001b[39m(\u001b[38;5;124m\"\u001b[39m\u001b[38;5;124mOriginal Panel:\u001b[39m\u001b[38;5;124m\"\u001b[39m)\n\u001b[1;32m     34\u001b[0m \u001b[38;5;28mprint\u001b[39m(p)\n",
      "File \u001b[0;32m/opt/conda/lib/python3.10/site-packages/pandas/__init__.py:264\u001b[0m, in \u001b[0;36m__getattr__\u001b[0;34m(name)\u001b[0m\n\u001b[1;32m    260\u001b[0m     \u001b[38;5;28;01mfrom\u001b[39;00m \u001b[38;5;21;01mpandas\u001b[39;00m\u001b[38;5;21;01m.\u001b[39;00m\u001b[38;5;21;01mcore\u001b[39;00m\u001b[38;5;21;01m.\u001b[39;00m\u001b[38;5;21;01marrays\u001b[39;00m\u001b[38;5;21;01m.\u001b[39;00m\u001b[38;5;21;01msparse\u001b[39;00m \u001b[38;5;28;01mimport\u001b[39;00m SparseArray \u001b[38;5;28;01mas\u001b[39;00m _SparseArray\n\u001b[1;32m    262\u001b[0m     \u001b[38;5;28;01mreturn\u001b[39;00m _SparseArray\n\u001b[0;32m--> 264\u001b[0m \u001b[38;5;28;01mraise\u001b[39;00m \u001b[38;5;167;01mAttributeError\u001b[39;00m(\u001b[38;5;124mf\u001b[39m\u001b[38;5;124m\"\u001b[39m\u001b[38;5;124mmodule \u001b[39m\u001b[38;5;124m'\u001b[39m\u001b[38;5;124mpandas\u001b[39m\u001b[38;5;124m'\u001b[39m\u001b[38;5;124m has no attribute \u001b[39m\u001b[38;5;124m'\u001b[39m\u001b[38;5;132;01m{\u001b[39;00mname\u001b[38;5;132;01m}\u001b[39;00m\u001b[38;5;124m'\u001b[39m\u001b[38;5;124m\"\u001b[39m)\n",
      "\u001b[0;31mAttributeError\u001b[0m: module 'pandas' has no attribute 'Panel'"
     ]
    }
   ],
   "source": [
    "# Q6. Which of the following is mutable in nature Series, DataFrame, Panel?\n",
    "\"\"\"\n",
    "All three of these Pandas data structures - Series, DataFrame, and Panel - are mutable in nature. \n",
    "This means you can modify them after they have been created.\n",
    "\"\"\"\n",
    "# Series: You can change the value of elements, add new elements, or delete elements in a Series.\n",
    "import pandas as pd\n",
    "s = pd.Series([1, 2, 3])\n",
    "print(s)\n",
    "s[0] = 10\n",
    "print(s)\n",
    "\n",
    "# DataFrame: You can change the value of elements,add new columns, delete columns in a DataFrame\n",
    "df = pd.DataFrame({\"A\": [1, 2], \"B\": [3, 4]})\n",
    "print(df)\n",
    "df.at[0, 'A'] = 10\n",
    "print(df)\n",
    "\n",
    "\n",
    "\"\"\"\n",
    "A Panel is a three-dimensional data structure in pandas, which is used to handle 3D data. \n",
    "The term Panel comes from econometrics and is partially responsible for the name pandas: \n",
    "\"\"\"\n",
    "\n",
    "\n",
    "\n",
    "import pandas as pd\n",
    "import numpy as np\n",
    "\n",
    "data = np.random.rand(2, 4, 5)\n",
    "p = pd.Panel(data)\n",
    "\n",
    "print(\"Original Panel:\")\n",
    "print(p)\n",
    "\n",
    "p[0][0][0] = 999\n",
    "\n",
    "print(\"Modified Panel:\")\n",
    "print(p)"
   ]
  },
  {
   "cell_type": "code",
   "execution_count": null,
   "id": "82955e0a-4deb-49dc-aa1c-66519c329105",
   "metadata": {},
   "outputs": [],
   "source": [
    "# Q7 Create a DataFrame using multiple Series. Explain with an example.\n",
    "# Define some Series\n",
    "series1 = pd.Series([1, 2, 3], name=\"A\")\n",
    "series2 = pd.Series([4, 5, 6], name=\"B\")\n",
    "series3 = pd.Series([7, 8, 9], name=\"C\")\n",
    "\n",
    "# Create a DataFrame from the Series\n",
    "df = pd.concat([series1, series2, series3], axis=1)\n",
    "\n",
    "print(df)\n"
   ]
  },
  {
   "cell_type": "code",
   "execution_count": null,
   "id": "ad80be81-f81d-4293-89fe-051504d0a263",
   "metadata": {},
   "outputs": [],
   "source": []
  },
  {
   "cell_type": "code",
   "execution_count": null,
   "id": "2c544ec9-7a64-4c37-8a41-2dd437c145b1",
   "metadata": {},
   "outputs": [],
   "source": []
  }
 ],
 "metadata": {
  "kernelspec": {
   "display_name": "Python 3 (ipykernel)",
   "language": "python",
   "name": "python3"
  },
  "language_info": {
   "codemirror_mode": {
    "name": "ipython",
    "version": 3
   },
   "file_extension": ".py",
   "mimetype": "text/x-python",
   "name": "python",
   "nbconvert_exporter": "python",
   "pygments_lexer": "ipython3",
   "version": "3.10.8"
  }
 },
 "nbformat": 4,
 "nbformat_minor": 5
}
