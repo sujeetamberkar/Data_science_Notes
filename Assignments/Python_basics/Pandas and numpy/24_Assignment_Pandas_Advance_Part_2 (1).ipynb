{
 "cells": [
  {
   "cell_type": "code",
   "execution_count": 1,
   "id": "cd4a11fe-1e73-4da3-9c4f-7dd4cdbe07d9",
   "metadata": {},
   "outputs": [
    {
     "data": {
      "text/html": [
       "<div>\n",
       "<style scoped>\n",
       "    .dataframe tbody tr th:only-of-type {\n",
       "        vertical-align: middle;\n",
       "    }\n",
       "\n",
       "    .dataframe tbody tr th {\n",
       "        vertical-align: top;\n",
       "    }\n",
       "\n",
       "    .dataframe thead th {\n",
       "        text-align: right;\n",
       "    }\n",
       "</style>\n",
       "<table border=\"1\" class=\"dataframe\">\n",
       "  <thead>\n",
       "    <tr style=\"text-align: right;\">\n",
       "      <th></th>\n",
       "      <th>course_name</th>\n",
       "      <th>duration</th>\n",
       "    </tr>\n",
       "  </thead>\n",
       "  <tbody>\n",
       "    <tr>\n",
       "      <th>0</th>\n",
       "      <td>Data Science</td>\n",
       "      <td>2</td>\n",
       "    </tr>\n",
       "    <tr>\n",
       "      <th>1</th>\n",
       "      <td>Machine Learning</td>\n",
       "      <td>3</td>\n",
       "    </tr>\n",
       "    <tr>\n",
       "      <th>2</th>\n",
       "      <td>Big Data</td>\n",
       "      <td>6</td>\n",
       "    </tr>\n",
       "    <tr>\n",
       "      <th>3</th>\n",
       "      <td>Data Engineer</td>\n",
       "      <td>4</td>\n",
       "    </tr>\n",
       "  </tbody>\n",
       "</table>\n",
       "</div>"
      ],
      "text/plain": [
       "        course_name  duration\n",
       "0      Data Science         2\n",
       "1  Machine Learning         3\n",
       "2          Big Data         6\n",
       "3     Data Engineer         4"
      ]
     },
     "execution_count": 1,
     "metadata": {},
     "output_type": "execute_result"
    }
   ],
   "source": [
    "# Consider following code to answer further questions:\n",
    "import pandas as pd\n",
    "course_name = ['Data Science', 'Machine Learning', 'Big Data', 'Data Engineer']\n",
    "duration = [2,3,6,4]\n",
    "df = pd.DataFrame(data = {'course_name' : course_name, 'duration' : duration})\n",
    "df"
   ]
  },
  {
   "cell_type": "code",
   "execution_count": 2,
   "id": "ab35b180-839e-43c8-87ce-920e035468aa",
   "metadata": {},
   "outputs": [
    {
     "name": "stdout",
     "output_type": "stream",
     "text": [
      "course_name    Machine Learning\n",
      "duration                      3\n",
      "Name: 1, dtype: object\n"
     ]
    }
   ],
   "source": [
    "# Q1. Write a code to print the data present in the second row of the dataframe, df.\n",
    "print(df.iloc[1])"
   ]
  },
  {
   "cell_type": "code",
   "execution_count": 4,
   "id": "54d0c08d-cdaf-44b1-b34c-b9a8dd0abe73",
   "metadata": {},
   "outputs": [
    {
     "name": "stdout",
     "output_type": "stream",
     "text": [
      "Selecting using loc:\n",
      "A    2\n",
      "B    b\n",
      "Name: 1, dtype: object\n",
      "\n",
      "Selecting using iloc:\n",
      "A    2\n",
      "B    b\n",
      "Name: 1, dtype: object\n"
     ]
    }
   ],
   "source": [
    "# Q2. What is the difference between the functions loc and iloc in pandas.DataFrame?\n",
    "\"\"\"\n",
    "In pandas, loc and iloc are used for indexing and selecting data from a DataFrame, \n",
    "but they work in different ways:\n",
    "\n",
    "loc is a label-based data selection method which means that we have to pass the name of the row \n",
    "or column which we want to select. \n",
    "This method includes the last element of the range. \n",
    "So, df.loc[a:b] will select elements from 'a' to 'b' including both 'a' and 'b'.\n",
    "Moreover, with loc, we can select or index rows based on particular labels from the index.\n",
    "\n",
    "\n",
    "iloc is an integer index-based method which means that we have to pass integer index \n",
    "in the method to select specific row/column. This method does not include the last element \n",
    "of the range unlike loc. So df.iloc[a:b] will select elements from index 'a' to 'b-1'.\n",
    "\"\"\"\n",
    "# Selecting data using loc\n",
    "print(\"Selecting using loc:\")\n",
    "print(df.loc[1])\n",
    "\n",
    "# Selecting data using iloc\n",
    "print(\"\\nSelecting using iloc:\")\n",
    "print(df.iloc[1])\n"
   ]
  },
  {
   "cell_type": "code",
   "execution_count": 7,
   "id": "10a06357-fa31-4bea-acd6-2d0d4284a4db",
   "metadata": {},
   "outputs": [
    {
     "name": "stdout",
     "output_type": "stream",
     "text": [
      "new_df.loc[2]:\n",
      "A    3\n",
      "B    c\n",
      "Name: 2, dtype: object\n",
      "\n",
      "new_df.iloc[2]:\n",
      "A    2\n",
      "B    b\n",
      "Name: 1, dtype: object\n"
     ]
    },
    {
     "data": {
      "text/plain": [
       "'\\ndf.loc[] returns a row based on the index label, while df.iloc[] returns a row based on the\\nposition in the DataFrame, regardless of the index label. So, even though the row labels may\\nhave been changed with reindexing, iloc still refers to the actual positional index.\\n'"
      ]
     },
     "execution_count": 7,
     "metadata": {},
     "output_type": "execute_result"
    }
   ],
   "source": [
    "\"\"\"\n",
    "Q3. Reindex the given dataframe using a variable, reindex = [3,0,1,2] and store it in the variable,\n",
    "new_df then find the output for both new_df.loc[2] and new_df.iloc[2].\n",
    "Did you observe any difference in both the outputs? If so then explain it.\n",
    "\"\"\"\n",
    "\n",
    "reindex = [3,0,1,2]\n",
    "new_df = df.reindex(reindex)\n",
    "print(\"new_df.loc[2]:\")\n",
    "print(new_df.loc[2])\n",
    "\n",
    "print(\"\\nnew_df.iloc[2]:\")\n",
    "print(new_df.iloc[2])\n",
    "\"\"\"\n",
    "df.loc[] returns a row based on the index label, while df.iloc[] returns a row based on the\n",
    "position in the DataFrame, regardless of the index label. So, even though the row labels may\n",
    "have been changed with reindexing, iloc still refers to the actual positional index.\n",
    "\"\"\""
   ]
  },
  {
   "cell_type": "code",
   "execution_count": 13,
   "id": "ad4c27a7-d70a-4456-95b3-fa29490abd04",
   "metadata": {},
   "outputs": [
    {
     "name": "stdout",
     "output_type": "stream",
     "text": [
      "mean of each and every column present in the dataframe\n",
      "column_1    0.397389\n",
      "column_2    0.465197\n",
      "column_3    0.498760\n",
      "column_4    0.639423\n",
      "column_5    0.489583\n",
      "column_6    0.448529\n",
      "dtype: float64\n",
      "standard deviation of column, ‘column_2’\n",
      "0.3431263024886867\n"
     ]
    }
   ],
   "source": [
    "# Consider the below code to answer further questions:\n",
    "import pandas as pd\n",
    "import numpy as np\n",
    "columns = ['column_1', 'column_2', 'column_3', 'column_4', 'column_5', 'column_6']\n",
    "indices = [1,2,3,4,5,6]\n",
    "df1 = pd.DataFrame(np.random.rand(6,6), columns = columns, index = indices)\n",
    "\n",
    "\"\"\"\n",
    "Q4. Write a code to find the following statistical measurements for the above dataframe df1:\n",
    "\"\"\"\n",
    "print(\"mean of each and every column present in the dataframe\")\n",
    "mean = df1.mean()\n",
    "print(mean)\n",
    "# (ii) standard deviation of column, ‘column_2’\n",
    "print('standard deviation of column, ‘column_2’')\n",
    "std_dev = df1['column_2'].std()\n",
    "print(std_dev)\n",
    "\n"
   ]
  },
  {
   "cell_type": "code",
   "execution_count": 16,
   "id": "fe003965-5b4a-4e64-b2dd-e6a3f431e1ec",
   "metadata": {},
   "outputs": [
    {
     "name": "stdout",
     "output_type": "stream",
     "text": [
      "Error: unsupported operand type(s) for +: 'float' and 'str'\n"
     ]
    },
    {
     "data": {
      "text/plain": [
       "\"In this case, an error would be thrown because 'column_2' now contains a mixture of numeric \\nand non-numeric data (since we added a string to it). You can't calculate the mean of a series \\nof data that isn't entirely numeric\""
      ]
     },
     "execution_count": 16,
     "metadata": {},
     "output_type": "execute_result"
    }
   ],
   "source": [
    "\"\"\"\n",
    "Q5. Replace the data present in the second row of column, ‘column_2’ by a string variable then\n",
    "find the mean of column, column_2.\n",
    "If you are getting errors in executing it then explain why.\n",
    "\"\"\"\n",
    "df1.loc[2, 'column_2'] = 'a string'\n",
    "try:\n",
    "    mean_column_2 = df1['column_2'].mean()\n",
    "    print(mean_column_2)\n",
    "except Exception as e:\n",
    "    print(\"Error:\", e)\n",
    "\"\"\"In this case, an error would be thrown because 'column_2' now contains a mixture of numeric \n",
    "and non-numeric data (since we added a string to it). You can't calculate the mean of a series \n",
    "of data that isn't entirely numeric\"\"\""
   ]
  },
  {
   "cell_type": "code",
   "execution_count": 19,
   "id": "2e4b2cca-ea82-4789-819f-bf9d06e2d020",
   "metadata": {},
   "outputs": [
    {
     "name": "stdout",
     "output_type": "stream",
     "text": [
      "   a\n",
      "0  3\n",
      "1  4\n",
      "2  5\n",
      "3  2\n",
      "4  1\n",
      "5  3\n",
      "6  4\n",
      "7  5\n",
      "8  6\n"
     ]
    },
    {
     "data": {
      "text/plain": [
       "0         NaN\n",
       "1         NaN\n",
       "2    4.000000\n",
       "3    3.666667\n",
       "4    2.666667\n",
       "5    2.000000\n",
       "6    2.666667\n",
       "7    4.000000\n",
       "8    5.000000\n",
       "Name: a, dtype: float64"
      ]
     },
     "execution_count": 19,
     "metadata": {},
     "output_type": "execute_result"
    }
   ],
   "source": [
    "# Q6. What do you understand about the windows function in pandas and list the types of windows\n",
    "#     functions?\n",
    "\"\"\"\n",
    "In pandas, window functions are a family of functions used for data aggregation. \n",
    "They perform a calculation over a set of rows (a \"window\") that are somehow related to the \n",
    "current row. This is comparable to the kind of calculation made by an aggregate function. \n",
    "But unlike regular aggregate functions, use of a window function does not cause rows to \n",
    "become grouped into a single output row — the rows retain their separate identities.\n",
    "\n",
    "\n",
    "    1) Rolling Window: Provides rolling window calculations. The number of periods in the window \n",
    "                       is specified.\n",
    "    Expanding Window: Provides expanding transformations, where the size of the window increases \n",
    "                      as it goes down the rows.\n",
    "    Exponentially Weighted Window: Provides exponentially weighted windows, where the weights \n",
    "                                   decrease exponentially.\n",
    "\"\"\"\n",
    "import pandas as pd\n",
    "df4=pd.DataFrame({'a':[3,4,5,2,1,3,4,5,6]})\n",
    "print(df4)\n",
    "# WIndowing function \n",
    "# Ask for 3 data ahbove it \n",
    "df4['a'].rolling(window=3).mean()"
   ]
  },
  {
   "cell_type": "code",
   "execution_count": 20,
   "id": "4390f30b-5535-4762-929f-b9144ae9f9db",
   "metadata": {},
   "outputs": [
    {
     "name": "stdout",
     "output_type": "stream",
     "text": [
      "Current Month:  6\n",
      "Current Year:  2023\n"
     ]
    },
    {
     "name": "stderr",
     "output_type": "stream",
     "text": [
      "/tmp/ipykernel_1890/3651466088.py:4: FutureWarning: The parsing of 'now' in pd.to_datetime without `utc=True` is deprecated. In a future version, this will match Timestamp('now') and Timestamp.now()\n",
      "  current_time = pd.to_datetime('now')\n"
     ]
    }
   ],
   "source": [
    "# Q7. Write a code to print only the current month and year at the time of answering this question.\n",
    "# [Hint: Use pandas.datetime function]\n",
    "import pandas as pd\n",
    "current_time = pd.to_datetime('now')\n",
    "print(\"Current Month: \", current_time.month)\n",
    "print(\"Current Year: \", current_time.year)\n"
   ]
  },
  {
   "cell_type": "code",
   "execution_count": 23,
   "id": "b29aa14a-190f-4fe2-a70b-240e235adc61",
   "metadata": {},
   "outputs": [
    {
     "name": "stdin",
     "output_type": "stream",
     "text": [
      "Enter the first date in YYYY-MM-DD format:  2023-03-2\n",
      "Enter the second date in YYYY-MM-DD format:  2024-04-4\n"
     ]
    },
    {
     "name": "stdout",
     "output_type": "stream",
     "text": [
      "Difference in days:  399\n",
      "Difference in hours:  9576.0\n",
      "Difference in minutes:  574560.0\n"
     ]
    }
   ],
   "source": [
    "\"\"\"\n",
    "Q8. Write a Python program that takes in two dates as input (in the format YYYY-MM-DD) and\n",
    "calculates the difference between them in days, hours, and minutes using Pandas time delta. The\n",
    "program should prompt the user to enter the dates and display the result.\n",
    "\"\"\"\n",
    "\n",
    "import pandas as pd\n",
    "\n",
    "date1 = input(\"Enter the first date in YYYY-MM-DD format: \")\n",
    "date2 = input(\"Enter the second date in YYYY-MM-DD format: \")\n",
    "\n",
    "date1 = pd.to_datetime(date1)\n",
    "date2 = pd.to_datetime(date2)\n",
    "\n",
    "delta = date2 - date1\n",
    "\n",
    "print(\"Difference in days: \", delta.days)\n",
    "print(\"Difference in hours: \", delta.total_seconds()//3600)\n",
    "print(\"Difference in minutes: \", delta.total_seconds()//60)\n"
   ]
  },
  {
   "cell_type": "code",
   "execution_count": 24,
   "id": "bec3c22f-08b0-43c7-888c-9cb9c598fca1",
   "metadata": {},
   "outputs": [
    {
     "name": "stdin",
     "output_type": "stream",
     "text": [
      "Enter the file path:  o.csv\n",
      "Enter the column name:  Age\n",
      "Enter the category order (separated by commas):  20,21,24\n"
     ]
    },
    {
     "name": "stdout",
     "output_type": "stream",
     "text": [
      "     Unnamed: 0   Rk          Player Pos  Age   Tm   G  GS    MP   FG  ...  \\\n",
      "451         451  348    Jusuf Nurkić   C   20  DEN  62  27  1103  171  ...   \n",
      "265         265  201     Gary Harris  SG   20  DEN  55   6   719   66  ...   \n",
      "189         189  144     Tyler Ennis  PG   20  MIL  25   1   353   43  ...   \n",
      "188         188  144     Tyler Ennis  PG   20  PHO   8   0    58    9  ...   \n",
      "187         187  144     Tyler Ennis  PG   20  TOT  33   1   411   52  ...   \n",
      "..          ...  ...             ...  ..  ...  ...  ..  ..   ...  ...  ...   \n",
      "670         670  490  Thaddeus Young  PF  NaN  TOT  76  68  2434  451  ...   \n",
      "671         671  490  Thaddeus Young  PF  NaN  MIN  48  48  1605  289  ...   \n",
      "672         672  490  Thaddeus Young  PF  NaN  BRK  28  20   829  162  ...   \n",
      "673         673  491     Cody Zeller   C  NaN  CHO  62  45  1487  172  ...   \n",
      "674         674  492    Tyler Zeller   C  NaN  BOS  82  59  1731  340  ...   \n",
      "\n",
      "       FT%  ORB  DRB  TRB  AST  STL BLK  TOV   PF   PTS  \n",
      "451   .636  125  257  382   50   52  68   86  207   426  \n",
      "265   .745   21   43   64   29   39   7   38   71   188  \n",
      "189   .600    6   22   28   59   18   3   34   33    99  \n",
      "188  1.000    1    6    7   14    0   2    8    3    22  \n",
      "187   .714    7   28   35   73   18   5   42   36   121  \n",
      "..     ...  ...  ...  ...  ...  ...  ..  ...  ...   ...  \n",
      "670   .655  127  284  411  173  124  25  117  171  1071  \n",
      "671   .682   75  170  245  135   86  17   75  115   685  \n",
      "672   .606   52  114  166   38   38   8   42   56   386  \n",
      "673   .774   97  265  362  100   34  49   62  156   472  \n",
      "674   .823  146  319  465  113   18  52   76  205   833  \n",
      "\n",
      "[675 rows x 31 columns]\n"
     ]
    }
   ],
   "source": [
    "\"\"\"\n",
    "Write a Python program that reads a CSV file containing categorical data and converts a specified\n",
    "column to a categorical data type. The program should prompt the user to enter the file path, column\n",
    "name, and category order, and then display the sorted data.\n",
    "\"\"\"\n",
    "import pandas as pd\n",
    "\n",
    "file_path = input(\"Enter the file path: \")\n",
    "column_name = input(\"Enter the column name: \")\n",
    "category_order = input(\"Enter the category order (separated by commas): \")\n",
    "category_order = category_order.split(',')\n",
    "\n",
    "df = pd.read_csv(file_path)\n",
    "\n",
    "df[column_name] = pd.Categorical(df[column_name], categories=category_order, ordered=True)\n",
    "\n",
    "df = df.sort_values(column_name)\n",
    "\n",
    "print(df)\n"
   ]
  },
  {
   "cell_type": "code",
   "execution_count": 26,
   "id": "30ef534b-d174-4f0f-b15d-7bbad9aa1e83",
   "metadata": {},
   "outputs": [
    {
     "name": "stdin",
     "output_type": "stream",
     "text": [
      "Enter the file path:  10.csv\n"
     ]
    },
    {
     "data": {
      "text/plain": [
       "<AxesSubplot: xlabel='Date'>"
      ]
     },
     "execution_count": 26,
     "metadata": {},
     "output_type": "execute_result"
    },
    {
     "data": {
      "image/png": "[encoded data removed]",
      "text/plain": [
       "<Figure size 640x480 with 1 Axes>"
      ]
     },
     "metadata": {},
     "output_type": "display_data"
    }
   ],
   "source": [
    "\"\"\"\n",
    "Q10. Write a Python program that reads a CSV file containing sales data for different products and\n",
    "visualizes the data using a stacked bar chart to show the sales of each product category over time. The\n",
    "program should prompt the user to enter the file path and display the chart.\n",
    "\"\"\"\n",
    "\n",
    "import pandas as pd\n",
    "\n",
    "# User input for file path\n",
    "file_path = input(\"Enter the file path: \")\n",
    "\n",
    "# Read the CSV file into a DataFrame\n",
    "df = pd.read_csv(file_path)\n",
    "\n",
    "# Pivot the data to get the format needed for a stacked bar plot\n",
    "pivot_df = df.pivot(index='Date', columns='Product', values='Sales')\n",
    "\n",
    "# Plot the data\n",
    "pivot_df.plot(kind='bar', stacked=True)"
   ]
  },
  {
   "cell_type": "code",
   "execution_count": null,
   "id": "84f8db8d-5018-47c8-8caf-29fdbe970bf3",
   "metadata": {},
   "outputs": [],
   "source": [
    "\"\"\"\n",
    "Q11. You are given a CSV file containing student data that includes the student ID and\n",
    "their test \n",
    "score. Write\n",
    "a Python program that reads the CSV file, calculates the mean, median, \n",
    "and mode of the test scores, and\n",
    "displays the results in a table.\n",
    "\"\"\"\n",
    "\n"
   ]
  }
 ],
 "metadata": {
  "kernelspec": {
   "display_name": "Python 3 (ipykernel)",
   "language": "python",
   "name": "python3"
  },
  "language_info": {
   "codemirror_mode": {
    "name": "ipython",
    "version": 3
   },
   "file_extension": ".py",
   "mimetype": "text/x-python",
   "name": "python",
   "nbconvert_exporter": "python",
   "pygments_lexer": "ipython3",
   "version": "3.10.8"
  }
 },
 "nbformat": 4,
 "nbformat_minor": 5
}
