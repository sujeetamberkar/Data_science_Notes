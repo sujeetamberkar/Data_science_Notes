{
 "cells": [
  {
   "cell_type": "code",
   "execution_count": 1,
   "id": "3369cb1c-f4e7-46a3-8b70-d2680d9997aa",
   "metadata": {},
   "outputs": [
    {
     "name": "stdout",
     "output_type": "stream",
     "text": [
      "     Name   Age    Address Qualification\n",
      "0     Jai  27.0      Delhi           Msc\n",
      "1  Princi  24.0     Kanpur            MA\n",
      "2  Gaurav  22.0  Allahabad           MCA\n",
      "3    Anuj  32.0    Kannauj           Phd\n",
      "4    Geet   NaN      Delhi        B.tech\n",
      "     Name   Age Address Qualification\n",
      "0     Jai  27.0   Delhi           Msc\n",
      "1  Princi  24.0  Kanpur            MA\n",
      "             Age\n",
      "count   4.000000\n",
      "mean   26.250000\n",
      "std     4.349329\n",
      "min    22.000000\n",
      "25%    23.500000\n",
      "50%    25.500000\n",
      "75%    28.250000\n",
      "max    32.000000\n",
      "    Name    Age  Address  Qualification\n",
      "0  False  False    False          False\n",
      "1  False  False    False          False\n",
      "2  False  False    False          False\n",
      "3  False  False    False          False\n",
      "4  False   True    False          False\n",
      "     Name   Age    Address Qualification\n",
      "0     Jai  27.0      Delhi           Msc\n",
      "1  Princi  24.0     Kanpur            MA\n",
      "2  Gaurav  22.0  Allahabad           MCA\n",
      "3    Anuj  32.0    Kannauj           Phd\n",
      "Name             Princi\n",
      "Age                24.0\n",
      "Address          Kanpur\n",
      "Qualification        MA\n",
      "Name: 1, dtype: object\n"
     ]
    }
   ],
   "source": [
    "# Q1) List any five functions of the pandas library with execution.\n",
    "import pandas as pd\n",
    "data = {'Name':['Jai', 'Princi', 'Gaurav', 'Anuj', 'Geet'], \n",
    "        'Age':[27, 24, 22, 32, None], \n",
    "        'Address':['Delhi', 'Kanpur', 'Allahabad', 'Kannauj', 'Delhi'], \n",
    "        'Qualification':['Msc', 'MA', 'MCA', 'Phd', 'B.tech']}\n",
    "df = pd.DataFrame(data)\n",
    "print(df)\n",
    "\n",
    "# 1) head(): Returns the first N rows from the DataFrame. By default, it returns first few rows.\n",
    "print(df.head(2))  # returns first 3 rows\n",
    "\n",
    "# 2) describe(): Used to view some basic statistical details like percentile, mean, standard deviation etc. of a DataFrame.\n",
    "print(df.describe())\n",
    "# 3) isnull(): It is used to detect missing values. It returns a Boolean same-sized object indicating if the values are NA.\n",
    "print(df.isnull())\n",
    "# 4) dropna(): Removes missing values.\n",
    "df_clean = df.dropna()\n",
    "print(df_clean)\n",
    "# 5) loc[]: Access a group of rows and columns by label(s) or a boolean array.\n",
    "print(df.loc[1])  # returns data at index 1\n"
   ]
  },
  {
   "cell_type": "code",
   "execution_count": 3,
   "id": "3af593ca-0d10-4f5b-8aa0-1556463199a4",
   "metadata": {},
   "outputs": [
    {
     "name": "stdout",
     "output_type": "stream",
     "text": [
      "   A   B   C\n",
      "0  1   6  11\n",
      "1  2   7  12\n",
      "2  3   8  13\n",
      "3  4   9  14\n",
      "4  5  10  15\n",
      "   A   B   C\n",
      "1  1   6  11\n",
      "3  2   7  12\n",
      "5  3   8  13\n",
      "7  4   9  14\n",
      "9  5  10  15\n"
     ]
    }
   ],
   "source": [
    "\"\"\"\n",
    "Q2. Given a Pandas DataFrame df with columns 'A', 'B', and 'C', write a Python function to re-index the\n",
    "DataFrame with a new index that starts from 1 and increments by 2 for each row.\n",
    "\"\"\"\n",
    "import pandas as pd\n",
    "\n",
    "# Suppose we have the following DataFrame\n",
    "df = pd.DataFrame({\n",
    "    'A': [1, 2, 3, 4, 5],\n",
    "    'B': [6, 7, 8, 9, 10],\n",
    "    'C': [11, 12, 13, 14, 15]\n",
    "})\n",
    "\n",
    "def reindex_df(df):\n",
    "    n_rows = len(df)\n",
    "    new_index = list(range(1, 2*n_rows+1, 2))\n",
    "    df.index = new_index\n",
    "\n",
    "print(df)\n",
    "reindex_df(df)\n",
    "print(df)\n"
   ]
  },
  {
   "cell_type": "code",
   "execution_count": 4,
   "id": "7f08a113-b515-4a52-8c84-751926c6e38c",
   "metadata": {},
   "outputs": [
    {
     "name": "stdout",
     "output_type": "stream",
     "text": [
      "The sum of the first three values is: 60\n"
     ]
    }
   ],
   "source": [
    "\"\"\"\n",
    "Q3. You have a Pandas DataFrame df with a column named 'Values'. Write a Python function that\n",
    "iterates over the DataFrame and calculates the sum of the first three values in the 'Values' column. The\n",
    "function should print the sum to the console.\n",
    "For example, if the 'Values' column of df contains the values [10, 20, 30, 40, 50], your function should\n",
    "calculate and print the sum of the first three values, which is 60.\n",
    "\"\"\"\n",
    "\n",
    "import pandas as pd\n",
    "\n",
    "df = pd.DataFrame({\n",
    "    'Values': [10, 20, 30, 40, 50]\n",
    "})\n",
    "\n",
    "def sum_first_three(df):\n",
    "    if len(df) >= 3:\n",
    "        sum_values = df['Values'].iloc[:3].sum()\n",
    "        print(f\"The sum of the first three values is: {sum_values}\")\n",
    "    else:\n",
    "        print(\"The DataFrame has fewer than 3 rows\")\n",
    "sum_first_three(df)"
   ]
  },
  {
   "cell_type": "code",
   "execution_count": 5,
   "id": "41856f8f-740f-46a0-a095-120fb024b9d0",
   "metadata": {},
   "outputs": [
    {
     "name": "stdout",
     "output_type": "stream",
     "text": [
      "                        Text  Word_Count\n",
      "0                Hello world           2\n",
      "1              I love Python           3\n",
      "2            Pandas is great           3\n",
      "3  Data analysis with Python           4\n"
     ]
    }
   ],
   "source": [
    "\"\"\"\n",
    "Q4. Given a Pandas DataFrame df with a column 'Text', write a Python function to create a new column\n",
    "'Word_Count' that contains the number of words in each row of the 'Text' column.\n",
    "\"\"\"\n",
    "import pandas as pd\n",
    "df = pd.DataFrame({\n",
    "    'Text': ['Hello world', 'I love Python', 'Pandas is great', 'Data analysis with Python']\n",
    "})\n",
    "\n",
    "df['Word_Count'] = df['Text'].apply(lambda x: len(x.split()))\n",
    "\n",
    "print(df)\n"
   ]
  },
  {
   "cell_type": "code",
   "execution_count": 7,
   "id": "52474ab6-4e42-48a7-a1ef-9f2aa82e9a41",
   "metadata": {},
   "outputs": [
    {
     "name": "stdout",
     "output_type": "stream",
     "text": [
      "6\n",
      "(3, 2)\n"
     ]
    }
   ],
   "source": [
    "# Q5. How are DataFrame.size() and DataFrame.shape() different?\n",
    "\"\"\"\n",
    "In pandas, \n",
    "DataFrame.size and DataFrame.shape are attributes.\n",
    "\n",
    "    DataFrame.size: This attribute returns the number of elements in the DataFrame. \n",
    "    it is equivalent to the total number of cells in the DataFrame. \n",
    "    If you have a DataFrame of shape (n, m), df.size would give you n*m.\n",
    "    \n",
    "\n",
    "    DataFrame.shape: This attribute returns a tuple representing the dimensionality of the DataFrame. \n",
    "    The tuple (n, m) gives you the number of rows (n) and the number of columns (m).\n",
    "\"\"\"\n",
    "import pandas as pd\n",
    "\n",
    "df = pd.DataFrame({\n",
    "    'A': [1, 2, 3],\n",
    "    'B': [4, 5, 6]\n",
    "})\n",
    "\n",
    "print(df.size)  \n",
    "print(df.shape) "
   ]
  },
  {
   "cell_type": "code",
   "execution_count": 12,
   "id": "8ca83290-799b-47e3-a493-95d553431d29",
   "metadata": {},
   "outputs": [
    {
     "name": "stdout",
     "output_type": "stream",
     "text": [
      "   Unnamed: 0  Unnamed: 1  Unnamed: 2          Unnamed: 3 Unnamed: 4  \\\n",
      "0         NaN         NaN         NaN                 NaN        NaN   \n",
      "1         NaN         NaN         NaN  Datetimes in LUSID        NaN   \n",
      "\n",
      "  Unnamed: 5  Unnamed: 6 Unnamed: 7 Unnamed: 8 Unnamed: 9  \n",
      "0        NaN         NaN        NaN        NaN        NaN  \n",
      "1        NaN         NaN        NaN        NaN        NaN  \n"
     ]
    }
   ],
   "source": [
    "# Q6. Which function of pandas do we use to read an excel file?\n",
    "import pandas as pd\n",
    "df=pd.read_excel('LUSID Excel - Setting up your market data.xlsx')\n",
    "print(df.head(2))"
   ]
  },
  {
   "cell_type": "code",
   "execution_count": 16,
   "id": "fa96f0ce-397f-4e23-b619-62dcf0486765",
   "metadata": {},
   "outputs": [
    {
     "name": "stdout",
     "output_type": "stream",
     "text": [
      "                       Email         Username\n",
      "0        raj.kumar@gmail.com        raj.kumar\n",
      "1  sujeet.amberkar@yahoo.com  sujeet.amberkar\n",
      "2    sneha.patil@outlook.com      sneha.patil\n",
      "3      priya.singh@gmail.com      priya.singh\n",
      "4      rahul.verma@yahoo.com      rahul.verma\n",
      "5   nisha.sharma@outlook.com     nisha.sharma\n",
      "6      vivek.joshi@gmail.com      vivek.joshi\n",
      "7     manish.kumar@yahoo.com     manish.kumar\n",
      "8    lata.pathak@outlook.com      lata.pathak\n",
      "9   harshita.gupta@gmail.com   harshita.gupta\n"
     ]
    }
   ],
   "source": [
    "\"\"\"\n",
    "Q7. You have a Pandas DataFrame df that contains a column named 'Email' that contains email\n",
    "addresses in the format 'username@domain.com'. Write a Python function that creates a new column\n",
    "'Username' in df that contains only the username part of each email address.\n",
    "The username is the part of the email address that appears before the '@' symbol. For example, if the\n",
    "email address is 'john.doe@example.com', the 'Username' column should contain 'john.doe'. Your\n",
    "function should extract the username from each email address and store it in the new 'Username'\n",
    "column.\n",
    "\"\"\"\n",
    "\n",
    "import pandas as pd\n",
    "df = pd.DataFrame({\n",
    "    'Email': ['raj.kumar@gmail.com', 'sujeet.amberkar@yahoo.com', 'sneha.patil@outlook.com', \n",
    "              'priya.singh@gmail.com', 'rahul.verma@yahoo.com', 'nisha.sharma@outlook.com', \n",
    "              'vivek.joshi@gmail.com', 'manish.kumar@yahoo.com', 'lata.pathak@outlook.com', \n",
    "              'harshita.gupta@gmail.com']\n",
    "})\n",
    "\n",
    "df['Username'] = df['Email'].apply(lambda x: x.split('@')[0])\n",
    "\n",
    "print(df)\n"
   ]
  },
  {
   "cell_type": "code",
   "execution_count": 18,
   "id": "b7e2ebf7-9e3b-41d8-b1dd-6f4412c9d808",
   "metadata": {},
   "outputs": [
    {
     "name": "stdout",
     "output_type": "stream",
     "text": [
      "   A  B  C\n",
      "0  3  5  1\n",
      "1  8  2  7\n",
      "2  6  9  4\n",
      "3  2  3  5\n",
      "4  9  1  2\n",
      "   A  B  C\n",
      "1  8  2  7\n",
      "2  6  9  4\n",
      "4  9  1  2\n"
     ]
    }
   ],
   "source": [
    "\"\"\"\n",
    "Q8. You have a Pandas DataFrame df with columns 'A', 'B', and 'C'. Write a Python function that \n",
    "selectsall rows where the value in column 'A' is greater than 5 and the value in column \n",
    "'B' is less than 10. The function should return a new DataFrame that contains only the \n",
    "selected rows.\"\"\"\n",
    "import pandas as pd\n",
    "df = pd.DataFrame({\n",
    "    'A': [3, 8, 6, 2, 9],\n",
    "    'B': [5, 2, 9, 3, 1],\n",
    "    'C': [1, 7, 4, 5, 2]\n",
    "})\n",
    "\n",
    "def select_rows(df):\n",
    "    selected_rows = df[(df['A'] > 5) & (df['B'] < 10)]\n",
    "    return selected_rows\n",
    "print(df)\n",
    "print(select_rows(df))\n"
   ]
  },
  {
   "cell_type": "code",
   "execution_count": null,
   "id": "e6182f06-4fb7-4053-9a78-98c174fd7e92",
   "metadata": {},
   "outputs": [],
   "source": []
  }
 ],
 "metadata": {
  "kernelspec": {
   "display_name": "Python 3 (ipykernel)",
   "language": "python",
   "name": "python3"
  },
  "language_info": {
   "codemirror_mode": {
    "name": "ipython",
    "version": 3
   },
   "file_extension": ".py",
   "mimetype": "text/x-python",
   "name": "python",
   "nbconvert_exporter": "python",
   "pygments_lexer": "ipython3",
   "version": "3.10.8"
  }
 },
 "nbformat": 4,
 "nbformat_minor": 5
}
