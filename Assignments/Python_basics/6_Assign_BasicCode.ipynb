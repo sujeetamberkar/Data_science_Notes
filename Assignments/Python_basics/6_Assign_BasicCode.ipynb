{
 "cells": [
  {
   "cell_type": "code",
   "execution_count": 5,
   "id": "306c323d-ca1f-4815-b923-6bab22442fc7",
   "metadata": {},
   "outputs": [
    {
     "name": "stdin",
     "output_type": "stream",
     "text": [
      "Enter marks 80\n"
     ]
    },
    {
     "name": "stdout",
     "output_type": "stream",
     "text": [
      "C\n"
     ]
    }
   ],
   "source": [
    "#Q1)\n",
    "var=float(input(\"Enter marks\"))\n",
    "if var > 90:\n",
    "    grade='A'\n",
    "elif var>80:\n",
    "    grade='B'\n",
    "elif var >60:\n",
    "    grade='C'\n",
    "else:\n",
    "    grade='D'\n",
    "print(grade)"
   ]
  },
  {
   "cell_type": "code",
   "execution_count": 6,
   "id": "d3418296-33a4-450b-80da-10a3834daf2a",
   "metadata": {},
   "outputs": [
    {
     "name": "stdin",
     "output_type": "stream",
     "text": [
      "Enter cost of the bike 455656\n"
     ]
    },
    {
     "name": "stdout",
     "output_type": "stream",
     "text": [
      "68348.4\n"
     ]
    }
   ],
   "source": [
    "#Q2) \n",
    "var=float(input(\"Enter cost of the bike\"))\n",
    "if var >100000:\n",
    "    tax=0.15*var\n",
    "elif var>50000:\n",
    "    tax=0.10*var\n",
    "else:\n",
    "    tax=0.05*var\n",
    "\n",
    "print(tax)\n"
   ]
  },
  {
   "cell_type": "code",
   "execution_count": 10,
   "id": "f8f80ad8-7cf4-485f-8072-b1b663a2c2d8",
   "metadata": {},
   "outputs": [
    {
     "name": "stdin",
     "output_type": "stream",
     "text": [
      "Enter City Delhi\n"
     ]
    },
    {
     "name": "stdout",
     "output_type": "stream",
     "text": [
      "Delhi Red Fort\n"
     ]
    }
   ],
   "source": [
    "#Q3)\n",
    "d={\"Delhi\":\"Red Fort\",\"Agra\":\"Taj Mahal\",\"Jaipur\":\"Jal Mahal\"}\n",
    "var=input(\"Enter City\")\n",
    "for i in list(d.keys()):\n",
    "    if var == i:\n",
    "        print(i,d[i])"
   ]
  },
  {
   "cell_type": "code",
   "execution_count": 2,
   "id": "0e1f1c73-69ac-4afe-bee6-4d212b01943d",
   "metadata": {},
   "outputs": [
    {
     "name": "stdin",
     "output_type": "stream",
     "text": [
      "Emter a number 34\n"
     ]
    },
    {
     "name": "stdout",
     "output_type": "stream",
     "text": [
      "2\n"
     ]
    }
   ],
   "source": [
    "\"\"\"\n",
    "4. Check how many times a given number can be divided by 3 before it is less than or equal to 10. \n",
    "5. Why and When to Use while Loop in Python give a detailed description with example \n",
    "6. Use nested while loop to print 3 different pattern. \n",
    "7. Reverse a while loop to display numbers from 10 to 1. \n",
    "8. Reverse a while loop to display numbers from 10 to 1 \n",
    "\"\"\"\n",
    "\n",
    "#Q4)\n",
    "counter=0\n",
    "var=int(input(\"Emter a number\"))\n",
    "while(var>=10):\n",
    "    var=var/3\n",
    "    counter+=1\n",
    "    \n",
    "print(counter)"
   ]
  },
  {
   "cell_type": "code",
   "execution_count": 4,
   "id": "df004793-e138-41a5-88a6-c414f1ce5d0b",
   "metadata": {},
   "outputs": [
    {
     "name": "stdout",
     "output_type": "stream",
     "text": [
      "for loop\n",
      "0\n",
      "1\n",
      "2\n",
      "3\n",
      "4\n",
      "While Loop\n",
      "0\n",
      "1\n",
      "2\n",
      "3\n",
      "4\n"
     ]
    }
   ],
   "source": [
    "# Q5) \n",
    "\"\"\"\n",
    "Loops in Python are a way to repeatedly \n",
    "execute some code statement. There are two types of loops in Python, the for loop and the while loop.\n",
    "\n",
    "\n",
    "1) for loop: This is typically used when you want to repeat some action a specific number of times, \n",
    "or for each item in a collection\n",
    "\n",
    "\"\"\"\n",
    "print(\"for loop\")\n",
    "for i in range(5):\n",
    "    print(i)\n",
    "\n",
    "    \n",
    "print(\"While Loop\")\n",
    "i = 0\n",
    "while i < 5:\n",
    "    print(i)\n",
    "    i += 1\n"
   ]
  },
  {
   "cell_type": "code",
   "execution_count": 7,
   "id": "4030dccf-ccd2-4486-90ee-3d248b8bb0bc",
   "metadata": {},
   "outputs": [
    {
     "name": "stdout",
     "output_type": "stream",
     "text": [
      "10\n",
      "9\n",
      "8\n",
      "7\n",
      "6\n",
      "5\n",
      "4\n",
      "3\n",
      "2\n",
      "1\n"
     ]
    }
   ],
   "source": [
    "# Q7 \n",
    "i=10\n",
    "while i >=1:\n",
    "    print(i)\n",
    "    i=i-1"
   ]
  },
  {
   "cell_type": "code",
   "execution_count": 8,
   "id": "ccb6d5b4-235e-40c1-9b1a-60825308bf3d",
   "metadata": {},
   "outputs": [
    {
     "name": "stdout",
     "output_type": "stream",
     "text": [
      "10\n",
      "9\n",
      "8\n",
      "7\n",
      "6\n",
      "5\n",
      "4\n",
      "3\n",
      "2\n",
      "1\n"
     ]
    }
   ],
   "source": [
    "# Q8\n",
    "i=10\n",
    "while i >=1:\n",
    "    print(i)\n",
    "    i=i-1"
   ]
  },
  {
   "cell_type": "code",
   "execution_count": null,
   "id": "97fe415e-f305-46d5-83f1-486b1b3a69be",
   "metadata": {},
   "outputs": [],
   "source": []
  }
 ],
 "metadata": {
  "kernelspec": {
   "display_name": "Python 3 (ipykernel)",
   "language": "python",
   "name": "python3"
  },
  "language_info": {
   "codemirror_mode": {
    "name": "ipython",
    "version": 3
   },
   "file_extension": ".py",
   "mimetype": "text/x-python",
   "name": "python",
   "nbconvert_exporter": "python",
   "pygments_lexer": "ipython3",
   "version": "3.10.8"
  }
 },
 "nbformat": 4,
 "nbformat_minor": 5
}
