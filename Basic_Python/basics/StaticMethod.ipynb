{
 "cells": [
  {
   "cell_type": "code",
   "execution_count": 1,
   "id": "f04dd422-f29d-4a5e-bdfa-63aba04664e1",
   "metadata": {},
   "outputs": [
    {
     "name": "stdout",
     "output_type": "stream",
     "text": [
      "Sujeet Amberkar\n"
     ]
    }
   ],
   "source": [
    "class pwSkills:\n",
    "    def studentDetails(self,name,mail_id,number):\n",
    "        printf(name,mail_id,number)\n",
    "        \n",
    "    @staticmethod\n",
    "    def mentor_class(listofmentors):\n",
    "        print(listofmentors)\n",
    "        \n",
    "    #For this function list is created again and again \n",
    "    def mentor(self,mentor_list):\n",
    "        print(mentor_list)\n",
    "\n",
    "# A block of code which can take common memory \n",
    "# Mentors are limited \n",
    "pwSkills.mentor_class(\"Sujeet Amberkar\")"
   ]
  },
  {
   "cell_type": "code",
   "execution_count": 2,
   "id": "b4e294a3-fcb5-41e0-a587-6774b02b6cad",
   "metadata": {},
   "outputs": [
    {
     "name": "stdout",
     "output_type": "stream",
     "text": [
      "['sudh', 'keish']\n"
     ]
    }
   ],
   "source": [
    "# using the class method with static method \n",
    "#Instead of creating repeated object function \n",
    "\n",
    "# Calling a static fubnction from a methodclass\n",
    "class pwSkills2:\n",
    "    def studentDetails(self,name,mail_id,number):\n",
    "        printf(name,mail_id,number)\n",
    "        \n",
    "    @staticmethod\n",
    "    def mentor_class(listofmentors):\n",
    "        print(listofmentors)\n",
    "    \n",
    "    @classmethod\n",
    "    def class_name(cls):\n",
    "        cls.mentor_class([\"sudh\",\"keish\"])\n",
    "        \n",
    "        \n",
    "    #For this function list is created again and again \n",
    "    def mentor(self,mentor_list):\n",
    "        print(mentor_list)\n",
    "\n",
    "pwSkills2.class_name()"
   ]
  },
  {
   "cell_type": "code",
   "execution_count": 21,
   "id": "2eba8517-90d4-4549-8736-69fb200b8a73",
   "metadata": {},
   "outputs": [
    {
     "name": "stdout",
     "output_type": "stream",
     "text": [
      "['sujeet.amberkar@gmail.com', 'sanjay@gmail.com']\n",
      "['1', '2']\n"
     ]
    }
   ],
   "source": [
    "class pwSkills3:\n",
    "    def studentDetails(self,name,mail_id,number):\n",
    "        printf(name,mail_id,number)\n",
    "        \n",
    "\n",
    "    @classmethod\n",
    "    def class_name(cls):\n",
    "        print(cls.mentor_class([\"sudh\",\"keish\"]))\n",
    "        \n",
    "    @staticmethod\n",
    "    def mentor_mailid(mail_id):\n",
    "        print(mail_id)\n",
    "    \n",
    "    @staticmethod\n",
    "    def mentor_class(listofmentors):\n",
    "        #print(\"Hi\")\n",
    "        pwSkills3.mentor_mailid([\"sujeet.amberkar@gmail.com\",\"sanjay@gmail.com\"])\n",
    "        print(listofmentors)\n",
    "       \n",
    "    #For this function list is created again and again \n",
    "    def mentor(self,mentor_list):\n",
    "        print(mentor_list)\n",
    "        self.mentor_class([\"Sujeet\",\"Abhiskek\"])\n",
    "\n",
    "pwSkills3.mentor_class([\"1\",\"2\"])\n",
    "        "
   ]
  },
  {
   "cell_type": "code",
   "execution_count": 22,
   "id": "4e3ec119-3ac5-44b3-8110-e6bb49bd98c3",
   "metadata": {},
   "outputs": [],
   "source": [
    "pw=pwSkills3()"
   ]
  },
  {
   "cell_type": "code",
   "execution_count": 23,
   "id": "18c88c9a-6fcd-4c8f-92bd-fd8934c1f9cd",
   "metadata": {},
   "outputs": [
    {
     "name": "stdout",
     "output_type": "stream",
     "text": [
      "[1, 2]\n",
      "['sujeet.amberkar@gmail.com', 'sanjay@gmail.com']\n",
      "['Sujeet', 'Abhiskek']\n"
     ]
    }
   ],
   "source": [
    "pw.mentor([1,2])"
   ]
  },
  {
   "cell_type": "code",
   "execution_count": null,
   "id": "71c48977-55c5-430b-a7ef-402714f8871c",
   "metadata": {},
   "outputs": [],
   "source": []
  }
 ],
 "metadata": {
  "kernelspec": {
   "display_name": "Python 3 (ipykernel)",
   "language": "python",
   "name": "python3"
  },
  "language_info": {
   "codemirror_mode": {
    "name": "ipython",
    "version": 3
   },
   "file_extension": ".py",
   "mimetype": "text/x-python",
   "name": "python",
   "nbconvert_exporter": "python",
   "pygments_lexer": "ipython3",
   "version": "3.10.8"
  }
 },
 "nbformat": 4,
 "nbformat_minor": 5
}
