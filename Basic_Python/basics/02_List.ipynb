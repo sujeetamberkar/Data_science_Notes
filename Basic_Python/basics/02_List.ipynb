{
 "cells": [
  {
   "cell_type": "code",
   "execution_count": 1,
   "id": "ee1f251a-f8b4-48b1-9569-6f59e8fdfc89",
   "metadata": {},
   "outputs": [],
   "source": [
    "# In Python list is not homogenous \n",
    "#To see list of all function Shift + Tab\n",
    "l=[1,2,3,4+7j,\"Sujeet\",3.46]"
   ]
  },
  {
   "cell_type": "code",
   "execution_count": 2,
   "id": "b93c9f0d-9384-4039-b2d7-fa2ec1deea08",
   "metadata": {},
   "outputs": [
    {
     "data": {
      "text/plain": [
       "list"
      ]
     },
     "execution_count": 2,
     "metadata": {},
     "output_type": "execute_result"
    }
   ],
   "source": [
    "type(l)"
   ]
  },
  {
   "cell_type": "code",
   "execution_count": 3,
   "id": "0ef0d068-e0f7-49c6-b725-85e3e85b5908",
   "metadata": {},
   "outputs": [
    {
     "data": {
      "text/plain": [
       "1"
      ]
     },
     "execution_count": 3,
     "metadata": {},
     "output_type": "execute_result"
    }
   ],
   "source": [
    "#You can use indexing even on LIST\n",
    "l[0]"
   ]
  },
  {
   "cell_type": "code",
   "execution_count": 4,
   "id": "0ae80a8f-3a69-40d8-990b-051d89ac6961",
   "metadata": {},
   "outputs": [
    {
     "ename": "IndexError",
     "evalue": "list index out of range",
     "output_type": "error",
     "traceback": [
      "\u001b[0;31m---------------------------------------------------------------------------\u001b[0m",
      "\u001b[0;31mIndexError\u001b[0m                                Traceback (most recent call last)",
      "Cell \u001b[0;32mIn[4], line 2\u001b[0m\n\u001b[1;32m      1\u001b[0m \u001b[38;5;66;03m# When you try to acess an element which is beyond the scope of list\u001b[39;00m\n\u001b[0;32m----> 2\u001b[0m \u001b[43ml\u001b[49m\u001b[43m[\u001b[49m\u001b[38;5;241;43m90\u001b[39;49m\u001b[43m]\u001b[49m\n",
      "\u001b[0;31mIndexError\u001b[0m: list index out of range"
     ]
    }
   ],
   "source": [
    "# When you try to acess an element which is beyond the scope of list\n",
    "l[90]"
   ]
  },
  {
   "cell_type": "code",
   "execution_count": null,
   "id": "b22bdfd4-f91c-44c3-8a9a-0eafa0bf6d46",
   "metadata": {},
   "outputs": [],
   "source": [
    "var=l[0:3] #Data upto n-1th element "
   ]
  },
  {
   "cell_type": "code",
   "execution_count": null,
   "id": "eef7598a-e8dc-4ff6-b18b-14790bc5708a",
   "metadata": {},
   "outputs": [],
   "source": [
    "print(var) "
   ]
  },
  {
   "cell_type": "code",
   "execution_count": null,
   "id": "b55738b0-64a6-4f54-8dc1-dcd142432fe5",
   "metadata": {},
   "outputs": [],
   "source": [
    "#Reverse Indexing\n",
    "l[-1]"
   ]
  },
  {
   "cell_type": "code",
   "execution_count": null,
   "id": "07b5cf2d-7473-427f-9523-86f9b35c9da9",
   "metadata": {},
   "outputs": [],
   "source": [
    "# Reversing a list\n",
    "l[::-1]"
   ]
  },
  {
   "cell_type": "code",
   "execution_count": null,
   "id": "3b2ed1d5-a930-4279-9e2f-3f3391d6f9fc",
   "metadata": {},
   "outputs": [],
   "source": [
    "# Even Index \n",
    "l[::2]"
   ]
  },
  {
   "cell_type": "code",
   "execution_count": 5,
   "id": "16e8a490-c545-4ba9-813e-cce4149c0f18",
   "metadata": {},
   "outputs": [
    {
     "data": {
      "text/plain": [
       "['S', 'u', 'j', 'e', 'e', 't']"
      ]
     },
     "execution_count": 5,
     "metadata": {},
     "output_type": "execute_result"
    }
   ],
   "source": [
    "#When you pass list as a function\n",
    "#It breaks into small characters and then store it in the list \n",
    "string=\"Sujeet\"\n",
    "list(string)"
   ]
  },
  {
   "cell_type": "code",
   "execution_count": 6,
   "id": "44c9a56a-1fb9-4df9-b452-9870b0ff9bff",
   "metadata": {},
   "outputs": [
    {
     "ename": "TypeError",
     "evalue": "can only concatenate list (not \"str\") to list",
     "output_type": "error",
     "traceback": [
      "\u001b[0;31m---------------------------------------------------------------------------\u001b[0m",
      "\u001b[0;31mTypeError\u001b[0m                                 Traceback (most recent call last)",
      "Cell \u001b[0;32mIn[6], line 4\u001b[0m\n\u001b[1;32m      1\u001b[0m \u001b[38;5;66;03m# You will get an error when you try to merge string and list \u001b[39;00m\n\u001b[1;32m      2\u001b[0m \u001b[38;5;66;03m# Different data type\u001b[39;00m\n\u001b[0;32m----> 4\u001b[0m l\u001b[38;5;241m=\u001b[39m\u001b[43ml\u001b[49m\u001b[38;5;241;43m+\u001b[39;49m\u001b[43mstring\u001b[49m\n",
      "\u001b[0;31mTypeError\u001b[0m: can only concatenate list (not \"str\") to list"
     ]
    }
   ],
   "source": [
    "# You will get an error when you try to merge string and list \n",
    "# Different data type\n",
    "\n",
    "l=l+string"
   ]
  },
  {
   "cell_type": "code",
   "execution_count": 7,
   "id": "3901622c-e520-4c78-8f7a-57b968ee3ff9",
   "metadata": {},
   "outputs": [
    {
     "name": "stdout",
     "output_type": "stream",
     "text": [
      "[1, 2, 3, (4+7j), 'Sujeet', 3.46, 'S', 'u', 'j', 'e', 'e', 't']\n"
     ]
    }
   ],
   "source": [
    "# This is possible but note that this is not same\n",
    "l=l+list(string)\n",
    "print(l)"
   ]
  },
  {
   "cell_type": "code",
   "execution_count": 8,
   "id": "a5dc2393-2c48-42fd-ba00-6e9423849cd4",
   "metadata": {},
   "outputs": [
    {
     "data": {
      "text/plain": [
       "'Su'"
      ]
     },
     "execution_count": 8,
     "metadata": {},
     "output_type": "execute_result"
    }
   ],
   "source": [
    "# Can you just remove su from sujeet\n",
    "l[4][0:2]"
   ]
  },
  {
   "cell_type": "code",
   "execution_count": 9,
   "id": "53bc50b8-4bf4-4b34-a566-19eb14d22239",
   "metadata": {},
   "outputs": [
    {
     "data": {
      "text/plain": [
       "True"
      ]
     },
     "execution_count": 9,
     "metadata": {},
     "output_type": "execute_result"
    }
   ],
   "source": [
    "l=[1,2,3,True]\n",
    "l[3]"
   ]
  },
  {
   "cell_type": "code",
   "execution_count": 10,
   "id": "9060f521-b6ce-4b7a-a29c-1f8baa0debdf",
   "metadata": {},
   "outputs": [
    {
     "data": {
      "text/plain": [
       "'Tru'"
      ]
     },
     "execution_count": 10,
     "metadata": {},
     "output_type": "execute_result"
    }
   ],
   "source": [
    "# You cannot remove Tru from True, \n",
    "#To do that you need to do type casting\n",
    "\n",
    "str(l[3])[0:3]"
   ]
  },
  {
   "cell_type": "code",
   "execution_count": 11,
   "id": "7d317018-e37b-419b-a58f-61669c55a746",
   "metadata": {},
   "outputs": [
    {
     "data": {
      "text/plain": [
       "['Mumbai', 'Chennai', 'Delhi', 'Rohit', 'Dhoni', 'Pant']"
      ]
     },
     "execution_count": 11,
     "metadata": {},
     "output_type": "execute_result"
    }
   ],
   "source": [
    "l1=[\"Mumbai\", \"Chennai\", \"Delhi\"]\n",
    "l2=[\"Rohit\",\"Dhoni\",\"Pant\"]\n",
    "l3=l1+l2\n",
    "l3"
   ]
  },
  {
   "cell_type": "code",
   "execution_count": 12,
   "id": "01030e43-55e5-4fac-8834-9d3d83dd8e70",
   "metadata": {},
   "outputs": [],
   "source": [
    "# Repeat the elements just like string \n",
    "l3=l3*3"
   ]
  },
  {
   "cell_type": "code",
   "execution_count": 13,
   "id": "f5bc6c01-8bf7-49da-ab6c-2501077a4dff",
   "metadata": {},
   "outputs": [
    {
     "data": {
      "text/plain": [
       "18"
      ]
     },
     "execution_count": 13,
     "metadata": {},
     "output_type": "execute_result"
    }
   ],
   "source": [
    "#Find number of elements \n",
    "len(l3)"
   ]
  },
  {
   "cell_type": "code",
   "execution_count": 14,
   "id": "9641a4fa-dab0-41f8-88a3-aecc30c3e3d6",
   "metadata": {},
   "outputs": [
    {
     "data": {
      "text/plain": [
       "['Mumbai',\n",
       " 'Chennai',\n",
       " 'Delhi',\n",
       " 'Rohit',\n",
       " 'Dhoni',\n",
       " 'Pant',\n",
       " 'Mumbai',\n",
       " 'Chennai',\n",
       " 'Delhi',\n",
       " 'Rohit',\n",
       " 'Dhoni',\n",
       " 'Pant',\n",
       " 'Mumbai',\n",
       " 'Chennai',\n",
       " 'Delhi',\n",
       " 'Rohit',\n",
       " 'Dhoni',\n",
       " 'Pant',\n",
       " 'This is how append works']"
      ]
     },
     "execution_count": 14,
     "metadata": {},
     "output_type": "execute_result"
    }
   ],
   "source": [
    "# To add a new element to the end of the list \n",
    "#Nested list\n",
    "l3.append(\"This is how append works\")\n",
    "l3"
   ]
  },
  {
   "cell_type": "code",
   "execution_count": 15,
   "id": "8b980ea3-cb99-47dc-aed7-c767a0bd475e",
   "metadata": {},
   "outputs": [],
   "source": [
    "# You can append a list to a tist \n",
    "list2=[1,2,3,4,5,6,7,8,9]"
   ]
  },
  {
   "cell_type": "code",
   "execution_count": 16,
   "id": "5fe0b91d-5200-44b3-a4cf-2a798231d611",
   "metadata": {},
   "outputs": [
    {
     "data": {
      "text/plain": [
       "['Mumbai',\n",
       " 'Chennai',\n",
       " 'Delhi',\n",
       " 'Rohit',\n",
       " 'Dhoni',\n",
       " 'Pant',\n",
       " 'Mumbai',\n",
       " 'Chennai',\n",
       " 'Delhi',\n",
       " 'Rohit',\n",
       " 'Dhoni',\n",
       " 'Pant',\n",
       " 'Mumbai',\n",
       " 'Chennai',\n",
       " 'Delhi',\n",
       " 'Rohit',\n",
       " 'Dhoni',\n",
       " 'Pant',\n",
       " 'This is how append works',\n",
       " [1, 2, 3, 4, 5, 6, 7, 8, 9]]"
      ]
     },
     "execution_count": 16,
     "metadata": {},
     "output_type": "execute_result"
    }
   ],
   "source": [
    "l3.append(list2)\n",
    "l3"
   ]
  },
  {
   "cell_type": "code",
   "execution_count": 17,
   "id": "31521b82-8b82-48ad-8e14-02aa4d2c3f37",
   "metadata": {},
   "outputs": [],
   "source": [
    "l3.append(5)"
   ]
  },
  {
   "cell_type": "code",
   "execution_count": 18,
   "id": "2adf0eb0-e5a6-4cde-8d25-6353a5e7ce00",
   "metadata": {},
   "outputs": [
    {
     "ename": "TypeError",
     "evalue": "'int' object is not subscriptable",
     "output_type": "error",
     "traceback": [
      "\u001b[0;31m---------------------------------------------------------------------------\u001b[0m",
      "\u001b[0;31mTypeError\u001b[0m                                 Traceback (most recent call last)",
      "Cell \u001b[0;32mIn[18], line 3\u001b[0m\n\u001b[1;32m      1\u001b[0m \u001b[38;5;66;03m#Use nested list \u001b[39;00m\n\u001b[1;32m      2\u001b[0m \u001b[38;5;66;03m#Take 4 \u001b[39;00m\n\u001b[0;32m----> 3\u001b[0m \u001b[43ml3\u001b[49m\u001b[43m[\u001b[49m\u001b[38;5;241;43m-\u001b[39;49m\u001b[38;5;241;43m1\u001b[39;49m\u001b[43m]\u001b[49m\u001b[43m[\u001b[49m\u001b[38;5;241;43m3\u001b[39;49m\u001b[43m]\u001b[49m\n",
      "\u001b[0;31mTypeError\u001b[0m: 'int' object is not subscriptable"
     ]
    }
   ],
   "source": [
    "#Use nested list \n",
    "#Take 4 \n",
    "l3[-1][3]"
   ]
  },
  {
   "cell_type": "code",
   "execution_count": null,
   "id": "6fb80160-3365-468f-82dc-3e4c66405838",
   "metadata": {},
   "outputs": [],
   "source": [
    "l4=[1,2,3,4,5,6]"
   ]
  },
  {
   "cell_type": "code",
   "execution_count": 19,
   "id": "466c07dd-898c-4230-94a4-dbdd8a67474a",
   "metadata": {},
   "outputs": [
    {
     "ename": "NameError",
     "evalue": "name 'l4' is not defined",
     "output_type": "error",
     "traceback": [
      "\u001b[0;31m---------------------------------------------------------------------------\u001b[0m",
      "\u001b[0;31mNameError\u001b[0m                                 Traceback (most recent call last)",
      "Cell \u001b[0;32mIn[19], line 1\u001b[0m\n\u001b[0;32m----> 1\u001b[0m \u001b[43ml4\u001b[49m\u001b[38;5;241m.\u001b[39mextend(\u001b[38;5;124m\"\u001b[39m\u001b[38;5;124mSujeet\u001b[39m\u001b[38;5;124m\"\u001b[39m)\n",
      "\u001b[0;31mNameError\u001b[0m: name 'l4' is not defined"
     ]
    }
   ],
   "source": [
    "l4.extend(\"Sujeet\")"
   ]
  },
  {
   "cell_type": "code",
   "execution_count": 20,
   "id": "148c147d-b117-4969-86d9-ec7947253758",
   "metadata": {},
   "outputs": [
    {
     "ename": "NameError",
     "evalue": "name 'l4' is not defined",
     "output_type": "error",
     "traceback": [
      "\u001b[0;31m---------------------------------------------------------------------------\u001b[0m",
      "\u001b[0;31mNameError\u001b[0m                                 Traceback (most recent call last)",
      "Cell \u001b[0;32mIn[20], line 1\u001b[0m\n\u001b[0;32m----> 1\u001b[0m \u001b[43ml4\u001b[49m\n",
      "\u001b[0;31mNameError\u001b[0m: name 'l4' is not defined"
     ]
    }
   ],
   "source": [
    "l4"
   ]
  },
  {
   "cell_type": "code",
   "execution_count": 21,
   "id": "b11d07e9-4352-464b-9315-d44600c15f86",
   "metadata": {},
   "outputs": [
    {
     "ename": "NameError",
     "evalue": "name 'l4' is not defined",
     "output_type": "error",
     "traceback": [
      "\u001b[0;31m---------------------------------------------------------------------------\u001b[0m",
      "\u001b[0;31mNameError\u001b[0m                                 Traceback (most recent call last)",
      "Cell \u001b[0;32mIn[21], line 2\u001b[0m\n\u001b[1;32m      1\u001b[0m \u001b[38;5;66;03m#Break and append\u001b[39;00m\n\u001b[0;32m----> 2\u001b[0m \u001b[43ml4\u001b[49m\u001b[38;5;241m.\u001b[39mextend([\u001b[38;5;241m10\u001b[39m,\u001b[38;5;241m20\u001b[39m,\u001b[38;5;241m30\u001b[39m,\u001b[38;5;241m40\u001b[39m])\n\u001b[1;32m      3\u001b[0m l4\n",
      "\u001b[0;31mNameError\u001b[0m: name 'l4' is not defined"
     ]
    }
   ],
   "source": [
    "#Break and append\n",
    "l4.extend([10,20,30,40])\n",
    "l4"
   ]
  },
  {
   "cell_type": "code",
   "execution_count": 22,
   "id": "4b905bbe-b90d-4651-8a69-f423334777e5",
   "metadata": {},
   "outputs": [
    {
     "data": {
      "text/plain": [
       "[1, 'Sujeet', 2, 3, 4, 5, 6, 8, 9]"
      ]
     },
     "execution_count": 22,
     "metadata": {},
     "output_type": "execute_result"
    }
   ],
   "source": [
    "# Add data on a given position \n",
    "list1=[1,2,3,4,5,6,8,9]\n",
    "list1.insert(1,\"Sujeet\")\n",
    "list1"
   ]
  },
  {
   "cell_type": "code",
   "execution_count": 23,
   "id": "50057164-a72f-4232-91e4-1a7ac8fb2215",
   "metadata": {},
   "outputs": [
    {
     "data": {
      "text/plain": [
       "[1, 'Sujeet', 2, 3, 4, 5, 6, 8, 0, 9]"
      ]
     },
     "execution_count": 23,
     "metadata": {},
     "output_type": "execute_result"
    }
   ],
   "source": [
    "# Add the data on that index and then adjust the rest \n",
    "list1.insert(-1,0)\n",
    "list1"
   ]
  },
  {
   "cell_type": "code",
   "execution_count": 24,
   "id": "aee43442-986a-4c89-8a4a-7a161bc5f298",
   "metadata": {},
   "outputs": [
    {
     "data": {
      "text/plain": [
       "9"
      ]
     },
     "execution_count": 24,
     "metadata": {},
     "output_type": "execute_result"
    }
   ],
   "source": [
    "# Remove the last index\n",
    "list1.pop()"
   ]
  },
  {
   "cell_type": "code",
   "execution_count": 25,
   "id": "8fbbc1a2-b210-424d-9625-c0051b6d2355",
   "metadata": {},
   "outputs": [
    {
     "data": {
      "text/plain": [
       "[1, 'Sujeet', 2, 3, 4, 5, 6, 8, 0]"
      ]
     },
     "execution_count": 25,
     "metadata": {},
     "output_type": "execute_result"
    }
   ],
   "source": [
    "list1"
   ]
  },
  {
   "cell_type": "code",
   "execution_count": 26,
   "id": "007b831e-261a-4709-a67b-d156cbd94368",
   "metadata": {},
   "outputs": [
    {
     "data": {
      "text/plain": [
       "3"
      ]
     },
     "execution_count": 26,
     "metadata": {},
     "output_type": "execute_result"
    }
   ],
   "source": [
    "# Remove the 3rd Index\n",
    "# in Pop you were passing index\n",
    "list1.pop(3)"
   ]
  },
  {
   "cell_type": "code",
   "execution_count": 27,
   "id": "05767517-a2df-4293-a13d-fc35b8c95358",
   "metadata": {},
   "outputs": [
    {
     "data": {
      "text/plain": [
       "[1, 'Sujeet', 2, 4, 5, 6, 8, 0]"
      ]
     },
     "execution_count": 27,
     "metadata": {},
     "output_type": "execute_result"
    }
   ],
   "source": [
    "list1"
   ]
  },
  {
   "cell_type": "code",
   "execution_count": 28,
   "id": "f0269ab4-34bb-4719-94ff-26f80b12fee5",
   "metadata": {},
   "outputs": [],
   "source": [
    "# Pop uses Index \n",
    "# Remove uses elemts \n",
    "list1.remove(0)"
   ]
  },
  {
   "cell_type": "code",
   "execution_count": 29,
   "id": "f9d73314-7721-47a3-90af-45d539eab23a",
   "metadata": {},
   "outputs": [
    {
     "data": {
      "text/plain": [
       "[1, 'Sujeet', 2, 4, 5, 6, 8]"
      ]
     },
     "execution_count": 29,
     "metadata": {},
     "output_type": "execute_result"
    }
   ],
   "source": [
    "list1"
   ]
  },
  {
   "cell_type": "code",
   "execution_count": 30,
   "id": "a92b45a8-dfa0-47fc-b78f-d7ffcae4a9f2",
   "metadata": {},
   "outputs": [
    {
     "ename": "ValueError",
     "evalue": "list.remove(x): x not in list",
     "output_type": "error",
     "traceback": [
      "\u001b[0;31m---------------------------------------------------------------------------\u001b[0m",
      "\u001b[0;31mValueError\u001b[0m                                Traceback (most recent call last)",
      "Cell \u001b[0;32mIn[30], line 2\u001b[0m\n\u001b[1;32m      1\u001b[0m \u001b[38;5;66;03m# If you try to remove something that is not in the list \u001b[39;00m\n\u001b[0;32m----> 2\u001b[0m \u001b[43mlist1\u001b[49m\u001b[38;5;241;43m.\u001b[39;49m\u001b[43mremove\u001b[49m\u001b[43m(\u001b[49m\u001b[38;5;241;43m99\u001b[39;49m\u001b[43m)\u001b[49m\n",
      "\u001b[0;31mValueError\u001b[0m: list.remove(x): x not in list"
     ]
    }
   ],
   "source": [
    "# If you try to remove something that is not in the list \n",
    "list1.remove(99)"
   ]
  },
  {
   "cell_type": "code",
   "execution_count": 31,
   "id": "4869cf6d-1e0b-4940-a0d8-545d3fa3d137",
   "metadata": {},
   "outputs": [],
   "source": [
    "# Remove something from a nested list\n",
    "l=[1,2,3]\n",
    "l.append([10,20])\n"
   ]
  },
  {
   "cell_type": "code",
   "execution_count": 32,
   "id": "0d01387d-4aab-4a11-b4fe-a8c8d0cd79a1",
   "metadata": {},
   "outputs": [
    {
     "data": {
      "text/plain": [
       "[1, 2, 3, [10, 20]]"
      ]
     },
     "execution_count": 32,
     "metadata": {},
     "output_type": "execute_result"
    }
   ],
   "source": [
    "l"
   ]
  },
  {
   "cell_type": "code",
   "execution_count": 33,
   "id": "a657e5c7-1784-4201-8a6c-c1ec4fef3bb9",
   "metadata": {},
   "outputs": [
    {
     "data": {
      "text/plain": [
       "[20]"
      ]
     },
     "execution_count": 33,
     "metadata": {},
     "output_type": "execute_result"
    }
   ],
   "source": [
    "l[3].remove(10)\n",
    "l[3]"
   ]
  },
  {
   "cell_type": "code",
   "execution_count": 34,
   "id": "b1abaa4e-1387-49c1-b434-5c363ee096b1",
   "metadata": {},
   "outputs": [
    {
     "data": {
      "text/plain": [
       "[1, 2, 3, [20]]"
      ]
     },
     "execution_count": 34,
     "metadata": {},
     "output_type": "execute_result"
    }
   ],
   "source": [
    "l"
   ]
  },
  {
   "cell_type": "code",
   "execution_count": 35,
   "id": "b7698454-d48b-41d6-af11-99d27eb67c44",
   "metadata": {},
   "outputs": [
    {
     "data": {
      "text/plain": [
       "[1, 2, 3, 4, 5, 6]"
      ]
     },
     "execution_count": 35,
     "metadata": {},
     "output_type": "execute_result"
    }
   ],
   "source": [
    "# Remove will only remove the first occurence of the value \n",
    "l=[1,1,2,3,4,5,6]\n",
    "l.remove(1)\n",
    "l"
   ]
  },
  {
   "cell_type": "code",
   "execution_count": 41,
   "id": "01776944-db32-4fc3-ac7c-a69ccbbd0051",
   "metadata": {},
   "outputs": [],
   "source": [
    "# Permanent reverse\n",
    "l.reverse()\n",
    "l\n",
    "\n",
    "# Only show reverse dont change it\n",
    "l[::-1]\n",
    "\n",
    "# Make it permanent \n",
    "l=l[::-1]"
   ]
  },
  {
   "cell_type": "code",
   "execution_count": 44,
   "id": "e2e671d4-8385-4f0f-a635-53e2c7b6d873",
   "metadata": {},
   "outputs": [
    {
     "data": {
      "text/plain": [
       "[1, 2, 3, 4, 5, 6]"
      ]
     },
     "execution_count": 44,
     "metadata": {},
     "output_type": "execute_result"
    }
   ],
   "source": [
    "# Make sure the data in the list is homogenous \n",
    "l.sort()\n",
    "l"
   ]
  },
  {
   "cell_type": "code",
   "execution_count": 46,
   "id": "129dcf3f-b049-482a-aa60-8f3d3e818300",
   "metadata": {},
   "outputs": [
    {
     "data": {
      "text/plain": [
       "[[0, 0, 0, 3], [1, 2, 4], [33]]"
      ]
     },
     "execution_count": 46,
     "metadata": {},
     "output_type": "execute_result"
    }
   ],
   "source": [
    "l=[[1,2,4],[0,0,0,3],[33]]\n",
    "l.sort()\n",
    "l"
   ]
  },
  {
   "cell_type": "code",
   "execution_count": 47,
   "id": "18d8e52f-d91d-4381-b486-9be9afa45cfb",
   "metadata": {},
   "outputs": [
    {
     "data": {
      "text/plain": [
       "5"
      ]
     },
     "execution_count": 47,
     "metadata": {},
     "output_type": "execute_result"
    }
   ],
   "source": [
    "#Index of the first occurence\n",
    "l=[1,1,1,2,3,4,5,6,7,8,9]\n",
    "l.index(4)"
   ]
  },
  {
   "cell_type": "code",
   "execution_count": 51,
   "id": "58692633-f644-4448-80ed-503210a5e96c",
   "metadata": {},
   "outputs": [
    {
     "data": {
      "text/plain": [
       "3"
      ]
     },
     "execution_count": 51,
     "metadata": {},
     "output_type": "execute_result"
    }
   ],
   "source": [
    "#Total number of times that ___ was present in the given list \n",
    "l.count(1)"
   ]
  },
  {
   "cell_type": "code",
   "execution_count": 52,
   "id": "8e771e72-3fb2-4f0e-8cc5-855e71497643",
   "metadata": {},
   "outputs": [
    {
     "ename": "TypeError",
     "evalue": "'str' object does not support item assignment",
     "output_type": "error",
     "traceback": [
      "\u001b[0;31m---------------------------------------------------------------------------\u001b[0m",
      "\u001b[0;31mTypeError\u001b[0m                                 Traceback (most recent call last)",
      "Cell \u001b[0;32mIn[52], line 3\u001b[0m\n\u001b[1;32m      1\u001b[0m \u001b[38;5;66;03m# String is not mutable \u001b[39;00m\n\u001b[1;32m      2\u001b[0m s\u001b[38;5;241m=\u001b[39m\u001b[38;5;124m\"\u001b[39m\u001b[38;5;124mSujeet\u001b[39m\u001b[38;5;124m\"\u001b[39m\n\u001b[0;32m----> 3\u001b[0m \u001b[43ms\u001b[49m\u001b[43m[\u001b[49m\u001b[38;5;241;43m0\u001b[39;49m\u001b[43m]\u001b[49m\u001b[38;5;241m=\u001b[39m\u001b[38;5;124m\"\u001b[39m\u001b[38;5;124mE\u001b[39m\u001b[38;5;124m\"\u001b[39m\n",
      "\u001b[0;31mTypeError\u001b[0m: 'str' object does not support item assignment"
     ]
    }
   ],
   "source": [
    "# String is not mutable \n",
    "s=\"Sujeet\"\n",
    "s[0]=\"E\""
   ]
  },
  {
   "cell_type": "code",
   "execution_count": 54,
   "id": "6ecbc955-6f30-4941-b15d-776c17e583b7",
   "metadata": {},
   "outputs": [
    {
     "data": {
      "text/plain": [
       "[0, 2, 3, 4, 5, 6, 7, 8, 9]"
      ]
     },
     "execution_count": 54,
     "metadata": {},
     "output_type": "execute_result"
    }
   ],
   "source": [
    "#List object supports mutabaility \n",
    "l=[1,2,3,4,5,6,7,8,9]\n",
    "l[0]=0\n",
    "l"
   ]
  },
  {
   "cell_type": "code",
   "execution_count": 55,
   "id": "ed494102-06c9-49c7-a899-b38855ef9e70",
   "metadata": {},
   "outputs": [
    {
     "data": {
      "text/plain": [
       "[[100, 0], [1, 2, 4, 5]]"
      ]
     },
     "execution_count": 55,
     "metadata": {},
     "output_type": "execute_result"
    }
   ],
   "source": [
    "l=[[0,0],[1,2,4,5]]\n",
    "l[0][0]=100\n",
    "l"
   ]
  },
  {
   "cell_type": "code",
   "execution_count": 56,
   "id": "9a010ea3-c403-4443-ba93-0f9268ad720b",
   "metadata": {},
   "outputs": [
    {
     "data": {
      "text/plain": [
       "'Aujeet'"
      ]
     },
     "execution_count": 56,
     "metadata": {},
     "output_type": "execute_result"
    }
   ],
   "source": [
    "string1=\"Sujeet\"\n",
    "string1.replace('S','A')"
   ]
  },
  {
   "cell_type": "code",
   "execution_count": 57,
   "id": "87658c04-5af8-46c2-ba4f-f0d74bdbfdce",
   "metadata": {},
   "outputs": [
    {
     "data": {
      "text/plain": [
       "'Sujeet'"
      ]
     },
     "execution_count": 57,
     "metadata": {},
     "output_type": "execute_result"
    }
   ],
   "source": [
    "string1"
   ]
  },
  {
   "cell_type": "code",
   "execution_count": 58,
   "id": "145d200c-c328-4878-a637-e5065668c97a",
   "metadata": {},
   "outputs": [],
   "source": [
    "# It pretends toi show that it has chanaged but a copy is created in a new location,\n",
    "# So if you truly wants to change then assign it again "
   ]
  },
  {
   "cell_type": "code",
   "execution_count": null,
   "id": "c1d0b610-3468-457c-95c4-10bab2389c10",
   "metadata": {},
   "outputs": [],
   "source": []
  }
 ],
 "metadata": {
  "kernelspec": {
   "display_name": "Python 3 (ipykernel)",
   "language": "python",
   "name": "python3"
  },
  "language_info": {
   "codemirror_mode": {
    "name": "ipython",
    "version": 3
   },
   "file_extension": ".py",
   "mimetype": "text/x-python",
   "name": "python",
   "nbconvert_exporter": "python",
   "pygments_lexer": "ipython3",
   "version": "3.10.8"
  }
 },
 "nbformat": 4,
 "nbformat_minor": 5
}
