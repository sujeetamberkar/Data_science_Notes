{
 "cells": [
  {
   "cell_type": "code",
   "execution_count": 3,
   "id": "0a6e6ece-fd64-4aed-b79f-2aeaf26bd75f",
   "metadata": {},
   "outputs": [
    {
     "name": "stdout",
     "output_type": "stream",
     "text": [
      "[1, 4, 9, 16, 25, 36, 49, 64, 81]\n",
      "[1, 4, 9, 16, 25, 36, 49, 64, 81]\n"
     ]
    }
   ],
   "source": [
    "l=[1,2,3,4,5,6,7,8,9]\n",
    "l1=[]\n",
    "\n",
    "for i in l:\n",
    "    l1.append(i**2)\n",
    "print(l1)\n",
    "\n",
    "l=[1,2,3,4,5,6,7,8,9]\n",
    "l1=[i ** 2 for i in l]\n",
    "print(l1)"
   ]
  },
  {
   "cell_type": "code",
   "execution_count": 9,
   "id": "d1fc8010-1b9c-4731-805c-d28183bb47ae",
   "metadata": {},
   "outputs": [
    {
     "name": "stdout",
     "output_type": "stream",
     "text": [
      "[2, 4, 6, 8]\n"
     ]
    }
   ],
   "source": [
    "l=[1,2,3,4,5,6,7,8,9]\n",
    "l1=[ i for i in l if i % 2 == 0]\n",
    "print(l1)"
   ]
  },
  {
   "cell_type": "code",
   "execution_count": 11,
   "id": "20ad9753-e12c-423c-8007-dac4adf336ee",
   "metadata": {},
   "outputs": [
    {
     "name": "stdout",
     "output_type": "stream",
     "text": [
      "['SUJEET', 'SANJAY', 'AMBERKAR']\n"
     ]
    }
   ],
   "source": [
    "l= [\"Sujeet\", \"Sanjay\", \"Amberkar\"]\n",
    "l1=[i.upper() for i in l]\n",
    "print(l1)"
   ]
  },
  {
   "cell_type": "code",
   "execution_count": 12,
   "id": "3c87ef0f-2166-425a-9278-809a34e55353",
   "metadata": {},
   "outputs": [
    {
     "name": "stdout",
     "output_type": "stream",
     "text": [
      "{'key1': 1, 'key2': 4}\n"
     ]
    }
   ],
   "source": [
    "d={\"key1\":1,\"key2\":2}\n",
    "d2={k:v**2 for k,v in d.items()}\n",
    "print(d2)"
   ]
  },
  {
   "cell_type": "code",
   "execution_count": 14,
   "id": "09fcde5c-a91e-49f6-932e-ff787a107d68",
   "metadata": {},
   "outputs": [
    {
     "name": "stdout",
     "output_type": "stream",
     "text": [
      "{'key2': 2}\n"
     ]
    }
   ],
   "source": [
    "d={\"key1\":1,\"key2\":2}\n",
    "d2={k:v for k,v in d.items() if v>1}\n",
    "print(d2)"
   ]
  },
  {
   "cell_type": "code",
   "execution_count": null,
   "id": "8ef0dedd-f720-4030-b399-4f7498826434",
   "metadata": {},
   "outputs": [],
   "source": []
  }
 ],
 "metadata": {
  "kernelspec": {
   "display_name": "Python 3 (ipykernel)",
   "language": "python",
   "name": "python3"
  },
  "language_info": {
   "codemirror_mode": {
    "name": "ipython",
    "version": 3
   },
   "file_extension": ".py",
   "mimetype": "text/x-python",
   "name": "python",
   "nbconvert_exporter": "python",
   "pygments_lexer": "ipython3",
   "version": "3.10.8"
  }
 },
 "nbformat": 4,
 "nbformat_minor": 5
}
