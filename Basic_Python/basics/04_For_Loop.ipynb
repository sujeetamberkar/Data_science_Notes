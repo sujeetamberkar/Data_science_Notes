{
 "cells": [
  {
   "cell_type": "code",
   "execution_count": 3,
   "id": "402e9d49-f9b2-4edb-ada3-e8f0da79d39b",
   "metadata": {},
   "outputs": [
    {
     "name": "stdout",
     "output_type": "stream",
     "text": [
      "<class 'int'> 1\n",
      "<class 'int'> 2\n",
      "<class 'int'> 3\n",
      "<class 'int'> 4\n",
      "<class 'int'> 5\n",
      "<class 'int'> 6\n",
      "<class 'int'> 7\n",
      "<class 'int'> 8\n",
      "<class 'int'> 9\n"
     ]
    }
   ],
   "source": [
    "l= [1,2,3,4,5,6,7,8,9]\n",
    "for i in l:\n",
    "    print(str(type(i))+' '+ str(i))"
   ]
  },
  {
   "cell_type": "code",
   "execution_count": 6,
   "id": "397e654d-4f8c-4ee9-8c0f-145ddc63d6be",
   "metadata": {},
   "outputs": [
    {
     "name": "stdout",
     "output_type": "stream",
     "text": [
      "1\n",
      "2\n",
      "3\n",
      "4\n",
      "5\n",
      "6\n",
      "7\n",
      "8\n",
      "9\n",
      "This is else \n",
      "The loop has ended sucessfully \n"
     ]
    }
   ],
   "source": [
    "# For Else \n",
    "# The Else part is only executed only when the execution of the for loop has been completed succesfully \n",
    "# That means that the loop is not terminated in between \n",
    "\n",
    "for i in l:\n",
    "    print(i)\n",
    "    \n",
    "else:\n",
    "    print (\"This is else \\nThe loop has ended sucessfully \")"
   ]
  },
  {
   "cell_type": "code",
   "execution_count": 10,
   "id": "71fde880-0c59-4700-8580-0b1e24cfc490",
   "metadata": {},
   "outputs": [
    {
     "name": "stdout",
     "output_type": "stream",
     "text": [
      "Sujeet\n"
     ]
    }
   ],
   "source": [
    "# In this case the else is not executed \n",
    "l=[\"Sujeet\", \"Sanjay\",\"Amberkar\"]\n",
    "for i in l:\n",
    "    if i == \"Sanjay\":\n",
    "        break\n",
    "    print(i)\n",
    "else:\n",
    "    print(\"This is else\")"
   ]
  },
  {
   "cell_type": "code",
   "execution_count": 13,
   "id": "5e01853d-004a-4f36-8d33-7e10bc052562",
   "metadata": {},
   "outputs": [
    {
     "name": "stdout",
     "output_type": "stream",
     "text": [
      "Sujeet\n",
      "Amberkar\n",
      "This is else\n"
     ]
    }
   ],
   "source": [
    "# In this case the else is  executed \n",
    "l=[\"Sujeet\", \"Sanjay\",\"Amberkar\"]\n",
    "for i in l:\n",
    "    if i == \"Sanjay\":\n",
    "        continue # Skip this execution # NEXT\n",
    "    print(i)\n",
    "else:\n",
    "    print(\"This is else\")"
   ]
  },
  {
   "cell_type": "code",
   "execution_count": 15,
   "id": "ec1e28d5-7fad-470f-ad88-c221a08ee3fc",
   "metadata": {},
   "outputs": [
    {
     "data": {
      "text/plain": [
       "[0, 1, 2, 3, 4]"
      ]
     },
     "execution_count": 15,
     "metadata": {},
     "output_type": "execute_result"
    }
   ],
   "source": [
    "# Range function will generate data from 0 to n-1 \n",
    "# Exculding n\n",
    "\n",
    "list(range(5))"
   ]
  },
  {
   "cell_type": "code",
   "execution_count": 17,
   "id": "8c5b84f0-8f4e-40c5-868c-a9260f3a2b26",
   "metadata": {},
   "outputs": [
    {
     "data": {
      "text/plain": [
       "[0, 2, 4]"
      ]
     },
     "execution_count": 17,
     "metadata": {},
     "output_type": "execute_result"
    }
   ],
   "source": [
    "# Generating data from 0 to 5 such that the jump is 2.\n",
    "# The lower limit is 0 and upper limit excluding 5 Jump constant is 2\n",
    "list(range(0,5,2))"
   ]
  },
  {
   "cell_type": "code",
   "execution_count": 27,
   "id": "b5970f68-b571-41f9-bcff-84f1451251c5",
   "metadata": {},
   "outputs": [
    {
     "name": "stdout",
     "output_type": "stream",
     "text": [
      "Amberkar\n",
      "Sanjay\n",
      "Sujeet\n",
      "Amberkar\n",
      "Sanjay\n",
      "Sujeet\n"
     ]
    }
   ],
   "source": [
    "l=[\"Sujeet\", \"Sanjay\",\"Amberkar\"]\n",
    "for i in reversed(range(len(l))):\n",
    "    print(l[i])\n",
    "    \n",
    "l=[\"Sujeet\", \"Sanjay\",\"Amberkar\"]\n",
    "for i in range(len(l)-1,-1,-1):\n",
    "    print(l[i])\n"
   ]
  },
  {
   "cell_type": "code",
   "execution_count": 26,
   "id": "8281ac51-17e5-4153-b200-597a4b58c056",
   "metadata": {},
   "outputs": [
    {
     "name": "stdout",
     "output_type": "stream",
     "text": [
      "[]\n",
      "[4, 3, 2, 1]\n"
     ]
    }
   ],
   "source": [
    "#By default the jump value in range is 1 \n",
    "print(list(range(4,0)))\n",
    "print(list(range(4,0,-1)))"
   ]
  },
  {
   "cell_type": "code",
   "execution_count": 29,
   "id": "c8fe2002-cec0-4284-a6b6-04e8368771c8",
   "metadata": {},
   "outputs": [
    {
     "name": "stdout",
     "output_type": "stream",
     "text": [
      "1\n",
      "3\n",
      "5\n",
      "7\n",
      "9\n"
     ]
    }
   ],
   "source": [
    "# Take data is available only on the even index\n",
    "l=[1,2,3,4,5,6,7,8,9]\n",
    "for i in range(0,len(l),2):\n",
    "    print(l[i])"
   ]
  },
  {
   "cell_type": "code",
   "execution_count": 30,
   "id": "41ce72b2-6374-4762-906a-09dc6036c50e",
   "metadata": {},
   "outputs": [
    {
     "data": {
      "text/plain": [
       "45"
      ]
     },
     "execution_count": 30,
     "metadata": {},
     "output_type": "execute_result"
    }
   ],
   "source": [
    "# Sum of list\n",
    "sum =0\n",
    "for i in l:\n",
    "    sum=sum+i\n",
    "sum\n"
   ]
  },
  {
   "cell_type": "code",
   "execution_count": 31,
   "id": "15dca3ed-82bd-4ebf-a076-ac8f5c955125",
   "metadata": {},
   "outputs": [
    {
     "name": "stdout",
     "output_type": "stream",
     "text": [
      "1\n",
      "2\n",
      "3\n",
      "4\n",
      "5\n",
      "6\n",
      "7\n",
      "8\n",
      "9\n"
     ]
    }
   ],
   "source": [
    "l=(1,2,3,4,5,6,7,8,9)\n",
    "for i in l:\n",
    "    print(i)"
   ]
  },
  {
   "cell_type": "code",
   "execution_count": 32,
   "id": "0a53ca85-a6f4-46ce-aad1-704c9b8a91f7",
   "metadata": {},
   "outputs": [
    {
     "name": "stdout",
     "output_type": "stream",
     "text": [
      "1\n",
      "2\n",
      "3\n",
      "4\n",
      "5\n",
      "6\n",
      "7\n",
      "8\n",
      "9\n"
     ]
    }
   ],
   "source": [
    "l={1,2,3,4,5,6,7,8,9}\n",
    "for i in l:\n",
    "    print(i)"
   ]
  },
  {
   "cell_type": "code",
   "execution_count": 33,
   "id": "a702bd2f-39a9-4117-a492-4158e2ae5b48",
   "metadata": {},
   "outputs": [
    {
     "name": "stdout",
     "output_type": "stream",
     "text": [
      "S\n",
      "u\n",
      "j\n",
      "e\n",
      "e\n",
      "t\n"
     ]
    }
   ],
   "source": [
    "string1=\"Sujeet\"\n",
    "for i in string1:\n",
    "    print(i)"
   ]
  },
  {
   "cell_type": "code",
   "execution_count": 36,
   "id": "6602837d-dc02-41d6-a3ad-866de860b953",
   "metadata": {},
   "outputs": [
    {
     "name": "stdout",
     "output_type": "stream",
     "text": [
      "Sujeet\n",
      "Amberkar\n"
     ]
    }
   ],
   "source": [
    "d={\"name\":\"Sujeet\", \"Surname\":\"Amberkar\"}\n",
    "for i in d.keys():\n",
    "    print(d[i])"
   ]
  },
  {
   "cell_type": "code",
   "execution_count": 37,
   "id": "0d2c4b31-9fb0-4e0b-99ff-42cf7a20e802",
   "metadata": {},
   "outputs": [
    {
     "name": "stdout",
     "output_type": "stream",
     "text": [
      "Sujeet\n",
      "Amberkar\n"
     ]
    }
   ],
   "source": [
    "for i in d.values():\n",
    "    print(i)"
   ]
  },
  {
   "cell_type": "code",
   "execution_count": 39,
   "id": "e0caf71e-3392-4ee6-921c-9b9f0aa8857f",
   "metadata": {},
   "outputs": [
    {
     "name": "stdout",
     "output_type": "stream",
     "text": [
      "('name', 'Sujeet')\n",
      "('Surname', 'Amberkar')\n"
     ]
    }
   ],
   "source": [
    "for i in d.items():\n",
    "    print(i)"
   ]
  },
  {
   "cell_type": "code",
   "execution_count": 47,
   "id": "ae302d29-8689-4f25-a933-cb2db08ab1c4",
   "metadata": {},
   "outputs": [
    {
     "data": {
      "text/plain": [
       "'            Sujeet Amb           '"
      ]
     },
     "execution_count": 47,
     "metadata": {},
     "output_type": "execute_result"
    }
   ],
   "source": [
    "stri=\"Sujeet Amb\"\n",
    "stri.center(33)"
   ]
  },
  {
   "cell_type": "code",
   "execution_count": 48,
   "id": "8b420d7b-edc5-4467-a5c0-e996d68ae570",
   "metadata": {},
   "outputs": [
    {
     "data": {
      "text/plain": [
       "'Sujeet Amb'"
      ]
     },
     "execution_count": 48,
     "metadata": {},
     "output_type": "execute_result"
    }
   ],
   "source": [
    "stri.title()"
   ]
  },
  {
   "cell_type": "code",
   "execution_count": 50,
   "id": "29883888-7c19-4ccd-a42e-51da93448742",
   "metadata": {},
   "outputs": [
    {
     "data": {
      "text/plain": [
       "True"
      ]
     },
     "execution_count": 50,
     "metadata": {},
     "output_type": "execute_result"
    }
   ],
   "source": [
    "\"pwskills\"[::-1].upper().replace(\"SLLIKSWP\", \"pwskills\").islower()"
   ]
  },
  {
   "cell_type": "code",
   "execution_count": null,
   "id": "b8fc2dc5-79df-408a-90cf-0db489a5fc0f",
   "metadata": {},
   "outputs": [],
   "source": []
  }
 ],
 "metadata": {
  "kernelspec": {
   "display_name": "Python 3 (ipykernel)",
   "language": "python",
   "name": "python3"
  },
  "language_info": {
   "codemirror_mode": {
    "name": "ipython",
    "version": 3
   },
   "file_extension": ".py",
   "mimetype": "text/x-python",
   "name": "python",
   "nbconvert_exporter": "python",
   "pygments_lexer": "ipython3",
   "version": "3.10.8"
  }
 },
 "nbformat": 4,
 "nbformat_minor": 5
}
