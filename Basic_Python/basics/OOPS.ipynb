{
 "cells": [
  {
   "cell_type": "code",
   "execution_count": 12,
   "id": "42f73f03-af5e-4efe-bdec-d2b21783c44b",
   "metadata": {},
   "outputs": [
    {
     "name": "stdout",
     "output_type": "stream",
     "text": [
      "<class '__main__.test'>\n"
     ]
    }
   ],
   "source": [
    "# Class is a classification of real world entity \n",
    "# blueprint, skeleton \n",
    "\n",
    "# Object : instance of a class \n",
    "\n",
    "# Blank class\n",
    "class test:\n",
    "    pass\n",
    "\n",
    "# Type of a is a class named test\n",
    "a= test()\n",
    "print(type(a))\n"
   ]
  },
  {
   "cell_type": "code",
   "execution_count": 13,
   "id": "a1bcc425-2704-4d50-9c02-27ccdfe4fdda",
   "metadata": {},
   "outputs": [
    {
     "ename": "TypeError",
     "evalue": "pwskills.welcome_msg() takes 0 positional arguments but 1 was given",
     "output_type": "error",
     "traceback": [
      "\u001b[0;31m---------------------------------------------------------------------------\u001b[0m",
      "\u001b[0;31mTypeError\u001b[0m                                 Traceback (most recent call last)",
      "Cell \u001b[0;32mIn[13], line 5\u001b[0m\n\u001b[1;32m      3\u001b[0m         \u001b[38;5;28mprint\u001b[39m(\u001b[38;5;124m\"\u001b[39m\u001b[38;5;124mWelcome to pwskills\u001b[39m\u001b[38;5;124m\"\u001b[39m)\n\u001b[1;32m      4\u001b[0m sujeet\u001b[38;5;241m=\u001b[39mpwskills()\n\u001b[0;32m----> 5\u001b[0m \u001b[43msujeet\u001b[49m\u001b[38;5;241;43m.\u001b[39;49m\u001b[43mwelcome_msg\u001b[49m\u001b[43m(\u001b[49m\u001b[43m)\u001b[49m\n\u001b[1;32m      6\u001b[0m \u001b[38;5;66;03m# When you declare a function you need to bind it with the class \u001b[39;00m\n",
      "\u001b[0;31mTypeError\u001b[0m: pwskills.welcome_msg() takes 0 positional arguments but 1 was given"
     ]
    }
   ],
   "source": [
    "class pwskills :\n",
    "    def welcome_msg():\n",
    "        print(\"Welcome to pwskills\")\n",
    "sujeet=pwskills()\n",
    "sujeet.welcome_msg()\n",
    "# When you declare a function you need to bind it with the class \n"
   ]
  },
  {
   "cell_type": "code",
   "execution_count": 14,
   "id": "eec2800b-a325-46b7-a40c-85069c0e281d",
   "metadata": {},
   "outputs": [
    {
     "name": "stdout",
     "output_type": "stream",
     "text": [
      "Welcome to pwskills\n"
     ]
    }
   ],
   "source": [
    "class pwskills :\n",
    "    def welcome_msg(self):\n",
    "        print(\"Welcome to pwskills\")\n",
    "sujeet=pwskills()\n",
    "sujeet.welcome_msg()\n"
   ]
  },
  {
   "cell_type": "code",
   "execution_count": 15,
   "id": "e8a1a851-4729-4636-bc30-6c4ee9a51928",
   "metadata": {},
   "outputs": [
    {
     "name": "stdout",
     "output_type": "stream",
     "text": [
      "[200905092, 7021041478, 'sujeet.amberkar@gmail.com']\n"
     ]
    }
   ],
   "source": [
    "# While passing valuye to the function in a class we use constructor \n",
    "# You need to use self.variable while using the variable in the class\n",
    "class pwskills :\n",
    "    def __init__(self,phone_number,email_id,student_id):\n",
    "        self.phone_number=phone_number\n",
    "        self.email_id=email_id\n",
    "        self.student_id=student_id\n",
    "        \n",
    "    def return_student_details(self):\n",
    "        return self.student_id,self.phone_number,self.email_id\n",
    "\n",
    "sujeet=pwskills(7021041478,\"sujeet.amberkar@gmail.com\",200905092)\n",
    "print(list(sujeet.return_student_details()))"
   ]
  },
  {
   "cell_type": "code",
   "execution_count": 16,
   "id": "49570f3b-28b9-45fc-859b-bab4ea256e53",
   "metadata": {},
   "outputs": [
    {
     "name": "stdout",
     "output_type": "stream",
     "text": [
      "7021041478\n",
      "200905092\n",
      "sujeet.amberkar@gmail.com\n"
     ]
    }
   ],
   "source": [
    "# Accessing elemets outside the class\n",
    "print(sujeet.phone_number)\n",
    "print(sujeet.student_id)\n",
    "print(sujeet.email_id)"
   ]
  },
  {
   "cell_type": "code",
   "execution_count": 17,
   "id": "e4b45005-c5ae-4d4d-98aa-fff0ae8f22fc",
   "metadata": {},
   "outputs": [
    {
     "name": "stdout",
     "output_type": "stream",
     "text": [
      "7021041478\n"
     ]
    },
    {
     "ename": "AttributeError",
     "evalue": "'pwskills2' object has no attribute 'phone_number'",
     "output_type": "error",
     "traceback": [
      "\u001b[0;31m---------------------------------------------------------------------------\u001b[0m",
      "\u001b[0;31mAttributeError\u001b[0m                            Traceback (most recent call last)",
      "Cell \u001b[0;32mIn[17], line 16\u001b[0m\n\u001b[1;32m     14\u001b[0m sujeet2\u001b[38;5;241m=\u001b[39mpwskills2(\u001b[38;5;241m7021041478\u001b[39m,\u001b[38;5;124m\"\u001b[39m\u001b[38;5;124msujeet.amberkar@gmail.com\u001b[39m\u001b[38;5;124m\"\u001b[39m,\u001b[38;5;241m200905092\u001b[39m)\n\u001b[1;32m     15\u001b[0m \u001b[38;5;28mprint\u001b[39m(sujeet2\u001b[38;5;241m.\u001b[39mphone_number1)\n\u001b[0;32m---> 16\u001b[0m \u001b[38;5;28mprint\u001b[39m(\u001b[43msujeet2\u001b[49m\u001b[38;5;241;43m.\u001b[39;49m\u001b[43mphone_number\u001b[49m)\n",
      "\u001b[0;31mAttributeError\u001b[0m: 'pwskills2' object has no attribute 'phone_number'"
     ]
    }
   ],
   "source": [
    "# Importance of self\n",
    "# Object associated should be the one with self.varaible\n",
    "# The first argument in each and every function inside the class should have self as a parameter \n",
    "# Self is not a reserved keyword\n",
    "class pwskills2 :\n",
    "    def __init__(self,phone_number,email_id,student_id):\n",
    "        self.phone_number1=phone_number\n",
    "        self.email_id1=email_id\n",
    "        self.student_id1=student_id\n",
    "        \n",
    "    def return_student_details(self):\n",
    "        return self.student_id,self.phone_number,self.email_id\n",
    "    \n",
    "sujeet2=pwskills2(7021041478,\"sujeet.amberkar@gmail.com\",200905092)\n",
    "print(sujeet2.phone_number1)\n",
    "print(sujeet2.phone_number)"
   ]
  },
  {
   "cell_type": "code",
   "execution_count": 18,
   "id": "916bd3f7-b176-40c1-af73-8296fa620c14",
   "metadata": {},
   "outputs": [
    {
     "name": "stdout",
     "output_type": "stream",
     "text": [
      "sujeetAmberkar\n",
      "4\n",
      "[2, 3, 4, 3, 4, 7]\n"
     ]
    }
   ],
   "source": [
    "# Polymorphism \n",
    "# Function is same but the behavior is different \n",
    "\n",
    "def testAdd(a,b):\n",
    "    return a+b\n",
    "\n",
    "\n",
    "print(testAdd('sujeet','Amberkar'))\n",
    "print(testAdd(1,3))\n",
    "print(testAdd([2,3,4],[3,4,7]))"
   ]
  },
  {
   "cell_type": "code",
   "execution_count": 32,
   "id": "3bb2f4a6-e6c2-4a8e-8a36-3f1115408408",
   "metadata": {},
   "outputs": [],
   "source": [
    "# You are calling sylabvus function from 2 different class\n",
    "# Which depends on the nature of the object that is passed \n",
    "class dataSci:\n",
    "    def sylabus(self):\n",
    "        print(\"This is the sylabus for data science\")"
   ]
  },
  {
   "cell_type": "code",
   "execution_count": 33,
   "id": "0a01fb66-d71e-4925-8743-217fa9f99358",
   "metadata": {},
   "outputs": [],
   "source": [
    "class WebDev:\n",
    "    def sylabus(self):\n",
    "        print(\"This is the sylabus for Web Dev \")"
   ]
  },
  {
   "cell_type": "code",
   "execution_count": 34,
   "id": "7f25be28-edf8-49a9-905e-c5f3f1f828b3",
   "metadata": {},
   "outputs": [],
   "source": [
    "def class_parser(class_obj):\n",
    "    for i in class_obj:\n",
    "        i.sylabus()"
   ]
  },
  {
   "cell_type": "code",
   "execution_count": 35,
   "id": "9137d631-7f81-4f9d-a317-c7e32a3a92f8",
   "metadata": {},
   "outputs": [],
   "source": [
    "data_science=dataSci()\n",
    "web_dev=WebDev()\n",
    "class_obj=[data_science,web_dev]"
   ]
  },
  {
   "cell_type": "code",
   "execution_count": 36,
   "id": "fbca8f9a-c4ca-44eb-8202-ebba2a356b1e",
   "metadata": {},
   "outputs": [
    {
     "name": "stdout",
     "output_type": "stream",
     "text": [
      "This is the sylabus for data science\n",
      "This is the sylabus for Web Dev \n"
     ]
    }
   ],
   "source": [
    "class_parser(class_obj)"
   ]
  },
  {
   "cell_type": "code",
   "execution_count": 64,
   "id": "99cf5165-f40a-41d9-9237-9de7927e412d",
   "metadata": {},
   "outputs": [
    {
     "data": {
      "text/plain": [
       "10"
      ]
     },
     "execution_count": 64,
     "metadata": {},
     "output_type": "execute_result"
    }
   ],
   "source": [
    "# Data Encapsulation \n",
    "class test:\n",
    "    def __init__(self,a,b):\n",
    "        self.a=a\n",
    "        self.b=b\n",
    "t=test(3,5)\n",
    "t.a=10\n",
    "t.a\n",
    "\n",
    "# If you want to mask the internal structure of the class"
   ]
  },
  {
   "cell_type": "code",
   "execution_count": 74,
   "id": "b8cb97b5-c7ac-4ac7-806f-001f95274e4c",
   "metadata": {},
   "outputs": [],
   "source": [
    "class car:\n",
    "    def __init__(self, year, make, model, speed):\n",
    "        self.__year = year\n",
    "        self.__model = model\n",
    "        self.__make = make\n",
    "        self.speed = 0  # Assign the provided speed value, instead of setting it to 0\n",
    "\n",
    "d = car(2023, 1, 'tesla', 45)  # Removed unnecessary int() conversion for the make parameter\n"
   ]
  },
  {
   "cell_type": "code",
   "execution_count": 75,
   "id": "7cf2df75-db67-481b-9b5d-4c0009bcf11a",
   "metadata": {},
   "outputs": [],
   "source": [
    "d=car(2023,int(1),'tesla',45)"
   ]
  },
  {
   "cell_type": "code",
   "execution_count": 76,
   "id": "883d1fe2-a222-4e22-a594-68ca770ad2f7",
   "metadata": {},
   "outputs": [
    {
     "data": {
      "text/plain": [
       "0"
      ]
     },
     "execution_count": 76,
     "metadata": {},
     "output_type": "execute_result"
    }
   ],
   "source": [
    "d._car__year\n",
    "d.speed"
   ]
  },
  {
   "cell_type": "code",
   "execution_count": 82,
   "id": "04a83e9a-011f-40b8-810e-884ab9dde88b",
   "metadata": {},
   "outputs": [
    {
     "data": {
      "text/plain": [
       "80"
      ]
     },
     "execution_count": 82,
     "metadata": {},
     "output_type": "execute_result"
    }
   ],
   "source": [
    "class car:\n",
    "    def __init__(self, year, make, model, speed):\n",
    "        self.__year = year\n",
    "        self.__model = model\n",
    "        self.__make = make\n",
    "        self.__speed = 0  # Assign the provided speed value, instead of setting it to 0\n",
    "    def set_speed(self,speed):\n",
    "        self.__speed=speed = 0 if speed <0 else speed\n",
    "    \n",
    "    def get_speed(self):\n",
    "        return self.__speed\n",
    "\n",
    "d = car(2023, 1, 'tesla', 45)  # Removed unnecessary int() conversion for the make parameter\n",
    "d.set_speed(80)\n",
    "d.get_speed()"
   ]
  },
  {
   "cell_type": "code",
   "execution_count": 95,
   "id": "a20df9b5-bf0c-465d-bc6f-6e7aab3a3491",
   "metadata": {},
   "outputs": [],
   "source": [
    "class bank:\n",
    "    def __init__(self,balance):\n",
    "        self.__balance=balance\n",
    "    \n",
    "    def deposit(self,amount):\n",
    "        if amount>0:\n",
    "            self.__balance=self.__balance+amount\n",
    "            return True\n",
    "        else:\n",
    "            return False\n",
    "    def withdraw(self,amount):\n",
    "        if self.__balance>amount:\n",
    "            self.__balance=self.__balance-amount\n",
    "            return True\n",
    "        else:\n",
    "            return False\n",
    "    def get_balance(self):\n",
    "        return self.__balance\n",
    "b=bank(2000)"
   ]
  },
  {
   "cell_type": "code",
   "execution_count": 96,
   "id": "1066ecbb-6aa2-48d9-ba28-4230263d8f38",
   "metadata": {},
   "outputs": [
    {
     "data": {
      "text/plain": [
       "2000"
      ]
     },
     "execution_count": 96,
     "metadata": {},
     "output_type": "execute_result"
    }
   ],
   "source": [
    "b.get_balance()"
   ]
  },
  {
   "cell_type": "code",
   "execution_count": 97,
   "id": "418106cf-962c-42d9-ae5f-8b172c0a4811",
   "metadata": {},
   "outputs": [
    {
     "data": {
      "text/plain": [
       "True"
      ]
     },
     "execution_count": 97,
     "metadata": {},
     "output_type": "execute_result"
    }
   ],
   "source": [
    "b.withdraw(28)"
   ]
  },
  {
   "cell_type": "code",
   "execution_count": 98,
   "id": "d8c4f332-93cc-424c-b670-76c1a09c57fe",
   "metadata": {},
   "outputs": [
    {
     "data": {
      "text/plain": [
       "1972"
      ]
     },
     "execution_count": 98,
     "metadata": {},
     "output_type": "execute_result"
    }
   ],
   "source": [
    "b.get_balance()"
   ]
  },
  {
   "cell_type": "code",
   "execution_count": 99,
   "id": "a1220f9e-cad8-4c2e-af75-92a2ba594152",
   "metadata": {},
   "outputs": [
    {
     "data": {
      "text/plain": [
       "True"
      ]
     },
     "execution_count": 99,
     "metadata": {},
     "output_type": "execute_result"
    }
   ],
   "source": [
    "b.deposit(38)"
   ]
  },
  {
   "cell_type": "code",
   "execution_count": 101,
   "id": "d3f0dbc5-7b61-40da-b0b9-176300d637a2",
   "metadata": {},
   "outputs": [
    {
     "data": {
      "text/plain": [
       "2010"
      ]
     },
     "execution_count": 101,
     "metadata": {},
     "output_type": "execute_result"
    }
   ],
   "source": [
    "b.get_balance()"
   ]
  },
  {
   "cell_type": "code",
   "execution_count": 105,
   "id": "9c562f7e-9578-45e3-ab97-7acdee2bf0f8",
   "metadata": {},
   "outputs": [
    {
     "data": {
      "text/plain": [
       "'This is my first class'"
      ]
     },
     "execution_count": 105,
     "metadata": {},
     "output_type": "execute_result"
    }
   ],
   "source": [
    "### Inheritence ##\n",
    "class test:\n",
    "    def test_method(self):\n",
    "        return \"This is my first class\"\n",
    "class child_test(test):\n",
    "    pass\n",
    "c=child_test()\n",
    "c.test_method()"
   ]
  },
  {
   "cell_type": "code",
   "execution_count": 109,
   "id": "191f8410-3bfb-45f3-83e4-f8a91c26ba25",
   "metadata": {},
   "outputs": [
    {
     "name": "stdout",
     "output_type": "stream",
     "text": [
      "this is a method from class 1 \n",
      "this is a method from class 2 \n"
     ]
    },
    {
     "data": {
      "text/plain": [
       "'this is a method from class 3 '"
      ]
     },
     "execution_count": 109,
     "metadata": {},
     "output_type": "execute_result"
    }
   ],
   "source": [
    "## Multi Level Inheritence \n",
    "class class1:\n",
    "    def testClass1(self):\n",
    "        return \"this is a method from class 1 \"\n",
    "class class2(class1):\n",
    "    def testClass2(self):\n",
    "        return \"this is a method from class 2 \"\n",
    "class class3(class2):\n",
    "    def testClass3(self):\n",
    "        return \"this is a method from class 3 \"\n",
    "\n",
    "    \n",
    "class3_obj=class3()\n",
    "print(class3_obj.testClass1())\n",
    "print(class3_obj.testClass2())\n",
    "class3_obj.testClass3()"
   ]
  },
  {
   "cell_type": "code",
   "execution_count": 113,
   "id": "ff637b07-92f7-482e-ac78-4cc531270ada",
   "metadata": {},
   "outputs": [
    {
     "data": {
      "text/plain": [
       "'This is class 1'"
      ]
     },
     "execution_count": 113,
     "metadata": {},
     "output_type": "execute_result"
    }
   ],
   "source": [
    "# multiple inheritence\n",
    "class class1:\n",
    "    def testclass1(self):\n",
    "        return \"This is class 1\"\n",
    "class class2:\n",
    "    def testclass2(self):\n",
    "        return \"This is class 2\"\n",
    "class class3(class1, class2):\n",
    "    pass\n",
    "class3_obj=class3()\n",
    "class3_obj.testclass1()"
   ]
  },
  {
   "cell_type": "code",
   "execution_count": 115,
   "id": "de407a6b-333a-4a98-8d19-a37aa850889b",
   "metadata": {},
   "outputs": [],
   "source": [
    "# Abstract class is used for making skleton before coding\n",
    "import abc\n",
    "\n",
    "class pwskills:\n",
    "    @abc.abstractmethod\n",
    "    def student_details(self):\n",
    "        pass\n",
    "\n",
    "    @abc.abstractmethod\n",
    "    def student_assignment(self):\n",
    "        pass\n",
    "    @abc.abstractmethod\n",
    "    def student_marks(self):\n",
    "        pass"
   ]
  },
  {
   "cell_type": "code",
   "execution_count": 117,
   "id": "22b14565-f80f-443d-b3cf-9e9a67418795",
   "metadata": {},
   "outputs": [],
   "source": [
    "class studentDetails(pwskills):\n",
    "    def student_details(self):\n",
    "        return \"This is a meth for taking student details\"\n",
    "    def student_assignment(self):\n",
    "        return \"This is a method for assigning for a particular student\""
   ]
  },
  {
   "cell_type": "code",
   "execution_count": 118,
   "id": "1a50653e-de3c-4aee-b87f-bc551a4d161a",
   "metadata": {},
   "outputs": [],
   "source": [
    "class data_science(pwskills):\n",
    "    def student_details(self):\n",
    "        return \"This will return a student details from data science masters\"\n",
    "    def student_assignment(self):\n",
    "        return \"This will give you student assigned for the details of data science \""
   ]
  },
  {
   "cell_type": "code",
   "execution_count": 119,
   "id": "b84bde76-6a47-4698-a4b3-98d097dcf2ed",
   "metadata": {},
   "outputs": [
    {
     "data": {
      "text/plain": [
       "'This is a meth for taking student details'"
      ]
     },
     "execution_count": 119,
     "metadata": {},
     "output_type": "execute_result"
    }
   ],
   "source": [
    "data=studentDetails()\n",
    "data.student_details()"
   ]
  },
  {
   "cell_type": "code",
   "execution_count": 121,
   "id": "875e299a-562c-4951-bf93-cc76952510a0",
   "metadata": {},
   "outputs": [
    {
     "data": {
      "text/plain": [
       "'This will return a student details from data science masters'"
      ]
     },
     "execution_count": 121,
     "metadata": {},
     "output_type": "execute_result"
    }
   ],
   "source": [
    "c=data_science()\n",
    "c.student_details()"
   ]
  },
  {
   "cell_type": "code",
   "execution_count": 122,
   "id": "855cba9c-9b96-4b15-b378-ee973122f1bb",
   "metadata": {},
   "outputs": [],
   "source": [
    "########### Decorator################"
   ]
  },
  {
   "cell_type": "code",
   "execution_count": 124,
   "id": "4eb63c37-9c97-49d0-95d1-379f0041805e",
   "metadata": {},
   "outputs": [
    {
     "name": "stdout",
     "output_type": "stream",
     "text": [
      "This is my start of the function\n",
      "Main function\n",
      "End of the function\n"
     ]
    }
   ],
   "source": [
    "def test():\n",
    "    print(\"This is my start of the function\")\n",
    "    print(\"Main function\")\n",
    "    print(\"End of the function\")\n",
    "test()"
   ]
  },
  {
   "cell_type": "code",
   "execution_count": 130,
   "id": "d1ae5c05-638c-4514-9fec-a5d41b2a90af",
   "metadata": {},
   "outputs": [
    {
     "name": "stdout",
     "output_type": "stream",
     "text": [
      "This is the start of my function\n",
      "14\n",
      "End of the function\n"
     ]
    }
   ],
   "source": [
    "def deco(func):\n",
    "    def inner_dec():\n",
    "        print(\"This is the start of my function\")\n",
    "        func()\n",
    "        print(\"End of the function\")\n",
    "    return inner_dec\n",
    "@deco\n",
    "def test1():\n",
    "    print(6+8)\n",
    "    \n",
    "test1()"
   ]
  },
  {
   "cell_type": "code",
   "execution_count": 137,
   "id": "8fb88ad9-0195-4911-aec9-7db12fadbc96",
   "metadata": {},
   "outputs": [],
   "source": [
    "# Time complexity "
   ]
  },
  {
   "cell_type": "code",
   "execution_count": 139,
   "id": "6402269e-0d2d-48d9-befa-8ffdd03e95e2",
   "metadata": {},
   "outputs": [
    {
     "name": "stdout",
     "output_type": "stream",
     "text": [
      "Hi\n",
      "4.57763671875e-05\n"
     ]
    }
   ],
   "source": [
    "import time\n",
    "def timer_test(func):\n",
    "    def timer_test_inner():\n",
    "        start=time.time()\n",
    "        func()\n",
    "        end=time.time()\n",
    "        print(end-start)\n",
    "    return timer_test_inner\n",
    "\n",
    "@timer_test\n",
    "def test2():\n",
    "    print(\"Hi\")\n",
    "    \n",
    "test2()"
   ]
  },
  {
   "cell_type": "code",
   "execution_count": 144,
   "id": "0f3dbfa3-68fe-4239-8608-95e4095f419b",
   "metadata": {},
   "outputs": [
    {
     "name": "stdout",
     "output_type": "stream",
     "text": [
      "0.02164459228515625\n"
     ]
    }
   ],
   "source": [
    "@timer_test\n",
    "def loop():\n",
    "    for i in range (1000000):\n",
    "        pass\n",
    "loop()"
   ]
  },
  {
   "cell_type": "code",
   "execution_count": null,
   "id": "294371d6-ee6c-472b-9622-74416c0003df",
   "metadata": {},
   "outputs": [],
   "source": []
  }
 ],
 "metadata": {
  "kernelspec": {
   "display_name": "Python 3 (ipykernel)",
   "language": "python",
   "name": "python3"
  },
  "language_info": {
   "codemirror_mode": {
    "name": "ipython",
    "version": 3
   },
   "file_extension": ".py",
   "mimetype": "text/x-python",
   "name": "python",
   "nbconvert_exporter": "python",
   "pygments_lexer": "ipython3",
   "version": "3.10.8"
  }
 },
 "nbformat": 4,
 "nbformat_minor": 5
}
