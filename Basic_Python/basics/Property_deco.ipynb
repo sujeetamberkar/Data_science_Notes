{
 "cells": [
  {
   "cell_type": "code",
   "execution_count": 1,
   "id": "ceb1fa2b-e198-455d-a8aa-dae6d5a790a9",
   "metadata": {},
   "outputs": [],
   "source": [
    "# _ protected\n",
    "# __ private"
   ]
  },
  {
   "cell_type": "code",
   "execution_count": 2,
   "id": "019cd06e-5b0f-438a-931e-6b03f729376a",
   "metadata": {},
   "outputs": [],
   "source": [
    "class pwSkills():\n",
    "    def __init__(self,course_price,course_name):\n",
    "        self.__course_price=course_price\n",
    "        self.course_name=course_name"
   ]
  },
  {
   "cell_type": "code",
   "execution_count": 5,
   "id": "b55cb283-cc18-494e-b951-f022cc77db40",
   "metadata": {},
   "outputs": [],
   "source": [
    "pw=pwSkills(\"3000\",\"Data\")"
   ]
  },
  {
   "cell_type": "code",
   "execution_count": 6,
   "id": "a999bd60-f4c1-46c6-9361-2eb018251661",
   "metadata": {},
   "outputs": [
    {
     "data": {
      "text/plain": [
       "'3000'"
      ]
     },
     "execution_count": 6,
     "metadata": {},
     "output_type": "execute_result"
    }
   ],
   "source": [
    "pw._pwSkills__course_price"
   ]
  },
  {
   "cell_type": "code",
   "execution_count": 7,
   "id": "084dc7fa-6731-4279-915c-dbfc1e402f05",
   "metadata": {},
   "outputs": [],
   "source": [
    "###### gIVE ACESS TO THE USER "
   ]
  },
  {
   "cell_type": "code",
   "execution_count": 11,
   "id": "efc76dcb-d6a4-4865-8cd3-ef743990b1a6",
   "metadata": {},
   "outputs": [
    {
     "data": {
      "text/plain": [
       "'3000'"
      ]
     },
     "execution_count": 11,
     "metadata": {},
     "output_type": "execute_result"
    }
   ],
   "source": [
    "class pwSkills2():\n",
    "    def __init__(self,course_price,course_name):\n",
    "        self.__course_price=course_price\n",
    "        self.course_name=course_name\n",
    "        \n",
    "    @property\n",
    "    def course_price_acess(self):\n",
    "        return self.__course_price\n",
    "    \n",
    "pw=pwSkills2(\"3000\",\"Data\")\n",
    "pw.course_price_acess"
   ]
  },
  {
   "cell_type": "code",
   "execution_count": 12,
   "id": "6737b8da-4207-4b73-bcd1-fec0516091d8",
   "metadata": {},
   "outputs": [],
   "source": [
    "####### Now to set the value by user"
   ]
  },
  {
   "cell_type": "code",
   "execution_count": 18,
   "id": "a494b1f7-f71e-4407-ba4c-761bc496324d",
   "metadata": {},
   "outputs": [
    {
     "data": {
      "text/plain": [
       "4000"
      ]
     },
     "execution_count": 18,
     "metadata": {},
     "output_type": "execute_result"
    }
   ],
   "source": [
    "class pwSkills3():\n",
    "    def __init__(self,course_price,course_name):\n",
    "        self.__course_price=course_price\n",
    "        self.course_name=course_name\n",
    "        \n",
    "    @property\n",
    "    def course_price_acess(self):\n",
    "        return self.__course_price\n",
    "    \n",
    "    @course_price_acess.setter\n",
    "    def course_price_set(self,price):\n",
    "        if price<= 3500:\n",
    "            pass\n",
    "        else:\n",
    "            self.__course_price=price\n",
    "pw=pwSkills3(3000,\"Data\")\n",
    "pw.course_price_acess\n",
    "pw.course_price_set=4000\n",
    "pw.course_price_acess\n"
   ]
  },
  {
   "cell_type": "code",
   "execution_count": null,
   "id": "f9b92ff7-b336-4c7c-ae77-2ce2de4c9ba7",
   "metadata": {},
   "outputs": [],
   "source": [
    "######## Now delete acess\n"
   ]
  },
  {
   "cell_type": "code",
   "execution_count": 23,
   "id": "56bfebb3-a444-469b-8dc4-57fa6088d4a0",
   "metadata": {},
   "outputs": [
    {
     "name": "stdout",
     "output_type": "stream",
     "text": [
      "3000\n",
      "2500\n"
     ]
    }
   ],
   "source": [
    "class pwSkills4():\n",
    "    def __init__(self, course_price, course_name):\n",
    "        self.__course_price = course_price\n",
    "        self.course_name = course_name\n",
    "        \n",
    "    @property\n",
    "    def course_price_acess(self):\n",
    "        return self.__course_price\n",
    "    \n",
    "    @course_price_acess.setter\n",
    "    def course_price_acess(self, price):\n",
    "        if price <= 3500:\n",
    "            self.__course_price = price\n",
    "    \n",
    "    @course_price_acess.deleter\n",
    "    def course_price_acess(self):\n",
    "        del self.__course_price\n",
    "\n",
    "cw = pwSkills4(3000, \"Data\")\n",
    "print(cw.course_price_acess)\n",
    "\n",
    "cw.course_price_acess = 2500  # Now you can change the price using the setter\n",
    "print(cw.course_price_acess)\n",
    "\n",
    "del cw.course_price_acess  # Delete the price using the deleter\n"
   ]
  },
  {
   "cell_type": "code",
   "execution_count": null,
   "id": "c111b7ff-bd48-4e53-ae47-94027a63a5ed",
   "metadata": {},
   "outputs": [],
   "source": []
  },
  {
   "cell_type": "code",
   "execution_count": null,
   "id": "6651b27a-02b4-489e-ac02-3c5eebcc0e61",
   "metadata": {},
   "outputs": [],
   "source": []
  },
  {
   "cell_type": "code",
   "execution_count": null,
   "id": "075087cf-b5d7-4547-b07c-ae56563ac14d",
   "metadata": {},
   "outputs": [],
   "source": []
  },
  {
   "cell_type": "code",
   "execution_count": null,
   "id": "cb72d380-2c6f-426a-82db-c9368fda5912",
   "metadata": {},
   "outputs": [],
   "source": []
  }
 ],
 "metadata": {
  "kernelspec": {
   "display_name": "Python 3 (ipykernel)",
   "language": "python",
   "name": "python3"
  },
  "language_info": {
   "codemirror_mode": {
    "name": "ipython",
    "version": 3
   },
   "file_extension": ".py",
   "mimetype": "text/x-python",
   "name": "python",
   "nbconvert_exporter": "python",
   "pygments_lexer": "ipython3",
   "version": "3.10.8"
  }
 },
 "nbformat": 4,
 "nbformat_minor": 5
}
