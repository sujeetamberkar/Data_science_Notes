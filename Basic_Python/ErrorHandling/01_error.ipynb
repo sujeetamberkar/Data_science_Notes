{
 "cells": [
  {
   "cell_type": "code",
   "execution_count": 2,
   "id": "c347f188-e722-4b7e-b0c5-48161b9c89c6",
   "metadata": {},
   "outputs": [
    {
     "name": "stdout",
     "output_type": "stream",
     "text": [
      "this is my exeception block  [Errno 2] No such file or directory: 'suj.txt'\n",
      "The code resumes\n"
     ]
    }
   ],
   "source": [
    "# We will go under except only when there is an error \n",
    "try:\n",
    "    f=open(\"01_suj.txt1\",\"r\")\n",
    "except Exception as e:\n",
    "    print(\"this is my exeception block \",e)\n",
    "    \n",
    "print(\"The code resumes\")"
   ]
  },
  {
   "cell_type": "code",
   "execution_count": 3,
   "id": "413f5f36-04de-42bd-a869-86cb3f2854e5",
   "metadata": {},
   "outputs": [
    {
     "name": "stdout",
     "output_type": "stream",
     "text": [
      "The code resumes\n"
     ]
    }
   ],
   "source": [
    "try:\n",
    "    f=open(\"01_suj.txt1\",\"w\")\n",
    "    f.write(\"Hi1\")\n",
    "    f.close()\n",
    "except Exception as e:\n",
    "    print(\"this is my exeception block \",e)\n",
    "    \n",
    "print(\"The code resumes\")"
   ]
  },
  {
   "cell_type": "code",
   "execution_count": 5,
   "id": "0cfb8bc4-6213-473c-8673-783c4d259798",
   "metadata": {},
   "outputs": [
    {
     "name": "stdout",
     "output_type": "stream",
     "text": [
      "This is else\n",
      "The code resumes\n"
     ]
    }
   ],
   "source": [
    "# Now execute else only if the try block is executed sucessfully \n",
    "try:\n",
    "    f=open(\"01_suj.txt2\",\"w\")\n",
    "    f.write(\"Hi1\")\n",
    "    f.close()\n",
    "except Exception as e:\n",
    "    print(\"this is my exeception block \",e)\n",
    "else:\n",
    "    print(\"This is else\")\n",
    "print(\"The code resumes\")"
   ]
  },
  {
   "cell_type": "code",
   "execution_count": 7,
   "id": "12b53270-b81a-48f0-92a8-d370c5a4902d",
   "metadata": {},
   "outputs": [
    {
     "name": "stdout",
     "output_type": "stream",
     "text": [
      "this is my exeception block  [Errno 2] No such file or directory: '01_suj.txt3'\n",
      "The code resumes\n"
     ]
    }
   ],
   "source": [
    "try:\n",
    "    f=open(\"01_suj.txt3\",\"r\")\n",
    "    f.write(\"Hi1\")\n",
    "    f.close()\n",
    "except Exception as e:\n",
    "    print(\"this is my exeception block \",e)\n",
    "else:\n",
    "    print(\"This is else\")\n",
    "print(\"The code resumes\")"
   ]
  },
  {
   "cell_type": "code",
   "execution_count": 9,
   "id": "e7adc29b-c377-4d4c-8838-d0a2622ef6fb",
   "metadata": {},
   "outputs": [
    {
     "name": "stdout",
     "output_type": "stream",
     "text": [
      "this is my exeception block  not writable\n",
      "You are in finally\n",
      "The code resumes\n",
      "This is else\n",
      "You are in finally\n",
      "The code resumes\n"
     ]
    }
   ],
   "source": [
    "# Finally block will execute under any circumstances\n",
    "# You can write close connection in the finally block \n",
    "# Mandatory things irresprctive of error \n",
    "try:\n",
    "    f=open(\"01_suj.txt4\",\"r\")\n",
    "    f.write(\"Hi1\")\n",
    "    f.close()\n",
    "except Exception as e:\n",
    "    print(\"this is my exeception block \",e)\n",
    "else:\n",
    "    print(\"This is else\")\n",
    "finally:\n",
    "    print(\"You are in finally\")\n",
    "print(\"The code resumes\")\n",
    "\n",
    "# Finally block will execute under any circumstances\n",
    "try:\n",
    "    f=open(\"01_suj.txt4\",\"w\")\n",
    "    f.write(\"Hi1\")\n",
    "    f.close()\n",
    "except Exception as e:\n",
    "    print(\"this is my exeception block \",e)\n",
    "else:\n",
    "    print(\"This is else\")\n",
    "finally:\n",
    "    print(\"You are in finally\")\n",
    "print(\"The code resumes\")"
   ]
  },
  {
   "cell_type": "code",
   "execution_count": null,
   "id": "0b17d5ec-b76d-4e07-a151-bacc3ddf1aae",
   "metadata": {},
   "outputs": [],
   "source": []
  }
 ],
 "metadata": {
  "kernelspec": {
   "display_name": "Python 3 (ipykernel)",
   "language": "python",
   "name": "python3"
  },
  "language_info": {
   "codemirror_mode": {
    "name": "ipython",
    "version": 3
   },
   "file_extension": ".py",
   "mimetype": "text/x-python",
   "name": "python",
   "nbconvert_exporter": "python",
   "pygments_lexer": "ipython3",
   "version": "3.10.8"
  }
 },
 "nbformat": 4,
 "nbformat_minor": 5
}
