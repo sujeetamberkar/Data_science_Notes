{
 "cells": [
  {
   "cell_type": "code",
   "execution_count": 8,
   "id": "bfce1e9f-60a8-4029-8414-a08d10d5d1cb",
   "metadata": {},
   "outputs": [
    {
     "name": "stdin",
     "output_type": "stream",
     "text": [
      "Enter age:  2222\n"
     ]
    },
    {
     "name": "stdout",
     "output_type": "stream",
     "text": [
      "Entered age is not possible for humans\n"
     ]
    }
   ],
   "source": [
    "class ValidateAgeError(Exception):\n",
    "    def __init__(self, msg):\n",
    "        self.msg = msg\n",
    "\n",
    "def validate_age(age):\n",
    "   # print(type(age))\n",
    "    if age < 0:\n",
    "        raise ValidateAgeError(\"Entered age is negative\")\n",
    "    elif age >= 200:\n",
    "        raise ValidateAgeError(\"Entered age is not possible for humans\")\n",
    "    else:\n",
    "        print(\"Entered age is valid\")\n",
    "\n",
    "try:\n",
    "    age = int(input(\"Enter age: \"))\n",
    "    validate_age(age)\n",
    "except Exception as e:\n",
    "    print(e)\n"
   ]
  },
  {
   "cell_type": "code",
   "execution_count": 12,
   "id": "bd13072c-5dd6-4980-bdbd-26b0548625a4",
   "metadata": {},
   "outputs": [
    {
     "name": "stdout",
     "output_type": "stream",
     "text": [
      "division by zero\n"
     ]
    }
   ],
   "source": [
    "try:\n",
    "    a=10/0\n",
    "except ZeroDivisionError as e:\n",
    "    print(e)\n"
   ]
  },
  {
   "cell_type": "code",
   "execution_count": 16,
   "id": "1c20bbce-1bec-40bb-b490-0c9c394ca538",
   "metadata": {},
   "outputs": [
    {
     "name": "stdout",
     "output_type": "stream",
     "text": [
      "invalid literal for int() with base 10: 'Sujeet'\n",
      "##############################################\n",
      "invalid literal for int() with base 10: 'Sujeet'\n"
     ]
    }
   ],
   "source": [
    "try:\n",
    "    int(\"Sujeet\")\n",
    "except Exception as e:\n",
    "    print(e)\n",
    "print(\"##############################################\")\n",
    "try:\n",
    "    int(\"Sujeet\")\n",
    "except (ValueError, TypeError) as e:\n",
    "    print(e)"
   ]
  },
  {
   "cell_type": "code",
   "execution_count": 18,
   "id": "f8889d44-9bc5-400b-a32b-894224b9087b",
   "metadata": {},
   "outputs": [
    {
     "name": "stdout",
     "output_type": "stream",
     "text": [
      "No module named 'sujeet'\n"
     ]
    }
   ],
   "source": [
    "try :\n",
    "    import sujeet\n",
    "except ImportError as e:\n",
    "    print (e)"
   ]
  },
  {
   "cell_type": "code",
   "execution_count": 22,
   "id": "9d2c75b4-9675-42ec-81dc-7182ef4c665d",
   "metadata": {},
   "outputs": [
    {
     "name": "stdout",
     "output_type": "stream",
     "text": [
      "KeyError  1\n"
     ]
    }
   ],
   "source": [
    "d={2:\"sujeet\",\"Ln\":\"Amberkar\"}\n",
    "\n",
    "try:\n",
    "    print(d[1])\n",
    "except KeyError as e:\n",
    "    print(\"KeyError \",e)"
   ]
  },
  {
   "cell_type": "code",
   "execution_count": 23,
   "id": "dcb97d4d-45cc-42b9-8fca-fa66707cefec",
   "metadata": {},
   "outputs": [
    {
     "name": "stdout",
     "output_type": "stream",
     "text": [
      "'str' object has no attribute 'amberkar'\n"
     ]
    }
   ],
   "source": [
    "try:\n",
    "    \"sujeet\".amberkar()\n",
    "except AttributeError as e:\n",
    "    print(e)"
   ]
  },
  {
   "cell_type": "code",
   "execution_count": 24,
   "id": "bcaac0c0-522a-434f-bd99-79c44e907068",
   "metadata": {},
   "outputs": [
    {
     "name": "stdout",
     "output_type": "stream",
     "text": [
      "list index out of range\n"
     ]
    }
   ],
   "source": [
    "l=[1,2,3]\n",
    "try:\n",
    "    print(l[9])\n",
    "except IndexError as e:\n",
    "    print(e)    "
   ]
  },
  {
   "cell_type": "code",
   "execution_count": 26,
   "id": "8b233125-f8ed-4c94-bebc-39853bd79524",
   "metadata": {},
   "outputs": [
    {
     "name": "stdout",
     "output_type": "stream",
     "text": [
      "unsupported operand type(s) for +: 'int' and 'str'\n"
     ]
    }
   ],
   "source": [
    "a=3\n",
    "b=\"three\"\n",
    "try:\n",
    "    print(a+b)\n",
    "except TypeError as e:\n",
    "    print(e)"
   ]
  },
  {
   "cell_type": "code",
   "execution_count": 27,
   "id": "bb334a53-e7db-4a0c-8292-9f99a20ab3cc",
   "metadata": {},
   "outputs": [
    {
     "name": "stdout",
     "output_type": "stream",
     "text": [
      "[Errno 2] No such file or directory: 'file.txt'\n"
     ]
    }
   ],
   "source": [
    "try:\n",
    "    with open(\"file.txt\",\"r\") as f:\n",
    "        d=f.read()\n",
    "except FileNotFoundError as e:\n",
    "    print(e)\n",
    "        "
   ]
  },
  {
   "cell_type": "code",
   "execution_count": 29,
   "id": "59d6ec75-0351-43b7-8f25-35f857a473c8",
   "metadata": {},
   "outputs": [
    {
     "name": "stdout",
     "output_type": "stream",
     "text": [
      "[Errno 2] No such file or directory: 'file.txt'\n"
     ]
    }
   ],
   "source": [
    "try:\n",
    "    with open(\"file.txt\",\"r\") as f:\n",
    "        d=f.read()\n",
    "############## The first execept that satisfy the condition is considered\n",
    "except Exception as e:\n",
    "    print(e)\n",
    "except FileNotFoundError as e:\n",
    "    print(e)\n",
    "        "
   ]
  },
  {
   "cell_type": "code",
   "execution_count": 31,
   "id": "0cc12221-4321-42ba-85bc-a9edf2a2a6a9",
   "metadata": {},
   "outputs": [],
   "source": [
    "# Best pratice\n",
    "\n",
    "\n",
    "#When ever you get an exception \n",
    "#print appropiate messages"
   ]
  },
  {
   "cell_type": "code",
   "execution_count": 34,
   "id": "553ea6ee-e363-4f30-b811-b023488ac944",
   "metadata": {},
   "outputs": [
    {
     "name": "stdout",
     "output_type": "stream",
     "text": [
      "The file \"file.txt\" does not exist.\n"
     ]
    }
   ],
   "source": [
    "\n",
    "# Use always specific exception \n",
    "# Try not to use a superclass if possible\n",
    "try:\n",
    "    # Open a file and read its content\n",
    "    with open('file.txt', 'r') as f:\n",
    "        content = f.read()\n",
    "except FileNotFoundError:\n",
    "    print('The file \"file.txt\" does not exist.')\n",
    "except PermissionError:\n",
    "    print('You do not have the necessary permissions to read \"file.txt\".')\n",
    "except Exception as e:\n",
    "    # We're catching Exception here only as a last resort.\n",
    "    # It's generally better to catch exceptions as specifically as possible,\n",
    "    # but if we really don't know what might go wrong, we can catch Exception.\n",
    "    print('An unexpected error occurred: ', str(e))\n"
   ]
  },
  {
   "cell_type": "code",
   "execution_count": 40,
   "id": "6ba1fab5-ff11-477d-8965-9665ec6bbed4",
   "metadata": {},
   "outputs": [],
   "source": [
    "# Whenever you get an error\n",
    "# Log the error \n",
    "import logging\n",
    "logging.basicConfig(filename=\"02_error.log\",level=logging.ERROR)\n",
    "try:\n",
    "    10/0\n",
    "except ZeroDivisionError as e:\n",
    "    logging.error(\"I am Trying to handle zeroi division error {}\".format(e))\n",
    "finally:\n",
    "    logging.shutdown()"
   ]
  },
  {
   "cell_type": "code",
   "execution_count": 41,
   "id": "77a22f4f-89d4-4595-85d8-e3e53a31b4c1",
   "metadata": {},
   "outputs": [],
   "source": [
    "# dont unneceaaryly add exceptions\n",
    "\n",
    "import logging\n",
    "logging.basicConfig(filename=\"02_error.log\",level=logging.ERROR)\n",
    "try:\n",
    "    10/0\n",
    "except FileNotFoundError:\n",
    "    logging.error('The file \"file.txt\" does not exist. {}'.format(e))\n",
    "except PermissionError:\n",
    "    logging.error('You do not have the necessary permissions to read \"file.txt\".{}'.format(e))\n",
    "except ZeroDivisionError as e:\n",
    "    logging.error(\"I am Trying to handle zeroi division error {}\".format(e))\n",
    "finally:\n",
    "    logging.shutdown()"
   ]
  },
  {
   "cell_type": "code",
   "execution_count": 42,
   "id": "0f4bdb55-738a-482c-b2a5-bd0f7806e1e1",
   "metadata": {},
   "outputs": [],
   "source": [
    "# Always try to Document error with a proper meaning "
   ]
  },
  {
   "cell_type": "code",
   "execution_count": 43,
   "id": "3de32551-96fd-492f-a1f4-57bf8eaec1b0",
   "metadata": {},
   "outputs": [],
   "source": [
    "# Clean up all the resources \n",
    "import logging\n",
    "logging.basicConfig(filename=\"02_error2.log\",level=logging.ERROR)\n",
    "try:\n",
    "    f=open(\"02_file.txt\",\"w\")\n",
    "    data=f.read()\n",
    "except Exception as e:\n",
    "    logging.error(\"File is write mode not read {}\".format(e))\n",
    "finally:\n",
    "    logging.shutdown()\n",
    "    f.close()"
   ]
  },
  {
   "cell_type": "code",
   "execution_count": null,
   "id": "3980e113-eef9-4e0e-9576-ed15e356f702",
   "metadata": {},
   "outputs": [],
   "source": []
  }
 ],
 "metadata": {
  "kernelspec": {
   "display_name": "Python 3 (ipykernel)",
   "language": "python",
   "name": "python3"
  },
  "language_info": {
   "codemirror_mode": {
    "name": "ipython",
    "version": 3
   },
   "file_extension": ".py",
   "mimetype": "text/x-python",
   "name": "python",
   "nbconvert_exporter": "python",
   "pygments_lexer": "ipython3",
   "version": "3.10.8"
  }
 },
 "nbformat": 4,
 "nbformat_minor": 5
}
