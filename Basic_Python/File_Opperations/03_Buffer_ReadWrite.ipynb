{
 "cells": [
  {
   "cell_type": "code",
   "execution_count": 2,
   "id": "b0c3032c-a130-48aa-ac77-b88cc0a2f70b",
   "metadata": {},
   "outputs": [
    {
     "name": "stdout",
     "output_type": "stream",
     "text": [
      "b'This'\n"
     ]
    }
   ],
   "source": [
    "import io\n",
    "with open(\"test.txt\",\"wb\") as f:\n",
    "    file = io.BufferedWriter(f)\n",
    "    # Write/Read data in parts \n",
    "    f.write(b\"This is my first line\\n\")\n",
    "    f.write(b\"This is my 2nd line\")\n",
    "    f.flush()\n",
    "with open (\"test.txt\",\"rb\") as f:\n",
    "    file=io.BufferedReader(f)\n",
    "    var=f.read(4)\n",
    "    print(var)"
   ]
  },
  {
   "cell_type": "code",
   "execution_count": null,
   "id": "55ee9628-d36b-452d-be85-c2fdb64dc3c6",
   "metadata": {},
   "outputs": [],
   "source": []
  }
 ],
 "metadata": {
  "kernelspec": {
   "display_name": "Python 3 (ipykernel)",
   "language": "python",
   "name": "python3"
  },
  "language_info": {
   "codemirror_mode": {
    "name": "ipython",
    "version": 3
   },
   "file_extension": ".py",
   "mimetype": "text/x-python",
   "name": "python",
   "nbconvert_exporter": "python",
   "pygments_lexer": "ipython3",
   "version": "3.10.8"
  }
 },
 "nbformat": 4,
 "nbformat_minor": 5
}
