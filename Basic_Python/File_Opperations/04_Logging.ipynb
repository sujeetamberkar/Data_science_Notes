{
 "cells": [
  {
   "cell_type": "code",
   "execution_count": 3,
   "id": "ac44cc9d-e1db-4fe5-aeb1-da2982ec8dfb",
   "metadata": {},
   "outputs": [],
   "source": [
    "# You cant look at the output on consel for future use"
   ]
  },
  {
   "cell_type": "code",
   "execution_count": 3,
   "id": "40feab6e-67e9-4e51-be86-637531cbfd4e",
   "metadata": {},
   "outputs": [],
   "source": [
    "import logging\n",
    "logging.basicConfig(filename=\"04_Test.log\",level=logging.INFO)\n",
    "logging.info(\"Log this line of execution\")\n",
    "logging.info(\"This is my print\")\n",
    "logging.debug(\"d\")\n",
    "# Instaed of printing it on console \n",
    "# Log it on \n",
    "logging.shutdown()"
   ]
  },
  {
   "cell_type": "code",
   "execution_count": 4,
   "id": "3c0df499-2b86-4607-969a-83038e4c453d",
   "metadata": {},
   "outputs": [],
   "source": [
    "# 1. NOSET\n",
    "# 2. DEBUG\n",
    "# 3. INFO\n",
    "# 4. WARNGING\n",
    "# 5. ERROR\n",
    "# 6. CRITICAL"
   ]
  },
  {
   "cell_type": "code",
   "execution_count": 5,
   "id": "5837cb0b-9cb8-4daf-bdb2-2093e71fd0f3",
   "metadata": {},
   "outputs": [],
   "source": [
    "logging.debug(\"This is debug\")\n",
    "# Since level = INFO\n",
    "# Only things below INFO will be logged "
   ]
  },
  {
   "cell_type": "code",
   "execution_count": 6,
   "id": "13df5c1c-110f-4ae8-8fe3-2e0a99bc76f9",
   "metadata": {},
   "outputs": [],
   "source": [
    "import logging\n",
    "logging.basicConfig(filename=\"04_Test2.log\",level=logging.DEBUG)\n",
    "logging.info(\"Log this line of execution\")\n",
    "logging.info(\"This is my print\")\n",
    "logging.debug(\"This is Debug\")\n",
    "# Instaed of printing it on console \n",
    "logging.shutdown()"
   ]
  },
  {
   "cell_type": "code",
   "execution_count": null,
   "id": "ff3bd56b-1916-4954-aa24-0d2290e33023",
   "metadata": {},
   "outputs": [],
   "source": [
    "import logging\n",
    "logging.basicConfig(filename=\"04_Test3.log\",level=logging.DEBUG, format='%(asctime)s %(message)s')\n",
    "logging.info(\"Log this line of execution\")\n",
    "logging.info(\"This is my print\")\n",
    "logging.debug(\"This is Debug\")\n",
    "logging.shutdown()"
   ]
  },
  {
   "cell_type": "code",
   "execution_count": 5,
   "id": "06d7ed8b-e21f-4514-86ca-e89c16c4cb4f",
   "metadata": {},
   "outputs": [],
   "source": [
    "import logging\n",
    "\n",
    "logging.basicConfig(filename=\"04_Test4.log\", level=logging.DEBUG, format='%(asctime)s %(name)s %(levelname)s  %(message)s')\n",
    "\n",
    "logging.info(\"This is an info message\")\n",
    "logging.debug(\"This is a debug message\")\n",
    "logging.shutdown()"
   ]
  },
  {
   "cell_type": "code",
   "execution_count": 3,
   "id": "50e5a0c4-9448-4dbc-8a2c-fd37e515875d",
   "metadata": {},
   "outputs": [],
   "source": [
    "import logging\n",
    "logging.basicConfig(filename=\"04_Test5.log\", level=logging.DEBUG, format='%(asctime)s %(name)s %(levelname)s  %(message)s')\n",
    "l1_int=[]\n",
    "l1_str=[]\n",
    "l=[1,2,3,4,5,[6,7,8,9],\"sujeet\"]\n",
    "for i in l:\n",
    "    logging.info(\"We are iterarting through our list and our local variable is i\")\n",
    "    if type (i) == list:\n",
    "        logging.info(\"I am inside my list statement and I am trying to check my list type \")\n",
    "        for j in i:\n",
    "            logging.info(\"I am inside another for loop for list inside list elements   \")\n",
    "            if type (j) == int:\n",
    "                \n",
    "                l1_int.append(j)\n",
    "    elif type (i) == int :\n",
    "        l1_int.append(i)\n",
    "    elif type (i) == str:\n",
    "        l1_str.append(i)\n",
    "logging.info(\"My final result for int is {l1}\".format(l1=l1_int))\n",
    "logging.info(\"My final result for int  is {l1} for  str is {l2}\".format(l1=l1_int,l2=l1_str))"
   ]
  },
  {
   "cell_type": "code",
   "execution_count": null,
   "id": "33b1549e-aad5-42e7-a2fe-f7765c1f5439",
   "metadata": {},
   "outputs": [],
   "source": []
  }
 ],
 "metadata": {
  "kernelspec": {
   "display_name": "Python 3 (ipykernel)",
   "language": "python",
   "name": "python3"
  },
  "language_info": {
   "codemirror_mode": {
    "name": "ipython",
    "version": 3
   },
   "file_extension": ".py",
   "mimetype": "text/x-python",
   "name": "python",
   "nbconvert_exporter": "python",
   "pygments_lexer": "ipython3",
   "version": "3.10.8"
  }
 },
 "nbformat": 4,
 "nbformat_minor": 5
}
