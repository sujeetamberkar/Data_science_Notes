{
 "cells": [
  {
   "cell_type": "code",
   "execution_count": 12,
   "id": "d7817584-c8a3-4c21-be5d-612b5a32b1cf",
   "metadata": {},
   "outputs": [],
   "source": [
    "data={\n",
    "    \"first_name\":\"sujeet\",\n",
    "    \"last_name\":\"Amberkar\",\n",
    "    \"phone_number\":7021041478,\n",
    "    \"skills\":[\"cryptography\",\"qiskit\"]\n",
    "}\n",
    "import json"
   ]
  },
  {
   "cell_type": "code",
   "execution_count": 13,
   "id": "0b1f8a07-f1b0-4626-bf9c-f511d0341459",
   "metadata": {},
   "outputs": [
    {
     "name": "stdout",
     "output_type": "stream",
     "text": [
      "{'first_name': 'sujeet', 'last_name': 'Amberkar', 'phone_number': 7021041478, 'skills': ['cryptography', 'qiskit']}\n"
     ]
    }
   ],
   "source": [
    "with open (\"data.json\",\"w\") as f:\n",
    "    json.dump(data,f)\n",
    "    \n",
    "with open(\"data.json\",\"r\") as f:\n",
    "    var=json.load(f)\n",
    "print(var)"
   ]
  },
  {
   "cell_type": "code",
   "execution_count": 14,
   "id": "77f4875b-514c-4de9-9fb8-2adb20d42227",
   "metadata": {},
   "outputs": [
    {
     "name": "stdout",
     "output_type": "stream",
     "text": [
      "['name', 'Phone Number', 'email id']\n",
      "['Sujeet', '7021041478', 'sujeet.amberkar@gmail.com']\n"
     ]
    }
   ],
   "source": [
    "### CSV ###\n",
    "import csv\n",
    "data=[[\"name\",\"Phone Number\",\"email id\"],\n",
    "      [\"Sujeet\",\"7021041478\",\"sujeet.amberkar@gmail.com\"]]\n",
    "with open (\"data.csv\",\"w\") as f:\n",
    "    writer= csv.writer(f)\n",
    "    for i in data:\n",
    "        writer.writerow(i)\n",
    "\n",
    "with open(\"data.csv\",\"r\") as f:\n",
    "    reader=csv.reader(f)\n",
    "    for i in reader:\n",
    "        print(i)"
   ]
  },
  {
   "cell_type": "code",
   "execution_count": 17,
   "id": "65c2286d-6d76-477b-89fa-07e6c0f30eac",
   "metadata": {},
   "outputs": [
    {
     "name": "stdout",
     "output_type": "stream",
     "text": [
      "b'\\x01\\x07\\n'\n"
     ]
    }
   ],
   "source": [
    "# When you open an image file or video file in hex format \n",
    "# Binnary data\n",
    "\n",
    "with open(\"test.bin\",\"wb\") as f:\n",
    "    f.write(b\"\\x01\\x07\\x0A\")\n",
    "    \n",
    "with open(\"test.bin\",\"rb\") as f:\n",
    "    rdata=f.read()\n",
    "    \n",
    "    print(rdata)"
   ]
  },
  {
   "cell_type": "code",
   "execution_count": null,
   "id": "da83134e-35cb-4787-8953-af4b0c0a62fe",
   "metadata": {},
   "outputs": [],
   "source": []
  }
 ],
 "metadata": {
  "kernelspec": {
   "display_name": "Python 3 (ipykernel)",
   "language": "python",
   "name": "python3"
  },
  "language_info": {
   "codemirror_mode": {
    "name": "ipython",
    "version": 3
   },
   "file_extension": ".py",
   "mimetype": "text/x-python",
   "name": "python",
   "nbconvert_exporter": "python",
   "pygments_lexer": "ipython3",
   "version": "3.10.8"
  }
 },
 "nbformat": 4,
 "nbformat_minor": 5
}
