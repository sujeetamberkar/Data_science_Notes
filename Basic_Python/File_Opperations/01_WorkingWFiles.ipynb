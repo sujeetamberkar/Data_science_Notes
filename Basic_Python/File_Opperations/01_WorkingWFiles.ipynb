{
 "cells": [
  {
   "cell_type": "code",
   "execution_count": 6,
   "id": "1b66fd8d-4952-47ea-a6ab-6d969e27fd65",
   "metadata": {},
   "outputs": [],
   "source": [
    "f=open(\"test.txt\",\"w\")\n",
    "# W delete and write"
   ]
  },
  {
   "cell_type": "code",
   "execution_count": 2,
   "id": "1a76ad80-b506-4ff6-af40-63b8121c1c03",
   "metadata": {},
   "outputs": [
    {
     "data": {
      "text/plain": [
       "'/home/jovyan/work/Sujeet_Practice/File Opperations'"
      ]
     },
     "execution_count": 2,
     "metadata": {},
     "output_type": "execute_result"
    }
   ],
   "source": [
    "pwd"
   ]
  },
  {
   "cell_type": "code",
   "execution_count": 3,
   "id": "849d10a6-3c0a-407c-b6ee-4101a163ba96",
   "metadata": {},
   "outputs": [],
   "source": [
    "f.write(\"This is my first write\")\n",
    "f.close()"
   ]
  },
  {
   "cell_type": "code",
   "execution_count": 9,
   "id": "6fc7b87e-6580-4183-a9bb-74dc547909be",
   "metadata": {},
   "outputs": [],
   "source": [
    "f=open(\"test.txt\",\"w\")\n",
    "f.write(\"This is my 2nd write\")\n",
    "f.close()"
   ]
  },
  {
   "cell_type": "code",
   "execution_count": 10,
   "id": "b2f07a44-0cc3-4019-b8ad-a440744e759d",
   "metadata": {},
   "outputs": [],
   "source": [
    "f=open(\"test.txt\",\"a\")\n",
    "f.write(\"This is my 3nd write\")\n",
    "f.close()"
   ]
  },
  {
   "cell_type": "code",
   "execution_count": 13,
   "id": "d5215309-a07d-4008-80f3-59a442a35e21",
   "metadata": {},
   "outputs": [
    {
     "data": {
      "text/plain": [
       "'This is my 2nd writeThis is my 3nd write'"
      ]
     },
     "execution_count": 13,
     "metadata": {},
     "output_type": "execute_result"
    }
   ],
   "source": [
    "f=open(\"test.txt\",\"r\")\n",
    "data=f.read()\n",
    "data"
   ]
  },
  {
   "cell_type": "code",
   "execution_count": 15,
   "id": "c1e9b173-2215-4b8a-a348-186ee8c50fab",
   "metadata": {},
   "outputs": [
    {
     "data": {
      "text/plain": [
       "''"
      ]
     },
     "execution_count": 15,
     "metadata": {},
     "output_type": "execute_result"
    }
   ],
   "source": [
    "s=f.readline()\n",
    "s"
   ]
  },
  {
   "cell_type": "code",
   "execution_count": 17,
   "id": "d0737630-f7f0-4421-b291-9ab0eb487d23",
   "metadata": {},
   "outputs": [
    {
     "data": {
      "text/plain": [
       "0"
      ]
     },
     "execution_count": 17,
     "metadata": {},
     "output_type": "execute_result"
    }
   ],
   "source": [
    "f.seek(0)"
   ]
  },
  {
   "cell_type": "code",
   "execution_count": 19,
   "id": "a0e4a530-f6cb-4b0f-bb19-8603e784be48",
   "metadata": {},
   "outputs": [
    {
     "data": {
      "text/plain": [
       "''"
      ]
     },
     "execution_count": 19,
     "metadata": {},
     "output_type": "execute_result"
    }
   ],
   "source": [
    "s=f.readline()\n",
    "s"
   ]
  },
  {
   "cell_type": "code",
   "execution_count": 24,
   "id": "e4ab654a-c85e-4bf2-be77-7b0fbc10fa0b",
   "metadata": {},
   "outputs": [
    {
     "name": "stdout",
     "output_type": "stream",
     "text": [
      "This is my 2nd writeThis is my 3nd write\n"
     ]
    }
   ],
   "source": [
    "f=open(\"test.txt\",\"r\")\n",
    "for i in f:\n",
    "    print(i)"
   ]
  },
  {
   "cell_type": "code",
   "execution_count": 25,
   "id": "4963f850-fdec-494e-967b-b067a42de140",
   "metadata": {},
   "outputs": [
    {
     "data": {
      "text/plain": [
       "40"
      ]
     },
     "execution_count": 25,
     "metadata": {},
     "output_type": "execute_result"
    }
   ],
   "source": [
    "import os\n",
    "os.path.getsize(\"test.txt\")"
   ]
  },
  {
   "cell_type": "code",
   "execution_count": 26,
   "id": "598ab75e-6e37-4988-af6e-e5115c419272",
   "metadata": {},
   "outputs": [],
   "source": [
    "os.remove(\"test.txt\")"
   ]
  },
  {
   "cell_type": "code",
   "execution_count": 28,
   "id": "ca5d2449-e676-4cc4-8598-7a26274e919e",
   "metadata": {},
   "outputs": [],
   "source": [
    "f=open(\"sujeet.txt\",\"w\")\n",
    "os.rename(\"sujeet.txt\",\"sanmansuj.txt\")"
   ]
  },
  {
   "cell_type": "code",
   "execution_count": 29,
   "id": "d40c3674-b86c-4ff6-a6b9-576c4793c009",
   "metadata": {},
   "outputs": [
    {
     "data": {
      "text/plain": [
       "'Suj.md'"
      ]
     },
     "execution_count": 29,
     "metadata": {},
     "output_type": "execute_result"
    }
   ],
   "source": [
    "# copy a file \n",
    "import shutil\n",
    "shutil.copy(\"sanmansuj.txt\",\"Suj.md\")"
   ]
  },
  {
   "cell_type": "code",
   "execution_count": 30,
   "id": "e1538766-3f32-4979-b3ee-3161e3a89185",
   "metadata": {},
   "outputs": [],
   "source": [
    "with open (\"Suj.md\",'r') as f:\n",
    "    f.read()"
   ]
  },
  {
   "cell_type": "code",
   "execution_count": 1,
   "id": "85df65cd-d87a-4b93-84f3-e33986cdb598",
   "metadata": {},
   "outputs": [],
   "source": [
    "f=open(\"sanmansuj.txt\",\"r\")\n"
   ]
  },
  {
   "cell_type": "code",
   "execution_count": 2,
   "id": "b082c132-8f6a-4036-a113-cd469a82ca81",
   "metadata": {},
   "outputs": [],
   "source": [
    "data=f.readlines()"
   ]
  },
  {
   "cell_type": "code",
   "execution_count": 3,
   "id": "3a48df30-33a3-4976-9391-0be8c12c2e38",
   "metadata": {},
   "outputs": [
    {
     "name": "stdout",
     "output_type": "stream",
     "text": [
      "['#1: Loyalty Is Everything\\n', 'Loyalty is important in just about everything you do in life. Whether it’s being a good spouse, being a reliable employee/boss, or being a true friend, loyalty is paramount.\\n', '\\n', 'Throughout the show, Specter shows extreme loyalty to people who have shown the same to him. More importantly though, he doesn’t just show blind loyalty to anyone and anything — it has to be a two-way street.\\n', '\\n', '\\n', '#2: Winning Isn’t Everything\\n', 'One thing that’s made clear about Specter throughout the show is that he wins. He’s all about winning, whatever the costs may be.\\n', '\\n', 'But often, those costs come back to bite him both personally and professionally']\n"
     ]
    }
   ],
   "source": [
    "print(data)"
   ]
  },
  {
   "cell_type": "code",
   "execution_count": null,
   "id": "e38f99fd-b619-497b-ac74-7c46915f8620",
   "metadata": {},
   "outputs": [],
   "source": []
  }
 ],
 "metadata": {
  "kernelspec": {
   "display_name": "Python 3 (ipykernel)",
   "language": "python",
   "name": "python3"
  },
  "language_info": {
   "codemirror_mode": {
    "name": "ipython",
    "version": 3
   },
   "file_extension": ".py",
   "mimetype": "text/x-python",
   "name": "python",
   "nbconvert_exporter": "python",
   "pygments_lexer": "ipython3",
   "version": "3.10.8"
  }
 },
 "nbformat": 4,
 "nbformat_minor": 5
}
