{
 "cells": [
  {
   "cell_type": "code",
   "execution_count": 1,
   "id": "2bffedac-68ae-4386-a8af-96139c09c2eb",
   "metadata": {},
   "outputs": [
    {
     "name": "stdout",
     "output_type": "stream",
     "text": [
      "1\n",
      "2\n",
      "3\n",
      "4\n",
      "5\n",
      "6\n",
      "7\n",
      "8\n",
      "9\n"
     ]
    }
   ],
   "source": [
    "a=1\n",
    "while a<10:\n",
    "    print (a)\n",
    "    a=a+1"
   ]
  },
  {
   "cell_type": "code",
   "execution_count": 4,
   "id": "8ffee027-5f8c-44b4-92d8-13b190ffaa1a",
   "metadata": {},
   "outputs": [
    {
     "name": "stdin",
     "output_type": "stream",
     "text": [
      "Upper Limit 33\n"
     ]
    },
    {
     "name": "stdout",
     "output_type": "stream",
     "text": [
      "561\n"
     ]
    }
   ],
   "source": [
    "# Sum till a number\n",
    "sum =0\n",
    "n=int(input(\"Upper Limit\"))\n",
    "counter=0\n",
    "\n",
    "while counter <= n:\n",
    "    sum=sum+counter\n",
    "    counter=counter+1\n",
    "\n",
    "print(sum)"
   ]
  },
  {
   "cell_type": "code",
   "execution_count": 7,
   "id": "69b080ab-d51b-4048-998a-f2c6f3aad542",
   "metadata": {},
   "outputs": [
    {
     "name": "stdin",
     "output_type": "stream",
     "text": [
      "Enter a number 232\n"
     ]
    },
    {
     "name": "stdout",
     "output_type": "stream",
     "text": [
      "415798210832770977015571637026261943061848522604312624113370066788694260962277358924812122018540899189453160012306216996159585953169430580992217533416996218355769692228520181107693452987433346106108354577759088747652027298991897698378108675855550345084116012553381493679397220592936761668902813894894999677516082875409398242248834435266509874044408860014177472808390130551065070522666947759308800000000000000000000000000000000000000000000000000000000\n"
     ]
    }
   ],
   "source": [
    "# Factorial \n",
    "mul=1\n",
    "n=int(input(\"Enter a number\"))\n",
    "\n",
    "while n != 0:\n",
    "    mul=mul*n\n",
    "    n=n-1\n",
    "    \n",
    "print(mul)\n"
   ]
  },
  {
   "cell_type": "code",
   "execution_count": 11,
   "id": "44aaa628-f85c-49c3-8f09-700d7080ad2b",
   "metadata": {},
   "outputs": [
    {
     "name": "stdin",
     "output_type": "stream",
     "text": [
      "Enter a number (UPPER LIMIT) 32\n"
     ]
    },
    {
     "name": "stdout",
     "output_type": "stream",
     "text": [
      "0\n",
      "1\n",
      "1\n",
      "2\n",
      "3\n",
      "5\n",
      "8\n",
      "13\n",
      "21\n"
     ]
    }
   ],
   "source": [
    "# Finonacci series \n",
    "n=int(input(\"Enter a number (UPPER LIMIT)\"))\n",
    "a=0\n",
    "b=1\n",
    "\n",
    "while a <= n:\n",
    "    print (a)\n",
    "    temp=b\n",
    "    b=a+b\n",
    "    a=temp\n",
    "\n",
    "    "
   ]
  },
  {
   "cell_type": "code",
   "execution_count": 12,
   "id": "948af1d4-9ce2-4f41-a6e6-150c7de3ce2d",
   "metadata": {},
   "outputs": [
    {
     "name": "stdin",
     "output_type": "stream",
     "text": [
      "number of elemts  3\n"
     ]
    },
    {
     "name": "stdout",
     "output_type": "stream",
     "text": [
      "0\n",
      "1\n",
      "1\n"
     ]
    }
   ],
   "source": [
    "# Finonacci series \n",
    "n=int(input(\"number of elemts \"))\n",
    "a=0\n",
    "b=1\n",
    "counter= 1\n",
    "while counter <= n:\n",
    "    print (a)\n",
    "    temp=b\n",
    "    b=a+b\n",
    "    a=temp\n",
    "    counter=counter+1\n",
    "\n",
    "    "
   ]
  },
  {
   "cell_type": "code",
   "execution_count": 13,
   "id": "b5913f8a-8e58-401b-994b-9b2cad0e3faa",
   "metadata": {},
   "outputs": [
    {
     "name": "stdin",
     "output_type": "stream",
     "text": [
      "Enter a string abc\n"
     ]
    },
    {
     "name": "stdout",
     "output_type": "stream",
     "text": [
      "cba\n"
     ]
    }
   ],
   "source": [
    "# Reverse a string using While loop\n",
    "s=input(\"Enter a string\")\n",
    "length=len(s)\n",
    "length=length-1\n",
    "rev=''\n",
    "while length >= 0:\n",
    "    rev=rev+s[length]\n",
    "    length=length-1\n",
    "print(rev)"
   ]
  },
  {
   "cell_type": "code",
   "execution_count": 19,
   "id": "02554b7a-9314-415b-b915-5f6fa96e5e33",
   "metadata": {},
   "outputs": [
    {
     "name": "stdin",
     "output_type": "stream",
     "text": [
      "Enter a number 22\n"
     ]
    },
    {
     "name": "stdout",
     "output_type": "stream",
     "text": [
      "22 x 1 = 22\n",
      "22 x 2 = 44\n",
      "22 x 3 = 66\n",
      "22 x 4 = 88\n",
      "22 x 5 = 110\n",
      "22 x 6 = 132\n",
      "22 x 7 = 154\n",
      "22 x 8 = 176\n",
      "22 x 9 = 198\n",
      "22 x 10 = 220\n"
     ]
    }
   ],
   "source": [
    "# Print table \n",
    "n=int(input(\"Enter a number\"))\n",
    "i=1\n",
    "\n",
    "while i <= 10:\n",
    "    print (str(n)+\" x \"+str(i)+' = '+str(i*n))\n",
    "    i=i+1"
   ]
  },
  {
   "cell_type": "code",
   "execution_count": 22,
   "id": "cfbfe30d-b3ce-4014-87f6-4817c1c539e2",
   "metadata": {},
   "outputs": [
    {
     "name": "stdin",
     "output_type": "stream",
     "text": [
      "Enter a number 2\n"
     ]
    },
    {
     "name": "stdout",
     "output_type": "stream",
     "text": [
      "2 x 1 = 2\n",
      "2 x 2 = 4\n",
      "2 x 3 = 6\n",
      "2 x 4 = 8\n",
      "2 x 5 = 10\n",
      "2 x 6 = 12\n",
      "2 x 7 = 14\n",
      "2 x 8 = 16\n",
      "2 x 9 = 18\n",
      "2 x 10 = 20\n"
     ]
    }
   ],
   "source": [
    "# Print table using for loop \n",
    "n=int(input(\"Enter a number\"))\n",
    "for i in range (1,11):\n",
    "    print(str(n)+\" x \"+str(i)+' = '+str(i*n))"
   ]
  },
  {
   "cell_type": "code",
   "execution_count": 26,
   "id": "a02c0ed4-a8fe-435c-a445-874bbbc4f4af",
   "metadata": {},
   "outputs": [
    {
     "name": "stdout",
     "output_type": "stream",
     "text": [
      "Loop 1\n",
      "This is else\n",
      "Loop 2\n",
      "Loop 3\n",
      "This is else\n"
     ]
    }
   ],
   "source": [
    "#Else in while loop\n",
    "\n",
    "print(\"Loop 1\")\n",
    "i=0\n",
    "while i <10:\n",
    "    i=i+1\n",
    "else:\n",
    "    print(\"This is else\")\n",
    "    \n",
    "print(\"Loop 2\")\n",
    "i=0\n",
    "while i <10:\n",
    "    i=i+1\n",
    "    if i == 4:\n",
    "        break\n",
    "else:\n",
    "    print(\"This is else\")\n",
    "    \n",
    "print(\"Loop 3\")    \n",
    "i=0\n",
    "while i <10:\n",
    "    i=i+1\n",
    "    if i == 4:\n",
    "        continue\n",
    "else:\n",
    "    print(\"This is else\")\n"
   ]
  },
  {
   "cell_type": "code",
   "execution_count": null,
   "id": "c9fadfce-430e-4e15-b4bb-3ade11b6284d",
   "metadata": {},
   "outputs": [],
   "source": []
  }
 ],
 "metadata": {
  "kernelspec": {
   "display_name": "Python 3 (ipykernel)",
   "language": "python",
   "name": "python3"
  },
  "language_info": {
   "codemirror_mode": {
    "name": "ipython",
    "version": 3
   },
   "file_extension": ".py",
   "mimetype": "text/x-python",
   "name": "python",
   "nbconvert_exporter": "python",
   "pygments_lexer": "ipython3",
   "version": "3.10.8"
  }
 },
 "nbformat": 4,
 "nbformat_minor": 5
}
