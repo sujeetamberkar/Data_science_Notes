{
 "cells": [
  {
   "cell_type": "code",
   "execution_count": 83,
   "id": "3c182d04-546f-4ce9-b42f-e93c2baba605",
   "metadata": {},
   "outputs": [],
   "source": [
    "# To work on arrays and matrices "
   ]
  },
  {
   "cell_type": "code",
   "execution_count": 84,
   "id": "8cbf9690-1bf9-4029-b713-d2a37b768e17",
   "metadata": {},
   "outputs": [],
   "source": [
    "import numpy as np"
   ]
  },
  {
   "cell_type": "code",
   "execution_count": 85,
   "id": "2260a8fc-ca78-455f-a4c9-cdf9cd79bd3a",
   "metadata": {},
   "outputs": [],
   "source": [
    "l=[1,2,3,4,5]\n",
    "arr=np.array(l)"
   ]
  },
  {
   "cell_type": "code",
   "execution_count": 86,
   "id": "042ec823-9c9f-42ab-870e-c6055bc48518",
   "metadata": {},
   "outputs": [
    {
     "data": {
      "text/plain": [
       "numpy.ndarray"
      ]
     },
     "execution_count": 86,
     "metadata": {},
     "output_type": "execute_result"
    }
   ],
   "source": [
    "type(arr)"
   ]
  },
  {
   "cell_type": "code",
   "execution_count": 87,
   "id": "13d70bbb-f035-4885-acea-d3fee970a40b",
   "metadata": {},
   "outputs": [
    {
     "data": {
      "text/plain": [
       "array([[1, 2],\n",
       "       [3, 4]])"
      ]
     },
     "execution_count": 87,
     "metadata": {},
     "output_type": "execute_result"
    }
   ],
   "source": [
    "array_2d=np.array([[1,2],[3,4]])\n",
    "array_2d"
   ]
  },
  {
   "cell_type": "code",
   "execution_count": 88,
   "id": "226e7572-09ae-49ca-960d-0225c9322294",
   "metadata": {},
   "outputs": [
    {
     "data": {
      "text/plain": [
       "1"
      ]
     },
     "execution_count": 88,
     "metadata": {},
     "output_type": "execute_result"
    }
   ],
   "source": [
    "array_2d[0][0]"
   ]
  },
  {
   "cell_type": "code",
   "execution_count": 89,
   "id": "032ef77f-7fb9-45bf-80f0-65bf3b0b88dc",
   "metadata": {},
   "outputs": [],
   "source": [
    "# 3 ways to convert list into array \n",
    "\n",
    "a=[1,2,3,4,5]\n",
    "array1=np.array(a)\n",
    "array2=np.asanyarray(a)\n",
    "array3=np.asarray(a)"
   ]
  },
  {
   "cell_type": "code",
   "execution_count": null,
   "id": "aef73eeb-a740-4edb-bea6-7d447357def7",
   "metadata": {},
   "outputs": [],
   "source": []
  },
  {
   "cell_type": "code",
   "execution_count": 90,
   "id": "a43505b9-410d-4196-b2f2-53720051930a",
   "metadata": {},
   "outputs": [
    {
     "data": {
      "text/plain": [
       "matrix([[ 1,  2,  3, 45]])"
      ]
     },
     "execution_count": 90,
     "metadata": {},
     "output_type": "execute_result"
    }
   ],
   "source": [
    "# Matrix is always 2D array\n",
    "# Matrix is a subclass or array \n",
    "b=np.matrix([1,2,3,45])\n",
    "b"
   ]
  },
  {
   "cell_type": "code",
   "execution_count": 91,
   "id": "1ef5004e-71aa-4751-8633-0479792fcb7c",
   "metadata": {},
   "outputs": [
    {
     "name": "stdout",
     "output_type": "stream",
     "text": [
      "[1 2 3 4 5]\n",
      "[1 2 3 4 5]\n",
      "[100   2   3   4   5]\n",
      "[100   2   3   4   5]\n"
     ]
    },
    {
     "data": {
      "text/plain": [
       "100"
      ]
     },
     "execution_count": 91,
     "metadata": {},
     "output_type": "execute_result"
    }
   ],
   "source": [
    "# You are copying the address \n",
    "# Swollow copy \n",
    "\n",
    "l=[1,2,3,4,5]\n",
    "a=np.array(l)\n",
    "c=a\n",
    "print(c)\n",
    "print(a)\n",
    "c[0]=100\n",
    "print(c)\n",
    "print(a)\n",
    "\n",
    "\n",
    "a[0]\n"
   ]
  },
  {
   "cell_type": "code",
   "execution_count": 92,
   "id": "13318dd4-da9c-4034-94bd-b0fa00799d3e",
   "metadata": {},
   "outputs": [
    {
     "name": "stdout",
     "output_type": "stream",
     "text": [
      "[  1   2   3 100   5   6   7   8]\n",
      "[1 2 3 4 5 6 7 8]\n"
     ]
    }
   ],
   "source": [
    "l=[1,2,3,4,5,6,7,8]\n",
    "a=np.array(l)\n",
    "c=a.copy()\n",
    "c[3]=100\n",
    "print(c)\n",
    "print(a)"
   ]
  },
  {
   "cell_type": "code",
   "execution_count": 93,
   "id": "138efeb2-5eaf-4ebb-9704-ec6fd491eb32",
   "metadata": {},
   "outputs": [
    {
     "data": {
      "text/plain": [
       "array([[ True, False, False],\n",
       "       [False,  True, False],\n",
       "       [False, False,  True]])"
      ]
     },
     "execution_count": 93,
     "metadata": {},
     "output_type": "execute_result"
    }
   ],
   "source": [
    "# Make a 3 x 3 matrix\n",
    "np.fromfunction(lambda i,j : i==j, (3,3))"
   ]
  },
  {
   "cell_type": "code",
   "execution_count": 94,
   "id": "ff86de1d-562f-423d-a502-8240addc2088",
   "metadata": {},
   "outputs": [
    {
     "data": {
      "text/plain": [
       "array([[0., 0., 0.],\n",
       "       [0., 1., 2.],\n",
       "       [0., 2., 4.]])"
      ]
     },
     "execution_count": 94,
     "metadata": {},
     "output_type": "execute_result"
    }
   ],
   "source": [
    "# Make a 3 x 3 matrix\n",
    "np.fromfunction(lambda i,j : i*j, (3,3))"
   ]
  },
  {
   "cell_type": "code",
   "execution_count": 95,
   "id": "03a682a3-8346-41e7-85a5-f676b224304e",
   "metadata": {},
   "outputs": [
    {
     "data": {
      "text/plain": [
       "array([ 0.,  1.,  4.,  9., 16.])"
      ]
     },
     "execution_count": 95,
     "metadata": {},
     "output_type": "execute_result"
    }
   ],
   "source": [
    "itterable =(i *i  for i in range (5))\n",
    "np.fromiter(itterable, float)"
   ]
  },
  {
   "cell_type": "code",
   "execution_count": 96,
   "id": "fb3a2207-14cc-4f23-a18f-88ba583569fe",
   "metadata": {},
   "outputs": [
    {
     "data": {
      "text/plain": [
       "array([123., 456.])"
      ]
     },
     "execution_count": 96,
     "metadata": {},
     "output_type": "execute_result"
    }
   ],
   "source": [
    "# Give a string and get array \n",
    "np.fromstring('123 456',sep=' ') # Space is the seprator "
   ]
  },
  {
   "cell_type": "code",
   "execution_count": 101,
   "id": "bc3e9971-3663-4788-a826-8f9ef9e8e409",
   "metadata": {},
   "outputs": [
    {
     "name": "stdout",
     "output_type": "stream",
     "text": [
      "[1 2 3 4 5 6 7 8 9]\n",
      "Dimension :  1\n",
      "Size:  9\n",
      "Sgape:  (9,)\n",
      "int64\n",
      "##################################################################\n",
      "[[1 2 3 4]\n",
      " [2 3 4 5]]\n",
      "Dimension :  2\n",
      "Size:  8\n",
      "int64\n",
      "Sgape:  (2, 4)\n",
      "##################################################################\n"
     ]
    }
   ],
   "source": [
    "# Data types under numpy \n",
    "l=[1,2,3,4,5,6,7,8,9]\n",
    "array1=np.array(l)\n",
    "print(array1)\n",
    "print(\"Dimension : \", array1.ndim)\n",
    "print(\"Size: \", array1.size)\n",
    "print(\"Sgape: \",array1.shape)\n",
    "print(array1.dtype)\n",
    "print(\"##################################################################\")\n",
    "\n",
    "\n",
    "\n",
    "l=[[1,2,3,4],[2,3,4,5]]\n",
    "array1=np.array(l)\n",
    "print(array1)\n",
    "print(\"Dimension : \", array1.ndim)\n",
    "print(\"Size: \", array1.size)\n",
    "print(array1.dtype)\n",
    "print(\"Sgape: \",array1.shape) ########### 2 rows, 4 column\n",
    "print(\"##################################################################\")\n"
   ]
  },
  {
   "cell_type": "code",
   "execution_count": null,
   "id": "b46eadbd-0e75-48a1-8df7-3680ffe15252",
   "metadata": {},
   "outputs": [],
   "source": [
    "# You can store complex data, string, float in an array "
   ]
  },
  {
   "cell_type": "code",
   "execution_count": 106,
   "id": "2860ae4b-ae35-4a90-9681-96e63bee57b7",
   "metadata": {},
   "outputs": [
    {
     "name": "stdout",
     "output_type": "stream",
     "text": [
      "Range cqan take only interger\n"
     ]
    },
    {
     "data": {
      "text/plain": [
       "array([2.3, 2.4, 2.5, 2.6, 2.7, 2.8, 2.9, 3. , 3.1, 3.2, 3.3, 3.4, 3.5,\n",
       "       3.6, 3.7, 3.8, 3.9])"
      ]
     },
     "execution_count": 106,
     "metadata": {},
     "output_type": "execute_result"
    }
   ],
   "source": [
    "list(range(0,5))\n",
    "try:\n",
    "    list(range(0.2,5))\n",
    "except:\n",
    "    print (\"Range cqan take only interger\")\n",
    "    \n",
    "np.arange(2.3,4,0.1)"
   ]
  },
  {
   "cell_type": "code",
   "execution_count": 109,
   "id": "fdae91ff-545e-4af4-b796-7790e3d394b6",
   "metadata": {},
   "outputs": [
    {
     "data": {
      "text/plain": [
       "array([1.        , 1.44444444, 1.88888889, 2.33333333, 2.77777778,\n",
       "       3.22222222, 3.66666667, 4.11111111, 4.55555556, 5.        ])"
      ]
     },
     "execution_count": 109,
     "metadata": {},
     "output_type": "execute_result"
    }
   ],
   "source": [
    "# Make a line from 1 to 5 and then produce 10 points in between \n",
    "np.linspace(1,5,10)"
   ]
  },
  {
   "cell_type": "code",
   "execution_count": 118,
   "id": "77ad3090-7497-462a-92d9-d73949715cf5",
   "metadata": {},
   "outputs": [
    {
     "name": "stdout",
     "output_type": "stream",
     "text": [
      "1 D Matrix\n",
      "[0. 0. 0.]\n",
      "##################################\n",
      "2 D Matrix\n",
      "[[0. 0. 0. 0.]\n",
      " [0. 0. 0. 0.]\n",
      " [0. 0. 0. 0.]]\n",
      "##################################\n",
      "3 D Matrix\n",
      "[[[0. 0.]\n",
      "  [0. 0.]\n",
      "  [0. 0.]\n",
      "  [0. 0.]]\n",
      "\n",
      " [[0. 0.]\n",
      "  [0. 0.]\n",
      "  [0. 0.]\n",
      "  [0. 0.]]\n",
      "\n",
      " [[0. 0.]\n",
      "  [0. 0.]\n",
      "  [0. 0.]\n",
      "  [0. 0.]]]\n"
     ]
    }
   ],
   "source": [
    "print(\"1 D Matrix\")\n",
    "# Make a zero matrix \n",
    "print(np.zeros(3))\n",
    "print(\"##################################\"+'\\n2 D Matrix')\n",
    "# 3 rows, 4 column \n",
    "print(np.zeros((3,4)))\n",
    "print(\"##################################\"+'\\n3 D Matrix')\n",
    "# 3 matrices of 4x2\n",
    "print(np.zeros((3,4,2)))"
   ]
  },
  {
   "cell_type": "code",
   "execution_count": 119,
   "id": "aeae4b24-fa3d-4344-8775-b2342e161120",
   "metadata": {},
   "outputs": [
    {
     "name": "stdout",
     "output_type": "stream",
     "text": [
      "1 D Matrix\n",
      "[1. 1. 1.]\n",
      "##################################\n",
      "2 D Matrix\n",
      "[[1. 1. 1. 1.]\n",
      " [1. 1. 1. 1.]\n",
      " [1. 1. 1. 1.]]\n",
      "##################################\n",
      "3 D Matrix\n",
      "[[[1. 1.]\n",
      "  [1. 1.]\n",
      "  [1. 1.]\n",
      "  [1. 1.]]\n",
      "\n",
      " [[1. 1.]\n",
      "  [1. 1.]\n",
      "  [1. 1.]\n",
      "  [1. 1.]]\n",
      "\n",
      " [[1. 1.]\n",
      "  [1. 1.]\n",
      "  [1. 1.]\n",
      "  [1. 1.]]]\n"
     ]
    }
   ],
   "source": [
    "### Ones Matrix \n",
    "\n",
    "\n",
    "print(\"1 D Matrix\")\n",
    "# Make a zero matrix \n",
    "print(np.ones(3))\n",
    "print(\"##################################\"+'\\n2 D Matrix')\n",
    "# 3 rows, 4 column \n",
    "print(np.ones((3,4)))\n",
    "print(\"##################################\"+'\\n3 D Matrix')\n",
    "# 3 matrices of 4x2\n",
    "print(np.ones((3,4,2)))"
   ]
  },
  {
   "cell_type": "code",
   "execution_count": 120,
   "id": "6a995107-350d-43db-87c6-fb114f83b318",
   "metadata": {},
   "outputs": [
    {
     "name": "stdout",
     "output_type": "stream",
     "text": [
      "[[4. 4. 4. 4.]\n",
      " [4. 4. 4. 4.]\n",
      " [4. 4. 4. 4.]]\n"
     ]
    }
   ],
   "source": [
    "# Scallar product \n",
    "print(np.ones((3,4))*4)\n"
   ]
  },
  {
   "cell_type": "code",
   "execution_count": 127,
   "id": "6e8fe8b3-e2be-4d4b-9256-71d8781a736f",
   "metadata": {},
   "outputs": [
    {
     "data": {
      "text/plain": [
       "array([[7.74860419e-304],\n",
       "       [7.74860419e-304],\n",
       "       [7.74860419e-304]])"
      ]
     },
     "execution_count": 127,
     "metadata": {},
     "output_type": "execute_result"
    }
   ],
   "source": [
    "# Create a empty array, \n",
    "# Array with very small values \n",
    "np.empty((3,1))\n",
    "\n",
    "\n"
   ]
  },
  {
   "cell_type": "code",
   "execution_count": 128,
   "id": "ce41c51c-8b62-4059-a465-b0fbad93c379",
   "metadata": {},
   "outputs": [
    {
     "data": {
      "text/plain": [
       "array([[1., 0., 0., 0.],\n",
       "       [0., 1., 0., 0.],\n",
       "       [0., 0., 1., 0.],\n",
       "       [0., 0., 0., 1.]])"
      ]
     },
     "execution_count": 128,
     "metadata": {},
     "output_type": "execute_result"
    }
   ],
   "source": [
    "# Identity matrix \n",
    "# Its always square matrix \n",
    "# Determinant is 1 \n",
    "\n",
    "\n",
    "np.eye(4)"
   ]
  },
  {
   "cell_type": "code",
   "execution_count": 129,
   "id": "3ffeff33-dd9b-4e06-98ce-6659282ecc39",
   "metadata": {},
   "outputs": [
    {
     "data": {
      "text/plain": [
       "array([2.        , 2.10526316, 2.21052632, 2.31578947, 2.42105263,\n",
       "       2.52631579, 2.63157895, 2.73684211, 2.84210526, 2.94736842,\n",
       "       3.05263158, 3.15789474, 3.26315789, 3.36842105, 3.47368421,\n",
       "       3.57894737, 3.68421053, 3.78947368, 3.89473684, 4.        ])"
      ]
     },
     "execution_count": 129,
     "metadata": {},
     "output_type": "execute_result"
    }
   ],
   "source": [
    "# Produce 20 data between 2,3\n",
    "np.linspace(2,4,20)"
   ]
  },
  {
   "cell_type": "code",
   "execution_count": 131,
   "id": "2f4dadec-e289-4f93-8eb0-df81d1431207",
   "metadata": {},
   "outputs": [
    {
     "data": {
      "text/plain": [
       "array([ 16.        ,  18.5137638 ,  21.42246562,  24.78815428,\n",
       "        28.68262708,  33.18896142,  38.40328703,  44.43683656,\n",
       "        51.4183185 ,  59.49666272,  68.84419752,  79.66032573,\n",
       "        92.1757784 , 106.65753682, 123.41452774, 142.80421347,\n",
       "       165.24021734, 191.20114709, 221.24080468, 256.        ])"
      ]
     },
     "execution_count": 131,
     "metadata": {},
     "output_type": "execute_result"
    }
   ],
   "source": [
    "# Produce 20 data between 2,3\n",
    "np.logspace(2,4,20, base = 4)"
   ]
  },
  {
   "cell_type": "code",
   "execution_count": 133,
   "id": "4bd3f066-cf4b-4782-8cc8-c4fc2a48741c",
   "metadata": {},
   "outputs": [
    {
     "data": {
      "text/html": [
       "<div>\n",
       "<style scoped>\n",
       "    .dataframe tbody tr th:only-of-type {\n",
       "        vertical-align: middle;\n",
       "    }\n",
       "\n",
       "    .dataframe tbody tr th {\n",
       "        vertical-align: top;\n",
       "    }\n",
       "\n",
       "    .dataframe thead th {\n",
       "        text-align: right;\n",
       "    }\n",
       "</style>\n",
       "<table border=\"1\" class=\"dataframe\">\n",
       "  <thead>\n",
       "    <tr style=\"text-align: right;\">\n",
       "      <th></th>\n",
       "      <th>0</th>\n",
       "      <th>1</th>\n",
       "      <th>2</th>\n",
       "      <th>3</th>\n",
       "    </tr>\n",
       "  </thead>\n",
       "  <tbody>\n",
       "    <tr>\n",
       "      <th>0</th>\n",
       "      <td>0.622926</td>\n",
       "      <td>0.155620</td>\n",
       "      <td>0.461814</td>\n",
       "      <td>0.082292</td>\n",
       "    </tr>\n",
       "    <tr>\n",
       "      <th>1</th>\n",
       "      <td>-0.272519</td>\n",
       "      <td>0.048033</td>\n",
       "      <td>0.391447</td>\n",
       "      <td>-0.824584</td>\n",
       "    </tr>\n",
       "    <tr>\n",
       "      <th>2</th>\n",
       "      <td>0.322312</td>\n",
       "      <td>-0.184301</td>\n",
       "      <td>1.203033</td>\n",
       "      <td>0.568115</td>\n",
       "    </tr>\n",
       "  </tbody>\n",
       "</table>\n",
       "</div>"
      ],
      "text/plain": [
       "          0         1         2         3\n",
       "0  0.622926  0.155620  0.461814  0.082292\n",
       "1 -0.272519  0.048033  0.391447 -0.824584\n",
       "2  0.322312 -0.184301  1.203033  0.568115"
      ]
     },
     "execution_count": 133,
     "metadata": {},
     "output_type": "execute_result"
    }
   ],
   "source": [
    "# To generate a random number \n",
    "# It generates the data whoes mean is zero always  and standard normal distribution is 0\n",
    "arr=np.random.randn(3,4)\n",
    "import pandas as pd \n",
    "pd.DataFrame(arr)"
   ]
  },
  {
   "cell_type": "code",
   "execution_count": 135,
   "id": "d93b794f-1d16-45ac-b5fc-a9cfef3435c0",
   "metadata": {},
   "outputs": [
    {
     "data": {
      "text/html": [
       "<div>\n",
       "<style scoped>\n",
       "    .dataframe tbody tr th:only-of-type {\n",
       "        vertical-align: middle;\n",
       "    }\n",
       "\n",
       "    .dataframe tbody tr th {\n",
       "        vertical-align: top;\n",
       "    }\n",
       "\n",
       "    .dataframe thead th {\n",
       "        text-align: right;\n",
       "    }\n",
       "</style>\n",
       "<table border=\"1\" class=\"dataframe\">\n",
       "  <thead>\n",
       "    <tr style=\"text-align: right;\">\n",
       "      <th></th>\n",
       "      <th>0</th>\n",
       "      <th>1</th>\n",
       "      <th>2</th>\n",
       "      <th>3</th>\n",
       "    </tr>\n",
       "  </thead>\n",
       "  <tbody>\n",
       "    <tr>\n",
       "      <th>0</th>\n",
       "      <td>0.977625</td>\n",
       "      <td>0.813572</td>\n",
       "      <td>0.680414</td>\n",
       "      <td>0.185309</td>\n",
       "    </tr>\n",
       "    <tr>\n",
       "      <th>1</th>\n",
       "      <td>0.637251</td>\n",
       "      <td>0.846012</td>\n",
       "      <td>0.913277</td>\n",
       "      <td>0.780946</td>\n",
       "    </tr>\n",
       "    <tr>\n",
       "      <th>2</th>\n",
       "      <td>0.457231</td>\n",
       "      <td>0.809549</td>\n",
       "      <td>0.967663</td>\n",
       "      <td>0.866412</td>\n",
       "    </tr>\n",
       "  </tbody>\n",
       "</table>\n",
       "</div>"
      ],
      "text/plain": [
       "          0         1         2         3\n",
       "0  0.977625  0.813572  0.680414  0.185309\n",
       "1  0.637251  0.846012  0.913277  0.780946\n",
       "2  0.457231  0.809549  0.967663  0.866412"
      ]
     },
     "execution_count": 135,
     "metadata": {},
     "output_type": "execute_result"
    }
   ],
   "source": [
    "# To generate a random number \n",
    "arr=np.random.rand(3,4)\n",
    "import pandas as pd \n",
    "pd.DataFrame(arr)"
   ]
  },
  {
   "cell_type": "code",
   "execution_count": 139,
   "id": "019c966a-958d-45bc-b4f1-31f5c581689c",
   "metadata": {},
   "outputs": [
    {
     "data": {
      "text/plain": [
       "array([7, 3, 5, 6, 6])"
      ]
     },
     "execution_count": 139,
     "metadata": {},
     "output_type": "execute_result"
    }
   ],
   "source": [
    "# To generate a random int \n",
    "# Limits followed by number of numbers you want \n",
    "arr=np.random.randint(3,9,5)\n",
    "arr"
   ]
  },
  {
   "cell_type": "code",
   "execution_count": 143,
   "id": "c27bcf37-b45e-44c9-a5c7-41d6b670332c",
   "metadata": {},
   "outputs": [
    {
     "name": "stdout",
     "output_type": "stream",
     "text": [
      "[[5 7 1 6]\n",
      " [4 8 9 5]\n",
      " [9 4 1 3]]\n",
      "Data\n",
      "   0  1  2  3\n",
      "0  4  8  9  7\n",
      "1  7  8  4  5\n",
      "2  3  3  7  7\n"
     ]
    }
   ],
   "source": [
    "# Put random numbers in a 2D Matrix of 3x4\n",
    "import pandas as pd\n",
    "print(np.random.randint(1,10,(3,4)))\n",
    "print(\"Data\")\n",
    "print(pd.DataFrame(np.random.randint(1,10,(3,4))))"
   ]
  },
  {
   "cell_type": "code",
   "execution_count": 145,
   "id": "967f49b2-15c4-4dba-86e9-238ea1c873c5",
   "metadata": {},
   "outputs": [
    {
     "data": {
      "text/plain": [
       "array([[7, 9, 6, 9, 2, 9],\n",
       "       [9, 1, 9, 8, 4, 4]])"
      ]
     },
     "execution_count": 145,
     "metadata": {},
     "output_type": "execute_result"
    }
   ],
   "source": [
    "# Re shape \n",
    "arr= np.random.randint(1,10,(3,4))\n",
    "arr.resize((2,6))\n",
    "arr"
   ]
  },
  {
   "cell_type": "code",
   "execution_count": 151,
   "id": "c7e10289-961f-463c-b2f4-911a53a93af4",
   "metadata": {},
   "outputs": [
    {
     "data": {
      "text/plain": [
       "array([[7, 7, 6, ..., 0, 0, 0],\n",
       "       [0, 0, 0, ..., 0, 0, 0]])"
      ]
     },
     "execution_count": 151,
     "metadata": {},
     "output_type": "execute_result"
    }
   ],
   "source": [
    "# Now you do not need to give always the correct input while reshaping \n",
    "# If number of rows is two the column has to be 6\n",
    "arr= np.random.randint(1,10,(3,4))\n",
    "arr.resize((2,33472))\n",
    "arr"
   ]
  },
  {
   "cell_type": "code",
   "execution_count": 156,
   "id": "fb217874-8a42-412d-b7d0-a9a44cc39a9a",
   "metadata": {},
   "outputs": [
    {
     "name": "stdout",
     "output_type": "stream",
     "text": [
      "7\n",
      "[6 6 7]\n"
     ]
    }
   ],
   "source": [
    "# Slicing in an array \n",
    "print(arr[0][1])\n",
    "print(arr[0][2:5])"
   ]
  },
  {
   "cell_type": "code",
   "execution_count": 174,
   "id": "fcd451b7-fb2b-4447-b5a6-e635db9f7944",
   "metadata": {},
   "outputs": [
    {
     "name": "stdout",
     "output_type": "stream",
     "text": [
      "[[ True  True  True  True  True]\n",
      " [False  True False  True  True]\n",
      " [ True  True False  True False]\n",
      " [False False False False False]\n",
      " [ True False  True False False]]\n",
      "\n",
      "\n",
      "\n",
      "Number above 50\n",
      "[60 96 66 90 64 74 92 89 60 67 96 98 53]\n"
     ]
    }
   ],
   "source": [
    "# You check weather \n",
    "array=np.random.randint(1,100,(5,5))\n",
    "print(array>50)  # given data is above 50\n",
    "\n",
    "print(\"\\n\\n\\nNumber above 50\")\n",
    "print(array[array>50])"
   ]
  },
  {
   "cell_type": "code",
   "execution_count": 175,
   "id": "ea04df9c-1143-4173-9016-97d9b5657f3a",
   "metadata": {},
   "outputs": [
    {
     "name": "stdout",
     "output_type": "stream",
     "text": [
      "[[60 96 66 90 64]\n",
      " [13 74 30 92 89]\n",
      " [60 67 10 96 20]\n",
      " [42 21 19  9 23]\n",
      " [98 15 53 41 46]]\n",
      "Check\n",
      "\n",
      "\n"
     ]
    },
    {
     "data": {
      "text/plain": [
       "array([[67, 10],\n",
       "       [21, 19]])"
      ]
     },
     "execution_count": 175,
     "metadata": {},
     "output_type": "execute_result"
    }
   ],
   "source": [
    "print(array)\n",
    "# Print only a sub-section of data \n",
    "print(\"Check\\n\\n\")\n",
    "array[2:4, [1,2]]"
   ]
  },
  {
   "cell_type": "code",
   "execution_count": 176,
   "id": "5e2816d0-9b9c-4ea5-baa8-16ee92b514b9",
   "metadata": {},
   "outputs": [
    {
     "name": "stdout",
     "output_type": "stream",
     "text": [
      "[[60 96 66 90 64]\n",
      " [13 74 30 92 89]\n",
      " [60 67 10 96 20]\n",
      " [42 21 19  9 23]\n",
      " [98 15 53 41 46]]\n",
      "You can manipulate any given data at any point easily \n",
      "[[ 0 96 66 90 64]\n",
      " [13 74 30 92 89]\n",
      " [60 67 10 96 20]\n",
      " [42 21 19  9 23]\n",
      " [98 15 53 41 46]]\n"
     ]
    }
   ],
   "source": [
    "print(array)\n",
    "print(\"You can manipulate any given data at any point easily \")\n",
    "array[0][0]=0\n",
    "print(array)"
   ]
  },
  {
   "cell_type": "code",
   "execution_count": 179,
   "id": "0ac5fd02-2c09-4738-bd0f-2c575712ea01",
   "metadata": {},
   "outputs": [
    {
     "name": "stdout",
     "output_type": "stream",
     "text": [
      "[[3 4 3 4]\n",
      " [4 3 3 4]\n",
      " [3 4 3 3]]\n",
      "[[-1  0 -1  0]\n",
      " [ 0 -1 -1  0]\n",
      " [-1  0  1 -1]]\n",
      "[[2 4 2 4]\n",
      " [4 2 2 4]\n",
      " [2 4 2 2]]\n"
     ]
    }
   ],
   "source": [
    "# One to One maping and calculate \n",
    "\n",
    "arr1=np.random.randint(1,3,(3,4))\n",
    "arr2=np.random.randint(1,3,(3,4))\n",
    "\n",
    "print (arr1+ arr2)\n",
    "print(arr1-arr2)\n",
    "print(arr1*arr2) # One to one index multiplication "
   ]
  },
  {
   "cell_type": "code",
   "execution_count": 185,
   "id": "67d0b66b-8aa3-4945-ac3d-680644d43ef0",
   "metadata": {},
   "outputs": [
    {
     "name": "stdout",
     "output_type": "stream",
     "text": [
      "[[7 7 7]\n",
      " [6 7 7]\n",
      " [6 5 5]]\n"
     ]
    }
   ],
   "source": [
    "# Matrix multiplicatiuon \n",
    "\"\"\"\n",
    "m x n = p x q\n",
    "\n",
    "only when n= p\n",
    "The answer will be m x q\n",
    "\"\"\"\n",
    "array1=np.array([[2,2,1],[2,1,2],[1,2,1]])\n",
    "array2=np.array([[1,2,2],[2,1,1],[1,1,1]])\n",
    "\n",
    "print(array1@array2)"
   ]
  },
  {
   "cell_type": "code",
   "execution_count": 187,
   "id": "def01c30-8c14-4acf-86fe-7cb65497a022",
   "metadata": {},
   "outputs": [
    {
     "name": "stdout",
     "output_type": "stream",
     "text": [
      "[[nan inf inf inf inf]\n",
      " [inf inf inf inf inf]\n",
      " [inf inf inf inf inf]\n",
      " [inf inf inf inf inf]\n",
      " [inf inf inf inf inf]]\n",
      "[[100 196 166 190 164]\n",
      " [113 174 130 192 189]\n",
      " [160 167 110 196 120]\n",
      " [142 121 119 109 123]\n",
      " [198 115 153 141 146]]\n",
      "[[   0 9216 4356 8100 4096]\n",
      " [ 169 5476  900 8464 7921]\n",
      " [3600 4489  100 9216  400]\n",
      " [1764  441  361   81  529]\n",
      " [9604  225 2809 1681 2116]]\n"
     ]
    },
    {
     "name": "stderr",
     "output_type": "stream",
     "text": [
      "/tmp/ipykernel_3752/1407089548.py:2: RuntimeWarning: divide by zero encountered in divide\n",
      "  print(array/0)\n",
      "/tmp/ipykernel_3752/1407089548.py:2: RuntimeWarning: invalid value encountered in divide\n",
      "  print(array/0)\n"
     ]
    }
   ],
   "source": [
    "# Divide each element by 0\n",
    "print(array/0)\n",
    "\n",
    "# Add 100 to each element\n",
    "print(array+100)\n",
    "\n",
    "print(array**2)"
   ]
  },
  {
   "cell_type": "code",
   "execution_count": 190,
   "id": "a9cf5547-d0d4-4c47-984a-f49dbb99f42a",
   "metadata": {},
   "outputs": [
    {
     "data": {
      "text/plain": [
       "array([[0., 0., 0., 0.],\n",
       "       [0., 0., 0., 0.],\n",
       "       [0., 0., 0., 0.],\n",
       "       [0., 0., 0., 0.]])"
      ]
     },
     "execution_count": 190,
     "metadata": {},
     "output_type": "execute_result"
    }
   ],
   "source": [
    "# Broadcasting in numpy \n",
    "x=np.zeros((4,4))\n",
    "x"
   ]
  },
  {
   "cell_type": "code",
   "execution_count": 191,
   "id": "2278cb64-8525-42df-bf22-d51e6453ec30",
   "metadata": {},
   "outputs": [],
   "source": [
    "row=np.array([1,2,3,4])"
   ]
  },
  {
   "cell_type": "code",
   "execution_count": 194,
   "id": "7cf8fabc-d9df-4ae5-8c28-6141344919d7",
   "metadata": {},
   "outputs": [
    {
     "data": {
      "text/plain": [
       "array([[1., 2., 3., 4.],\n",
       "       [1., 2., 3., 4.],\n",
       "       [1., 2., 3., 4.],\n",
       "       [1., 2., 3., 4.]])"
      ]
     },
     "execution_count": 194,
     "metadata": {},
     "output_type": "execute_result"
    }
   ],
   "source": [
    "# Broadcasting row by row again ana dagain \n",
    "row + x"
   ]
  },
  {
   "cell_type": "code",
   "execution_count": 200,
   "id": "adae0017-be8b-41be-a994-440e7ad0292f",
   "metadata": {},
   "outputs": [
    {
     "data": {
      "text/plain": [
       "array([[1., 1., 1., 1.],\n",
       "       [2., 2., 2., 2.],\n",
       "       [3., 3., 3., 3.],\n",
       "       [4., 4., 4., 4.]])"
      ]
     },
     "execution_count": 200,
     "metadata": {},
     "output_type": "execute_result"
    }
   ],
   "source": [
    "# 1 D array cant be transposed \n",
    "row.T\n",
    "\n",
    "col=np.array([[1,2,3,4]])\n",
    "col=col.T\n",
    "col + x"
   ]
  },
  {
   "cell_type": "code",
   "execution_count": 203,
   "id": "a052fc82-fb58-4bb9-a7fb-bcdbf434f9b8",
   "metadata": {},
   "outputs": [
    {
     "name": "stdout",
     "output_type": "stream",
     "text": [
      "[[1.73205081 1.         1.41421356 1.        ]\n",
      " [1.         1.         1.41421356 1.73205081]\n",
      " [1.73205081 1.41421356 1.41421356 1.73205081]]\n",
      "[[20.08553692  2.71828183  7.3890561   2.71828183]\n",
      " [ 2.71828183  2.71828183  7.3890561  20.08553692]\n",
      " [20.08553692  7.3890561   7.3890561  20.08553692]]\n"
     ]
    },
    {
     "data": {
      "text/plain": [
       "array([[0.47712125, 0.        , 0.30103   , 0.        ],\n",
       "       [0.        , 0.        , 0.30103   , 0.47712125],\n",
       "       [0.47712125, 0.30103   , 0.30103   , 0.47712125]])"
      ]
     },
     "execution_count": 203,
     "metadata": {},
     "output_type": "execute_result"
    }
   ],
   "source": [
    "c=np.random.randint(1,4,(3,4))\n",
    "print(np.sqrt(c))\n",
    "print(np.exp(c))\n",
    "np.log10(c)"
   ]
  },
  {
   "cell_type": "code",
   "execution_count": null,
   "id": "019d56a5-7e6e-40d8-be09-6767fe06b63f",
   "metadata": {},
   "outputs": [],
   "source": []
  }
 ],
 "metadata": {
  "kernelspec": {
   "display_name": "Python 3 (ipykernel)",
   "language": "python",
   "name": "python3"
  },
  "language_info": {
   "codemirror_mode": {
    "name": "ipython",
    "version": 3
   },
   "file_extension": ".py",
   "mimetype": "text/x-python",
   "name": "python",
   "nbconvert_exporter": "python",
   "pygments_lexer": "ipython3",
   "version": "3.10.8"
  }
 },
 "nbformat": 4,
 "nbformat_minor": 5
}
