{
 "cells": [
  {
   "cell_type": "code",
   "execution_count": 1,
   "id": "52ce3a09-47d1-4d2d-b738-93c4c79afc42",
   "metadata": {},
   "outputs": [
    {
     "name": "stdout",
     "output_type": "stream",
     "text": [
      "OG array\n",
      "[[1 3 4 5]\n",
      " [3 1 4 9]\n",
      " [8 1 4 6]]\n",
      "\n",
      "\n",
      "Reshape\n",
      "[[1 3 4 5 3 1]\n",
      " [4 9 8 1 4 6]]\n",
      "\n",
      "\n",
      "Transpose\n",
      "[[1 3 8]\n",
      " [3 1 1]\n",
      " [4 4 4]\n",
      " [5 9 6]]\n",
      "\n",
      "\n",
      "Array Array is flatten\n",
      "[1 3 4 5 3 1 4 9 8 1 4 6]\n"
     ]
    }
   ],
   "source": [
    "import numpy as np\n",
    "array= np.random.randint(1,10,(3,4))\n",
    "print(\"OG array\")\n",
    "print(array)\n",
    "\n",
    "\n",
    "print('\\n\\n'+'Reshape')\n",
    "print(array.reshape(2,6))\n",
    "\n",
    "print('\\n\\n'+ \"Transpose\")\n",
    "print(array.T)\n",
    "\n",
    "\n",
    "print('\\n\\nArray Array is flatten')\n",
    "print(array.flatten())"
   ]
  },
  {
   "cell_type": "code",
   "execution_count": 2,
   "id": "03602d3f-636c-42ce-baa3-0e57ec6c8493",
   "metadata": {},
   "outputs": [
    {
     "name": "stdout",
     "output_type": "stream",
     "text": [
      "[1 2 3 4]\n",
      "Dimension:  1\n"
     ]
    }
   ],
   "source": [
    "array1=np.array([1,2,3,4])\n",
    "print(array1)\n",
    "print(\"Dimension: \",array1.ndim)"
   ]
  },
  {
   "cell_type": "code",
   "execution_count": 3,
   "id": "2faa92a7-b476-4953-a8b8-58570add626b",
   "metadata": {},
   "outputs": [
    {
     "name": "stdout",
     "output_type": "stream",
     "text": [
      "[[1]\n",
      " [2]\n",
      " [3]\n",
      " [4]]\n",
      "Dimension:  2\n",
      "###########################################################\n",
      "[[1 2 3 4]]\n",
      "Dimension:  2\n"
     ]
    }
   ],
   "source": [
    "# Expand the rows into column \n",
    "print(np.expand_dims(array1,axis=1))\n",
    "print(\"Dimension: \",np.expand_dims(array1,axis=1).ndim)\n",
    "\n",
    "print(\"###########################################################\")\n",
    "# Expand the rows into column \n",
    "print(np.expand_dims(array1,axis=0))\n",
    "print(\"Dimension: \",np.expand_dims(array1,axis=1).ndim)"
   ]
  },
  {
   "cell_type": "code",
   "execution_count": 7,
   "id": "cc645a88-aabc-414a-9107-ead2c1959b86",
   "metadata": {},
   "outputs": [
    {
     "name": "stdout",
     "output_type": "stream",
     "text": [
      "[[5 2 9 9]\n",
      " [2 2 3 5]\n",
      " [9 4 4 7]\n",
      " [1 3 5 7]]\n",
      "@@@@@@@@@@@@@@@@@@@@@@@@\n",
      "[[5 2 9 9]\n",
      " [2 2 3 5]\n",
      " [9 4 4 7]\n",
      " [1 3 5 7]]\n"
     ]
    }
   ],
   "source": [
    "arr=np.random.randint(1,10,(4,4))\n",
    "print(arr)\n",
    "print(\"@@@@@@@@@@@@@@@@@@@@@@@@\")\n",
    "print(np.squeeze(arr))"
   ]
  },
  {
   "cell_type": "code",
   "execution_count": 8,
   "id": "79391e0b-ddf7-4b94-bc5e-261ee8339ba7",
   "metadata": {},
   "outputs": [
    {
     "data": {
      "text/plain": [
       "array([1, 2, 3])"
      ]
     },
     "execution_count": 8,
     "metadata": {},
     "output_type": "execute_result"
    }
   ],
   "source": [
    "# Now squeeze will work\n",
    "data=np.array([[1],[2],[3]])\n",
    "np.squeeze(data)"
   ]
  },
  {
   "cell_type": "code",
   "execution_count": 10,
   "id": "9c14673c-0bfe-4765-b4d7-9c392b7688d2",
   "metadata": {},
   "outputs": [
    {
     "data": {
      "text/plain": [
       "array([5, 5, 5, 2, 2, 2, 9, 9, 9, 9, 9, 9, 2, 2, 2, 2, 2, 2, 3, 3, 3, 5,\n",
       "       5, 5, 9, 9, 9, 4, 4, 4, 4, 4, 4, 7, 7, 7, 1, 1, 1, 3, 3, 3, 5, 5,\n",
       "       5, 7, 7, 7])"
      ]
     },
     "execution_count": 10,
     "metadata": {},
     "output_type": "execute_result"
    }
   ],
   "source": [
    "# Repeat \n",
    "np.repeat(arr,3)"
   ]
  },
  {
   "cell_type": "code",
   "execution_count": 13,
   "id": "22f10793-0442-4293-9002-6445e6e479ef",
   "metadata": {},
   "outputs": [
    {
     "name": "stdout",
     "output_type": "stream",
     "text": [
      "[8 4 2 7]\n",
      "[7 8 4 2]\n"
     ]
    }
   ],
   "source": [
    "# Roll \n",
    "arr1=np.random.randint(1,10,4)\n",
    "print(arr1)\n",
    "print(np.roll(arr1,1))"
   ]
  },
  {
   "cell_type": "code",
   "execution_count": 19,
   "id": "341c1296-1742-490e-8759-7b04944f7cf6",
   "metadata": {},
   "outputs": [
    {
     "name": "stdout",
     "output_type": "stream",
     "text": [
      "OG array  [5 5 9 3] \n",
      "\n",
      "\n",
      "[[5 0 0 0]\n",
      " [0 5 0 0]\n",
      " [0 0 9 0]\n",
      " [0 0 0 3]]\n"
     ]
    }
   ],
   "source": [
    "# Convert into diagnoal \n",
    "\n",
    "# Roll \n",
    "arr1=np.random.randint(1,10,4)\n",
    "print('OG array ',arr1,'\\n\\n')\n",
    "print(np.diag(arr1))"
   ]
  },
  {
   "cell_type": "code",
   "execution_count": 22,
   "id": "0b158e47-cf8e-4190-bf08-313bb4ebb511",
   "metadata": {},
   "outputs": [
    {
     "name": "stdout",
     "output_type": "stream",
     "text": [
      "Array 1\n",
      " [[9 8 3 1]\n",
      " [8 9 7 5]\n",
      " [1 4 6 8]]\n",
      "Array 1\n",
      " [[1 1 7 9]\n",
      " [7 5 5 3]\n",
      " [4 2 5 7]]\n",
      "Addition \n",
      "[[10  9 10 10]\n",
      " [15 14 12  8]\n",
      " [ 5  6 11 15]]\n",
      "Multiplication\n",
      "[[ 9  8 21  9]\n",
      " [56 45 35 15]\n",
      " [ 4  8 30 56]]\n",
      "Sub \n",
      "[[ 8  7 -4 -8]\n",
      " [ 1  4  2  2]\n",
      " [-3  2  1  1]]\n",
      "Division\n",
      "[[9.         8.         0.42857143 0.11111111]\n",
      " [1.14285714 1.8        1.4        1.66666667]\n",
      " [0.25       2.         1.2        1.14285714]]\n",
      "Mod \n",
      "[[0 0 3 1]\n",
      " [1 4 2 2]\n",
      " [1 0 1 1]]\n",
      "Int div\n",
      "[[9 8 0 0]\n",
      " [1 1 1 1]\n",
      " [0 2 1 1]]\n",
      "And \n",
      "[[1 0 3 1]\n",
      " [0 1 5 1]\n",
      " [0 0 4 0]]\n",
      "OR\n",
      "[[ 9  9  7  9]\n",
      " [15 13  7  7]\n",
      " [ 5  6  7 15]]\n",
      "NOT \n",
      "[[-10  -9  -4  -2]\n",
      " [ -9 -10  -8  -6]\n",
      " [ -2  -5  -7  -9]]\n",
      "Greater than \n",
      "[[ True  True False False]\n",
      " [ True  True  True  True]\n",
      " [False  True  True  True]]\n"
     ]
    }
   ],
   "source": [
    "# You can perform Binarry opperations like addition, subtraction, multiplication, Or, And in , Greater than\n",
    "arr1 = np.random.randint(1,10 , (3,4))\n",
    "arr2 = np.random.randint(1,10 , (3,4))\n",
    "\n",
    "print(\"Array 1\\n\",arr1)\n",
    "print(\"Array 1\\n\",arr2)\n",
    "\n",
    "print(\"Addition \")\n",
    "print(arr1+arr2)\n",
    "\n",
    "print(\"Multiplication\")\n",
    "print(arr1*arr2)\n",
    "\n",
    "print(\"Sub \")\n",
    "print(arr1-arr2)\n",
    "\n",
    "print(\"Division\")\n",
    "print(arr1/arr2)\n",
    "\n",
    "print(\"Mod \")\n",
    "print(arr1%arr2)\n",
    "\n",
    "print(\"Int div\")\n",
    "print(arr1//arr2)\n",
    "\n",
    "print(\"And \")\n",
    "print(arr1&arr2)\n",
    "\n",
    "print(\"OR\")\n",
    "print(arr1|arr2)\n",
    "\n",
    "print(\"NOT \")\n",
    "print(~arr1)\n",
    "\n",
    "print(\"Greater than \")\n",
    "print(arr1>arr2)"
   ]
  },
  {
   "cell_type": "code",
   "execution_count": 26,
   "id": "25728473-c12f-4c6b-9da1-ee1786c5a020",
   "metadata": {},
   "outputs": [
    {
     "name": "stdout",
     "output_type": "stream",
     "text": [
      "OG array  ['sujeet a ' 'Amberkar']\n",
      "Upper case  ['SUJEET A ' 'AMBERKAR']\n",
      "Title style  ['Sujeet A ' 'Amberkar']\n",
      "Capitalize  ['Sujeet a ' 'Amberkar']\n"
     ]
    }
   ],
   "source": [
    "arr=np.array(['sujeet a ','Amberkar'])\n",
    "print(\"OG array \",arr)\n",
    "print(\"Upper case \",np.char.upper(arr))\n",
    "print(\"Title style \",np.char.title(arr))\n",
    "print(\"Capitalize \",np.char.capitalize(arr))"
   ]
  },
  {
   "cell_type": "code",
   "execution_count": 34,
   "id": "01129dde-810b-4219-b19a-bcc8c3d30a05",
   "metadata": {},
   "outputs": [
    {
     "name": "stdout",
     "output_type": "stream",
     "text": [
      "Sine\n",
      " [[ 0.14112001 -0.2794155   0.14112001  0.6569866 ]\n",
      " [ 0.41211849  0.98935825 -0.7568025  -0.7568025 ]\n",
      " [ 0.41211849  0.98935825  0.14112001  0.84147098]]\n",
      "Cos\n",
      " [[-0.9899925   0.96017029 -0.9899925   0.75390225]\n",
      " [-0.91113026 -0.14550003 -0.65364362 -0.65364362]\n",
      " [-0.91113026 -0.14550003 -0.9899925   0.54030231]]\n",
      "Tan\n",
      " [[-0.14254654 -0.29100619 -0.14254654  0.87144798]\n",
      " [-0.45231566 -6.79971146  1.15782128  1.15782128]\n",
      " [-0.45231566 -6.79971146 -0.14254654  1.55740772]]\n",
      "Mean 5.416666666666667\n",
      "Max\n",
      " 9\n",
      "log\n",
      " [[1.09861229 1.79175947 1.09861229 1.94591015]\n",
      " [2.19722458 2.07944154 1.38629436 1.38629436]\n",
      " [2.19722458 2.07944154 1.09861229 0.        ]]\n"
     ]
    }
   ],
   "source": [
    "# Trignometric values\n",
    "arr = np.random.randint(1,10 , (3,4))\n",
    "print(\"Sine\\n\",np.sin(arr))\n",
    "print(\"Cos\\n\",np.cos(arr))\n",
    "print(\"Tan\\n\",np.tan(arr))\n",
    "print(\"Mean\",np.mean(arr))\n",
    "print(\"Max\\n\",np.max(arr))\n",
    "print(\"log\\n\",np.log(arr))"
   ]
  },
  {
   "cell_type": "code",
   "execution_count": null,
   "id": "a6a46414-caaf-4885-b1c0-fe0471793eb4",
   "metadata": {},
   "outputs": [],
   "source": []
  }
 ],
 "metadata": {
  "kernelspec": {
   "display_name": "Python 3 (ipykernel)",
   "language": "python",
   "name": "python3"
  },
  "language_info": {
   "codemirror_mode": {
    "name": "ipython",
    "version": 3
   },
   "file_extension": ".py",
   "mimetype": "text/x-python",
   "name": "python",
   "nbconvert_exporter": "python",
   "pygments_lexer": "ipython3",
   "version": "3.10.8"
  }
 },
 "nbformat": 4,
 "nbformat_minor": 5
}
