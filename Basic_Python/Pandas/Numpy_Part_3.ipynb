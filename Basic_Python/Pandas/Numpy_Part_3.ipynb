{
 "cells": [
  {
   "cell_type": "code",
   "execution_count": 26,
   "id": "803641c1-925d-4e28-9892-10dc2b1d20c6",
   "metadata": {},
   "outputs": [
    {
     "name": "stdout",
     "output_type": "stream",
     "text": [
      "OG array  [8 5 6 8 8 1 5]\n",
      "Sorted Array  [1 5 5 6 8 8 8]\n"
     ]
    }
   ],
   "source": [
    "# Sorting \n",
    "import numpy as np\n",
    "array= np.random.randint(1,10,7)\n",
    "print(\"OG array \",array)\n",
    "print(\"Sorted Array \",np.sort(array))"
   ]
  },
  {
   "cell_type": "code",
   "execution_count": 27,
   "id": "c72eba85-2d74-4c62-b389-9fa73aa70973",
   "metadata": {},
   "outputs": [
    {
     "name": "stdout",
     "output_type": "stream",
     "text": [
      "OG array  [7 5 2 4 9 7 2]\n",
      "5 should be entered at  4 location\n"
     ]
    }
   ],
   "source": [
    "# At what location should we enter 5\n",
    "array= np.random.randint(1,10,7)\n",
    "print('OG array ',array)\n",
    "print('5 should be entered at ', np.searchsorted(array,5),'location')"
   ]
  },
  {
   "cell_type": "code",
   "execution_count": 28,
   "id": "00e77550-8877-491a-9929-65ea3c697705",
   "metadata": {},
   "outputs": [
    {
     "name": "stdout",
     "output_type": "stream",
     "text": [
      "Total number of non zero data  9\n"
     ]
    }
   ],
   "source": [
    "# FInd out what all non zero data we have in the given data\n",
    "array1=np.array([1,2,3,4,6,0,2,3,0,0,2,3,0])\n",
    "print('Total number of non zero data ',np.count_nonzero(array1))"
   ]
  },
  {
   "cell_type": "code",
   "execution_count": 29,
   "id": "0567ae3b-7520-47a9-8ba3-b7335725b46f",
   "metadata": {},
   "outputs": [
    {
     "name": "stdout",
     "output_type": "stream",
     "text": [
      "Orignal Array  [3 4 5 5 7 4 5]\n",
      "Number greater than 6 is at what location   (array([4]),)\n"
     ]
    }
   ],
   "source": [
    "# Data greater than 6\n",
    "array= np.random.randint(1,10,7)\n",
    "print('Orignal Array ',array)\n",
    "print(\"Number greater than 6 is at what location  \",np.where(array > 6))\n"
   ]
  },
  {
   "cell_type": "code",
   "execution_count": 30,
   "id": "abe9ffa0-cce4-43cb-99aa-fa073a354d9b",
   "metadata": {},
   "outputs": [
    {
     "name": "stdout",
     "output_type": "stream",
     "text": [
      "Orignal Array  [9 6 5 6 6 5 2]\n",
      "Number greater than 6 is    [9]\n"
     ]
    }
   ],
   "source": [
    "# Extract data from array \n",
    "# Data greater than 6\n",
    "array= np.random.randint(1,10,7)\n",
    "print('Orignal Array ',array)\n",
    "print(\"Number greater than 6 is   \",np.extract(array > 6,array))"
   ]
  },
  {
   "cell_type": "code",
   "execution_count": 31,
   "id": "7c1b434b-1c6d-43e2-84e9-f966f7758d77",
   "metadata": {},
   "outputs": [
    {
     "name": "stdout",
     "output_type": "stream",
     "text": [
      "Byte representation\n",
      " [432345564227567616 360287970189639680 504403158265495552\n",
      " 504403158265495552 432345564227567616  72057594037927936\n",
      " 504403158265495552]\n"
     ]
    }
   ],
   "source": [
    "# Give byte representation of dat \n",
    "array= np.random.randint(1,10,7)\n",
    "print(\"Byte representation\\n\",array.byteswap())"
   ]
  },
  {
   "cell_type": "code",
   "execution_count": 36,
   "id": "0e2eeefa-0ccf-4a99-b5d0-0ee122bb52a6",
   "metadata": {},
   "outputs": [
    {
     "name": "stdout",
     "output_type": "stream",
     "text": [
      "Orignal array  [100   5   7   7   6   1   7]\n",
      "Copy  [0 5 7 7 6 1 7]\n",
      "\n",
      "\n",
      "\n",
      "\n",
      "\n",
      "Orignal array  [100   5   7   7   6   1   7]\n",
      "Copy  [100   5   7   7   6   1   7]\n"
     ]
    }
   ],
   "source": [
    "# Copy and view\n",
    "\n",
    "\n",
    "# Deep COpy\n",
    "a=np.copy(array)\n",
    "a[0]=0\n",
    "print(\"Orignal array \",array)\n",
    "print('Copy ',a)\n",
    "print('\\n\\n\\n\\n')\n",
    "#shallow copy\n",
    "b=array.view()\n",
    "b[0]=100\n",
    "print(\"Orignal array \",array)\n",
    "print('Copy ',b)"
   ]
  },
  {
   "cell_type": "code",
   "execution_count": 40,
   "id": "c5a2c050-c7f8-4236-84c9-673f326b77af",
   "metadata": {},
   "outputs": [
    {
     "name": "stdout",
     "output_type": "stream",
     "text": [
      "[[1. 1. 1. 1.]]\n",
      "[[0. 0. 0. 0.]\n",
      " [0. 0. 0. 0.]\n",
      " [0. 0. 0. 0.]]\n"
     ]
    }
   ],
   "source": [
    "import numpy.matlib as ma\n",
    "# What all you did in numpy, you can do in matrix\n",
    "print(ma.ones(4))\n",
    "print(ma.zeros((3,4)))"
   ]
  },
  {
   "cell_type": "code",
   "execution_count": 43,
   "id": "4e1a91a5-ddc5-45fa-9163-e11bfa6067d1",
   "metadata": {},
   "outputs": [
    {
     "name": "stdout",
     "output_type": "stream",
     "text": [
      "Array 1\n",
      " [[5 8]\n",
      " [6 9]]\n",
      "Array 2\n",
      " [[7 4]\n",
      " [5 6]]\n",
      "[[75 68]\n",
      " [87 78]]\n"
     ]
    },
    {
     "data": {
      "text/plain": [
       "array([[75, 68],\n",
       "       [87, 78]])"
      ]
     },
     "execution_count": 43,
     "metadata": {},
     "output_type": "execute_result"
    }
   ],
   "source": [
    "# Linear algebra \n",
    "array1= np.random.randint(1,10,(2,2))\n",
    "array2= np.random.randint(1,10,(2,2))\n",
    "\n",
    "print(\"Array 1\\n\",array1)\n",
    "print(\"Array 2\\n\",array2)\n",
    "print(np.dot(array1,array2))\n",
    "\n",
    "\n",
    "########## This is same as \n",
    "array1 @ array2"
   ]
  },
  {
   "cell_type": "code",
   "execution_count": null,
   "id": "ece07df6-1f25-4327-93a7-5f5bc4b5c39e",
   "metadata": {},
   "outputs": [],
   "source": []
  }
 ],
 "metadata": {
  "kernelspec": {
   "display_name": "Python 3 (ipykernel)",
   "language": "python",
   "name": "python3"
  },
  "language_info": {
   "codemirror_mode": {
    "name": "ipython",
    "version": 3
   },
   "file_extension": ".py",
   "mimetype": "text/x-python",
   "name": "python",
   "nbconvert_exporter": "python",
   "pygments_lexer": "ipython3",
   "version": "3.10.8"
  }
 },
 "nbformat": 4,
 "nbformat_minor": 5
}
