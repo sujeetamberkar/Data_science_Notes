{
 "cells": [
  {
   "cell_type": "code",
   "execution_count": 6,
   "id": "1a4c323f-8353-4923-a11c-063fbaf87a4c",
   "metadata": {},
   "outputs": [],
   "source": [
    "# Running Multiple programs in one core"
   ]
  },
  {
   "cell_type": "code",
   "execution_count": 8,
   "id": "1a0662c0-adfc-44e2-aa15-ac9aa50c8dd5",
   "metadata": {},
   "outputs": [
    {
     "name": "stdout",
     "output_type": "stream",
     "text": [
      "program start 0\n",
      "program start 1\n",
      "program start 2\n",
      "program start 3\n",
      "program start 4\n",
      "program start 5\n",
      "program start 6\n",
      "program start 7\n",
      "program start 8\n",
      "program start 9\n"
     ]
    }
   ],
   "source": [
    "import threading\n",
    "\n",
    "def test(id):\n",
    "    print(\"program start %d\" % id)\n",
    "\n",
    "threads = [threading.Thread(target=test, args=(i,)) for i in range(10)]\n",
    "\n",
    "for t in threads:\n",
    "    t.start()\n"
   ]
  },
  {
   "cell_type": "code",
   "execution_count": 9,
   "id": "e8a5086f-f32e-4e1e-9623-63682a1bfedb",
   "metadata": {},
   "outputs": [
    {
     "data": {
      "text/plain": [
       "[<Thread(Thread-15 (test), stopped 139625573094976)>,\n",
       " <Thread(Thread-16 (test), stopped 139625573094976)>,\n",
       " <Thread(Thread-17 (test), stopped 139625573094976)>,\n",
       " <Thread(Thread-18 (test), stopped 139625573094976)>,\n",
       " <Thread(Thread-19 (test), stopped 139625573094976)>,\n",
       " <Thread(Thread-20 (test), stopped 139625573094976)>,\n",
       " <Thread(Thread-21 (test), stopped 139625573094976)>,\n",
       " <Thread(Thread-22 (test), stopped 139625573094976)>,\n",
       " <Thread(Thread-23 (test), stopped 139625573094976)>,\n",
       " <Thread(Thread-24 (test), stopped 139625573094976)>]"
      ]
     },
     "execution_count": 9,
     "metadata": {},
     "output_type": "execute_result"
    }
   ],
   "source": [
    "threads"
   ]
  },
  {
   "cell_type": "code",
   "execution_count": 10,
   "id": "4c70fa30-1eee-4a4e-9326-4fbe579bafd2",
   "metadata": {},
   "outputs": [
    {
     "data": {
      "text/plain": [
       "139625581904512"
      ]
     },
     "execution_count": 10,
     "metadata": {},
     "output_type": "execute_result"
    }
   ],
   "source": [
    "id(threads)"
   ]
  },
  {
   "cell_type": "code",
   "execution_count": 9,
   "id": "688f64cf-7de0-4283-99e8-25fdbc1e6468",
   "metadata": {},
   "outputs": [],
   "source": [
    "import threading\n",
    "import urllib.request\n",
    "def file_downlaod(url , filname) : \n",
    "    urllib.request.urlretrieve(url,filname)"
   ]
  },
  {
   "cell_type": "code",
   "execution_count": 10,
   "id": "595b25b0-bcdc-4337-8b7a-493a99e1f769",
   "metadata": {},
   "outputs": [],
   "source": [
    "file_downlaod('https://raw.githubusercontent.com/itsfoss/text-files/master/agatha.txt' , \"test.txt\")"
   ]
  },
  {
   "cell_type": "code",
   "execution_count": 13,
   "id": "e46b09ad-c977-4802-b9b4-fdaa3749381f",
   "metadata": {},
   "outputs": [],
   "source": [
    "url_list=['https://raw.githubusercontent.com/itsfoss/text-files/master/agatha.txt','https://raw.githubusercontent.com/itsfoss/text-files/master/sherlock.txt','https://raw.githubusercontent.com/itsfoss/text-files/master/sample_log_file.txt']\n",
    "file_name_list=['data1.txt','data2.txt','data3.txt']\n",
    "\n",
    "ther=[threading.Thread(target=file_downlaod, args=(url_list[i],file_name_list[i])) for i in range (0,3)]\n",
    "for i in ther:\n",
    "    i.start()"
   ]
  },
  {
   "cell_type": "code",
   "execution_count": 14,
   "id": "874cdef3-5f51-4976-ac1b-009caa6ac8b1",
   "metadata": {},
   "outputs": [
    {
     "data": {
      "text/plain": [
       "[<Thread(Thread-11 (file_downlaod), stopped 139913878017600)>,\n",
       " <Thread(Thread-12 (file_downlaod), stopped 139913324394048)>,\n",
       " <Thread(Thread-13 (file_downlaod), stopped 139913316001344)>]"
      ]
     },
     "execution_count": 14,
     "metadata": {},
     "output_type": "execute_result"
    }
   ],
   "source": [
    "ther\n"
   ]
  },
  {
   "cell_type": "code",
   "execution_count": 16,
   "id": "bac98d38-8d4c-4beb-b5b4-1846428b5b91",
   "metadata": {},
   "outputs": [
    {
     "name": "stdout",
     "output_type": "stream",
     "text": [
      "test1 3 printing 0 Tue Jun  6 10:59:08 2023\n",
      "test1 3 printing 1 Tue Jun  6 10:59:09 2023\n",
      "test1 3 printing 2 Tue Jun  6 10:59:10 2023\n",
      "test1 3 printing 3 Tue Jun  6 10:59:11 2023\n",
      "test1 3 printing 4 Tue Jun  6 10:59:12 2023\n",
      "test1 3 printing 5 Tue Jun  6 10:59:13 2023\n",
      "test1 3 printing 6 Tue Jun  6 10:59:14 2023\n",
      "test1 3 printing 7 Tue Jun  6 10:59:15 2023\n",
      "test1 3 printing 8 Tue Jun  6 10:59:16 2023\n",
      "test1 3 printing 9 Tue Jun  6 10:59:17 2023\n"
     ]
    }
   ],
   "source": [
    "import time\n",
    "def test1(id) :\n",
    "    for i in range(10) : \n",
    "        print(\"test1 %d printing %d %s\" %(id,i,time.ctime()))\n",
    "        time.sleep(1)\n",
    "test1(3)"
   ]
  },
  {
   "cell_type": "code",
   "execution_count": 17,
   "id": "bb4c1f62-a75e-4e19-8d4d-fb3c4bcfd194",
   "metadata": {},
   "outputs": [],
   "source": [
    "thread1 = [threading.Thread(target=test1 , args  = (i,)) for i in range(3)]"
   ]
  },
  {
   "cell_type": "code",
   "execution_count": 18,
   "id": "dd3fec2b-2565-4834-aebb-01188a9dd342",
   "metadata": {},
   "outputs": [
    {
     "name": "stdout",
     "output_type": "stream",
     "text": [
      "test1 0 printing 0 Tue Jun  6 10:59:43 2023\n",
      "test1 1 printing 0 Tue Jun  6 10:59:43 2023\n",
      "test1 2 printing 0 Tue Jun  6 10:59:43 2023\n",
      "test1 0 printing 1 Tue Jun  6 10:59:44 2023test1 1 printing 1 Tue Jun  6 10:59:44 2023\n",
      "test1 2 printing 1 Tue Jun  6 10:59:44 2023\n",
      "\n",
      "test1 1 printing 2 Tue Jun  6 10:59:45 2023\n",
      "test1 2 printing 2 Tue Jun  6 10:59:45 2023\n",
      "test1 0 printing 2 Tue Jun  6 10:59:45 2023\n",
      "test1 1 printing 3 Tue Jun  6 10:59:46 2023test1 2 printing 3 Tue Jun  6 10:59:46 2023\n",
      "test1 0 printing 3 Tue Jun  6 10:59:46 2023\n",
      "\n",
      "test1 2 printing 4 Tue Jun  6 10:59:47 2023\n",
      "test1 0 printing 4 Tue Jun  6 10:59:47 2023\n",
      "test1 1 printing 4 Tue Jun  6 10:59:47 2023\n",
      "test1 2 printing 5 Tue Jun  6 10:59:48 2023test1 0 printing 5 Tue Jun  6 10:59:48 2023\n",
      "\n",
      "test1 1 printing 5 Tue Jun  6 10:59:48 2023\n",
      "test1 0 printing 6 Tue Jun  6 10:59:49 2023test1 2 printing 6 Tue Jun  6 10:59:49 2023\n",
      "test1 1 printing 6 Tue Jun  6 10:59:49 2023\n",
      "\n",
      "test1 2 printing 7 Tue Jun  6 10:59:50 2023test1 0 printing 7 Tue Jun  6 10:59:50 2023\n",
      "\n",
      "test1 1 printing 7 Tue Jun  6 10:59:50 2023\n",
      "test1 0 printing 8 Tue Jun  6 10:59:51 2023test1 2 printing 8 Tue Jun  6 10:59:51 2023\n",
      "test1 1 printing 8 Tue Jun  6 10:59:51 2023\n",
      "\n",
      "test1 2 printing 9 Tue Jun  6 10:59:52 2023test1 1 printing 9 Tue Jun  6 10:59:52 2023\n",
      "test1 0 printing 9 Tue Jun  6 10:59:52 2023\n",
      "\n"
     ]
    }
   ],
   "source": [
    "for t in thread1:\n",
    "    t.start()"
   ]
  },
  {
   "cell_type": "code",
   "execution_count": 21,
   "id": "db9b7c0d-7696-4385-9b79-b99cad718aec",
   "metadata": {},
   "outputs": [
    {
     "name": "stdout",
     "output_type": "stream",
     "text": [
      "test2 is 0 has increased the shared variable by 1 \n",
      "test2 is 1 has increased the shared variable by 2 \n",
      "test2 is 2 has increased the shared variable by 3 \n"
     ]
    }
   ],
   "source": [
    "# Shared Variable\n",
    "shared_var = 0\n",
    "lock_var = threading.Lock()\n",
    "def test2(id) : \n",
    "    global shared_var\n",
    "    with lock_var:\n",
    "        shared_var = shared_var+1\n",
    "        print(\"test2 is %d has increased the shared variable by %d \" % (id ,shared_var) )\n",
    "        time.sleep(1)\n",
    "    \n",
    "ther4 = [threading.Thread(target=test2 , args = (i,) ) for i in range(3)]    \n",
    "for t in ther4:\n",
    "    t.start()"
   ]
  },
  {
   "cell_type": "code",
   "execution_count": null,
   "id": "506d2003-6fda-4b25-8bda-962c75f92a76",
   "metadata": {},
   "outputs": [],
   "source": []
  }
 ],
 "metadata": {
  "kernelspec": {
   "display_name": "Python 3 (ipykernel)",
   "language": "python",
   "name": "python3"
  },
  "language_info": {
   "codemirror_mode": {
    "name": "ipython",
    "version": 3
   },
   "file_extension": ".py",
   "mimetype": "text/x-python",
   "name": "python",
   "nbconvert_exporter": "python",
   "pygments_lexer": "ipython3",
   "version": "3.10.8"
  }
 },
 "nbformat": 4,
 "nbformat_minor": 5
}
