{
 "cells": [
  {
   "cell_type": "code",
   "execution_count": 1,
   "id": "d7b23d38-e631-44fe-ae01-66aeddb3d823",
   "metadata": {},
   "outputs": [],
   "source": [
    "def test():\n",
    "    pass"
   ]
  },
  {
   "cell_type": "code",
   "execution_count": 3,
   "id": "893f69c6-e5d9-45bd-aa14-0b57e940d861",
   "metadata": {},
   "outputs": [
    {
     "name": "stdout",
     "output_type": "stream",
     "text": [
      "This is my very first function\n"
     ]
    }
   ],
   "source": [
    "def test1():\n",
    "    print(\"This is my very first function\")\n",
    "test1()"
   ]
  },
  {
   "cell_type": "code",
   "execution_count": 5,
   "id": "70e3bb79-7fb6-449b-aaaa-a106e6bbcf9b",
   "metadata": {},
   "outputs": [
    {
     "name": "stdout",
     "output_type": "stream",
     "text": [
      "This is my very first function\n"
     ]
    },
    {
     "ename": "TypeError",
     "evalue": "unsupported operand type(s) for +: 'NoneType' and 'str'",
     "output_type": "error",
     "traceback": [
      "\u001b[0;31m---------------------------------------------------------------------------\u001b[0m",
      "\u001b[0;31mTypeError\u001b[0m                                 Traceback (most recent call last)",
      "Cell \u001b[0;32mIn[5], line 6\u001b[0m\n\u001b[1;32m      4\u001b[0m \u001b[38;5;28;01mdef\u001b[39;00m \u001b[38;5;21mtest1\u001b[39m():\n\u001b[1;32m      5\u001b[0m     \u001b[38;5;28mprint\u001b[39m(\u001b[38;5;124m\"\u001b[39m\u001b[38;5;124mThis is my very first function\u001b[39m\u001b[38;5;124m\"\u001b[39m)\n\u001b[0;32m----> 6\u001b[0m \u001b[43mtest1\u001b[49m\u001b[43m(\u001b[49m\u001b[43m)\u001b[49m\u001b[43m \u001b[49m\u001b[38;5;241;43m+\u001b[39;49m\u001b[43m \u001b[49m\u001b[38;5;124;43m\"\u001b[39;49m\u001b[38;5;124;43mWOW\u001b[39;49m\u001b[38;5;124;43m\"\u001b[39;49m\n",
      "\u001b[0;31mTypeError\u001b[0m: unsupported operand type(s) for +: 'NoneType' and 'str'"
     ]
    }
   ],
   "source": [
    "# In this case, we are returning a none type\n",
    "# Null type cant be appended with string\n",
    "\n",
    "def test1():\n",
    "    print(\"This is my very first function\")\n",
    "test1() + \"WOW\""
   ]
  },
  {
   "cell_type": "code",
   "execution_count": 7,
   "id": "096de73f-4375-4aed-94de-cb65831fb5e7",
   "metadata": {},
   "outputs": [
    {
     "name": "stdout",
     "output_type": "stream",
     "text": [
      "This is my very first return Sujeet\n"
     ]
    }
   ],
   "source": [
    "def test2():\n",
    "    return \"This is my very first return\"\n",
    "temp=test2() + \" Sujeet\"\n",
    "print(temp)"
   ]
  },
  {
   "cell_type": "code",
   "execution_count": 9,
   "id": "d3567f1d-406b-4d4d-b3c0-c46430fe7bad",
   "metadata": {},
   "outputs": [
    {
     "name": "stdout",
     "output_type": "stream",
     "text": [
      "1 2 3 4 5\n"
     ]
    }
   ],
   "source": [
    "# In Python we can return many variables at time by a function\n",
    "def test3():\n",
    "    return 1,2,3,4,5\n",
    "a,b,c,d,e=test3()\n",
    "print(a,b,c,d,e)"
   ]
  },
  {
   "cell_type": "code",
   "execution_count": 10,
   "id": "f7b4fbfc-8084-45b6-ad20-35e4c6893002",
   "metadata": {},
   "outputs": [
    {
     "name": "stdout",
     "output_type": "stream",
     "text": [
      "3.5\n"
     ]
    }
   ],
   "source": [
    "# Passing arguments to a function\n",
    "def test3(a,b):\n",
    "    return (a+b)/2\n",
    "var=test3(3,4)\n",
    "print(var)"
   ]
  },
  {
   "cell_type": "code",
   "execution_count": 11,
   "id": "56b788a4-551a-467e-828e-a18bcb1a8e2e",
   "metadata": {},
   "outputs": [
    {
     "name": "stdout",
     "output_type": "stream",
     "text": [
      "8\n",
      "7.7\n",
      "Sujeet Amberkar\n",
      "[1, 2, 3, 4, 5, 0, 0]\n"
     ]
    }
   ],
   "source": [
    "def test3(a,b):\n",
    "    return (a+b)\n",
    "\n",
    "print(test3(3,5))\n",
    "print(test3(3.5,4.2))\n",
    "print(test3(\"Sujeet \",\"Amberkar\"))\n",
    "print(test3([1,2,3,4,5],[0,0]))"
   ]
  },
  {
   "cell_type": "code",
   "execution_count": 13,
   "id": "1aba870d-2999-4e04-a44b-ecc40403d14a",
   "metadata": {},
   "outputs": [
    {
     "name": "stdout",
     "output_type": "stream",
     "text": [
      "[1, 2, 4, 3.2]\n"
     ]
    }
   ],
   "source": [
    "def returnNumbers(listInput):\n",
    "    l1=[]\n",
    "    l1=[i for i in listInput if type(i) == int or type(i) == float]\n",
    "    return l1\n",
    "l2=[\"Sujeet\",\" \",1,2,4,3.2]\n",
    "l3=returnNumbers(l2)\n",
    "print(l3)"
   ]
  },
  {
   "cell_type": "code",
   "execution_count": 16,
   "id": "1f2007bd-b85d-4bb2-a252-9c82d4194e6f",
   "metadata": {},
   "outputs": [
    {
     "name": "stdout",
     "output_type": "stream",
     "text": [
      "[1, 2, 4, 3.2, 0, 0]\n"
     ]
    }
   ],
   "source": [
    "def test8(a):\n",
    "    \"\"\"\n",
    "    This is a function to extract all numeric data \n",
    "    \"\"\"\n",
    "    l=[]\n",
    "    for i in a:\n",
    "        if type(i) == list:\n",
    "            for j in i:\n",
    "                if type(j) == int or type(j) == float:\n",
    "                    l.append(j)\n",
    "        if type(i) == int or type(i) == float:\n",
    "            l.append(i)\n",
    "\n",
    "    return l\n",
    "l2=[\"Sujeet\",\" \",1,2,4,3.2,[0,0]]\n",
    "print(test8(l2))"
   ]
  },
  {
   "cell_type": "code",
   "execution_count": 21,
   "id": "e88be35d-b44b-44fa-92ec-b94290248fb4",
   "metadata": {},
   "outputs": [
    {
     "name": "stdout",
     "output_type": "stream",
     "text": [
      "() <class 'tuple'>\n",
      "(1, 2, 43) <class 'tuple'>\n",
      "('Sujeet', <class 'tuple'>)\n"
     ]
    }
   ],
   "source": [
    "def dynamicArguments(*args):\n",
    "    # Everything is converted into a topule and now we can do anything what we want \n",
    "    return args\n",
    "print(dynamicArguments(),type(dynamicArguments()))\n",
    "print(dynamicArguments(1,2,43),type(dynamicArguments()))\n",
    "print(dynamicArguments(\"Sujeet\",type(dynamicArguments())))\n"
   ]
  },
  {
   "cell_type": "code",
   "execution_count": 28,
   "id": "d1cc86c2-ecf6-4b78-aea6-4afc20aff70f",
   "metadata": {},
   "outputs": [
    {
     "data": {
      "text/plain": [
       "((1, 2, 3, 4, 5), 3)"
      ]
     },
     "execution_count": 28,
     "metadata": {},
     "output_type": "execute_result"
    }
   ],
   "source": [
    "def dymanic_args_mod2(*args,a):\n",
    "    return args,a\n",
    "dymanic_args_mod2(1,2,3,4,5, a=3)"
   ]
  },
  {
   "cell_type": "code",
   "execution_count": 30,
   "id": "9417bedc-7e63-477a-9c0c-48f4bf5de664",
   "metadata": {},
   "outputs": [
    {
     "data": {
      "text/plain": [
       "((1, 2, 3), 3)"
      ]
     },
     "execution_count": 30,
     "metadata": {},
     "output_type": "execute_result"
    }
   ],
   "source": [
    "def dymanic_args_mod2(a,*args):\n",
    "    return args,a\n",
    "dymanic_args_mod2(3,1,2,3)"
   ]
  },
  {
   "cell_type": "code",
   "execution_count": 31,
   "id": "b95a6513-c9c7-497a-85b9-f71943db9123",
   "metadata": {},
   "outputs": [
    {
     "data": {
      "text/plain": [
       "(1, 2, 10, 20)"
      ]
     },
     "execution_count": 31,
     "metadata": {},
     "output_type": "execute_result"
    }
   ],
   "source": [
    "def fun_W_Def_values(a,b,c=10,d=20):\n",
    "    return a,b,c,d\n",
    "fun_W_Def_values(1,2)"
   ]
  },
  {
   "cell_type": "code",
   "execution_count": 32,
   "id": "2e2610c4-2e0c-4d04-b0d6-fd5655e84e14",
   "metadata": {},
   "outputs": [
    {
     "data": {
      "text/plain": [
       "(1, 2, 3, 4)"
      ]
     },
     "execution_count": 32,
     "metadata": {},
     "output_type": "execute_result"
    }
   ],
   "source": [
    "fun_W_Def_values(1,2,3,4)"
   ]
  },
  {
   "cell_type": "code",
   "execution_count": 34,
   "id": "9760c3b8-438f-4c7b-a0df-68dbc956eb3b",
   "metadata": {},
   "outputs": [
    {
     "data": {
      "text/plain": [
       "{'a': [1, 2, 3, 5], 'b': ['Sujeet', 'Amberkar']}"
      ]
     },
     "execution_count": 34,
     "metadata": {},
     "output_type": "execute_result"
    }
   ],
   "source": [
    "def test10(**kwargs):\n",
    "    \"\"\" Converts the input into a key value pair\"\"\"\n",
    "    return kwargs\n",
    "test10(a=[1,2,3,5],b=[\"Sujeet\",\"Amberkar\"])"
   ]
  },
  {
   "cell_type": "code",
   "execution_count": 4,
   "id": "9cfc8aca-8789-45a9-af53-04fc0896d39a",
   "metadata": {},
   "outputs": [
    {
     "name": "stdout",
     "output_type": "stream",
     "text": [
      "0\n",
      "1\n",
      "1\n",
      "2\n",
      "3\n",
      "5\n",
      "8\n",
      "13\n",
      "21\n",
      "34\n"
     ]
    }
   ],
   "source": [
    "# Generator function will keep giviing outcome one by one without storing in and then giving it in one go\n",
    "def test_fibo(n):\n",
    "    a,b=0,1\n",
    "    for i in range (n):\n",
    "        yield a\n",
    "        a,b = b, b+a\n",
    "data=test_fibo(10)\n",
    "for i in data:\n",
    "    print(i)"
   ]
  },
  {
   "cell_type": "code",
   "execution_count": 12,
   "id": "455ba3ef-0ce5-45b5-a52f-6c5e9c5aa401",
   "metadata": {},
   "outputs": [
    {
     "name": "stdout",
     "output_type": "stream",
     "text": [
      "81\n",
      "81\n",
      "5\n",
      "2476.8\n",
      "7\n",
      "8\n"
     ]
    }
   ],
   "source": [
    "#lambda Function\n",
    "# One Liner Function\n",
    "# Anonomous function \n",
    "# Calling the function through the object (Variable)\n",
    "n = 3\n",
    "p = 4\n",
    "\n",
    "def function ():\n",
    "    return n ** p\n",
    "print(function())\n",
    "\n",
    "a= lambda n,p : n**p\n",
    "print(a(3,4))\n",
    "\n",
    "add= lambda a,b: a+b\n",
    "print(add(2,3))\n",
    "\n",
    "c_to_f= lambda c: (9/5)*c *32\n",
    "print(c_to_f(43))\n",
    "\n",
    "finding_Max= lambda x,y: x if x > y else y\n",
    "print(finding_Max(6,7))\n",
    "\n",
    "length_ofstring= lambda string1 : len(string1)\n",
    "print(length_ofstring(\"PWSKILLS\"))"
   ]
  },
  {
   "cell_type": "code",
   "execution_count": 20,
   "id": "544f019a-2891-45b8-a33c-06bae612712f",
   "metadata": {},
   "outputs": [
    {
     "name": "stdout",
     "output_type": "stream",
     "text": [
      "[1, 4, 9, 16, 25, 36, 49, 64, 81]\n",
      "[1, 4, 9, 16, 25, 36, 49, 64, 81]\n",
      "[11, 22, 33, 44, 55, 66, 77, 88, 99]\n",
      "SUJEET\n"
     ]
    },
    {
     "data": {
      "text/plain": [
       "['A', 'M', 'B', 'E', 'R', 'K', 'A', 'R']"
      ]
     },
     "execution_count": 20,
     "metadata": {},
     "output_type": "execute_result"
    }
   ],
   "source": [
    "# Perform some operation with each and every element of the data set\n",
    "l=[1,2,3,4,5,6,7,8,9]\n",
    "# map(function,iterable)\n",
    "def sq(a):\n",
    "    return a**2\n",
    "\n",
    "print(list(map(sq,l)))\n",
    "\n",
    "print(list(map( lambda x: x**2,l)))\n",
    "\n",
    "l1=[1,2,3,4,5,6,7,8,9]\n",
    "l2=[10,20,30,40,50,60,70,80,90]\n",
    "print(list(map(lambda x,y: x+y, l1,l2)))\n",
    "\n",
    "string1=\"sujeet\"\n",
    "result = ''.join(map(lambda char: chr(ord(char) - 32), string1))\n",
    "print(result)\n",
    "\n",
    "s=\"amberkar\"\n",
    "list(map(lambda s: s.upper(),s))"
   ]
  },
  {
   "cell_type": "code",
   "execution_count": 25,
   "id": "d5671fc2-fdaf-40fe-b8fc-ee56eaa1df5b",
   "metadata": {},
   "outputs": [
    {
     "name": "stdout",
     "output_type": "stream",
     "text": [
      "45\n",
      "3\n",
      "362880\n",
      "9\n"
     ]
    }
   ],
   "source": [
    "from functools import reduce\n",
    "l=[1,2,3,4,5,6,7,8,9]\n",
    "# You can only give 2 parameters \n",
    "# Odd number of elements error \n",
    "print(reduce(lambda x,y:x+y,l ))\n",
    "\n",
    "# Exeception case of Reduce \n",
    "print(reduce(lambda x,y:x+y,[3]))\n",
    "\n",
    "print(reduce (lambda x,y:x*y,l))\n",
    "\n",
    "\n",
    "print(reduce(lambda x,y: x if x > y else y, l))"
   ]
  },
  {
   "cell_type": "code",
   "execution_count": 33,
   "id": "2b426da3-2fd5-4049-8a5e-25b4af320eb8",
   "metadata": {},
   "outputs": [
    {
     "name": "stdout",
     "output_type": "stream",
     "text": [
      "[2, 4, 6, 8]\n",
      "[1, 3, 5, 7, 9]\n",
      "[6, 7, 8, 9]\n",
      "['suje', 'abhi']\n"
     ]
    }
   ],
   "source": [
    "print(list(filter(lambda x : x % 2 == 0,l)))\n",
    "print(list(filter(lambda x : x % 2 != 0,l)))\n",
    "print(list(filter(lambda x : x > 5, l)))\n",
    "\n",
    "list_S= [\"suje\",\"sujeet\",\"abhi\"]\n",
    "print(list(filter(lambda st:  len(st) <6,list_S)))"
   ]
  },
  {
   "cell_type": "code",
   "execution_count": null,
   "id": "9ffa3ce6-16e8-4f02-8bf8-566fda5f8b35",
   "metadata": {},
   "outputs": [],
   "source": []
  }
 ],
 "metadata": {
  "kernelspec": {
   "display_name": "Python 3 (ipykernel)",
   "language": "python",
   "name": "python3"
  },
  "language_info": {
   "codemirror_mode": {
    "name": "ipython",
    "version": 3
   },
   "file_extension": ".py",
   "mimetype": "text/x-python",
   "name": "python",
   "nbconvert_exporter": "python",
   "pygments_lexer": "ipython3",
   "version": "3.10.8"
  }
 },
 "nbformat": 4,
 "nbformat_minor": 5
}
