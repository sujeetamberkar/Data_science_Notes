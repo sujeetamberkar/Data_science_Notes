{
 "cells": [
  {
   "cell_type": "code",
   "execution_count": 1,
   "id": "50211e1a-9512-4cc4-b0a9-e8996b1e1001",
   "metadata": {},
   "outputs": [
    {
     "data": {
      "text/plain": [
       "{'key': 'Sujeet'}"
      ]
     },
     "execution_count": 1,
     "metadata": {},
     "output_type": "execute_result"
    }
   ],
   "source": [
    "d1={'key':\"Sujeet\"}\n",
    "d1"
   ]
  },
  {
   "cell_type": "code",
   "execution_count": 2,
   "id": "d1455cb3-11ae-4295-8163-b0bd64e31ed0",
   "metadata": {},
   "outputs": [
    {
     "data": {
      "text/plain": [
       "{'key': 'Sanjay'}"
      ]
     },
     "execution_count": 2,
     "metadata": {},
     "output_type": "execute_result"
    }
   ],
   "source": [
    "d1={'key':\"Sujeet\", 'key':'Sanjay'}\n",
    "#When the key repeats \n",
    "d1"
   ]
  },
  {
   "cell_type": "code",
   "execution_count": 3,
   "id": "abb9501d-bc8d-4b0d-b736-d3c34ce637a1",
   "metadata": {},
   "outputs": [
    {
     "data": {
      "text/plain": [
       "{'name': 'Sujeet', 'sirName': 'Amberkar'}"
      ]
     },
     "execution_count": 3,
     "metadata": {},
     "output_type": "execute_result"
    }
   ],
   "source": [
    "d1={'name':\"Sujeet\", 'sirName':\"Amberkar\"}\n",
    "d1"
   ]
  },
  {
   "cell_type": "code",
   "execution_count": 4,
   "id": "3cb2c785-fd49-4caf-8078-fcb7510909ad",
   "metadata": {},
   "outputs": [
    {
     "data": {
      "text/plain": [
       "'Sujeet'"
      ]
     },
     "execution_count": 4,
     "metadata": {},
     "output_type": "execute_result"
    }
   ],
   "source": [
    "# Instead of index use key\n",
    "d1[\"name\"]"
   ]
  },
  {
   "cell_type": "code",
   "execution_count": 5,
   "id": "8f26647e-a392-421b-bc9d-38dbe958ea87",
   "metadata": {},
   "outputs": [
    {
     "data": {
      "text/plain": [
       "'Yes'"
      ]
     },
     "execution_count": 5,
     "metadata": {},
     "output_type": "execute_result"
    }
   ],
   "source": [
    "# True is stored as 1\n",
    "d1={'name':\"Sujeet\", 'sirName':\"Amberkar\",True : \"Yes\"}\n",
    "d1[1]"
   ]
  },
  {
   "cell_type": "code",
   "execution_count": 6,
   "id": "0bfeaeca-1a87-4995-a8a9-94e46721e678",
   "metadata": {},
   "outputs": [
    {
     "data": {
      "text/plain": [
       "{'name': 'Sujeet', 'marks': [0, 1, 2, 3]}"
      ]
     },
     "execution_count": 6,
     "metadata": {},
     "output_type": "execute_result"
    }
   ],
   "source": [
    "# The value can be a list,set,dictionary \n",
    "d1={'name':\"Sujeet\",\"marks\":[0,1,2,3]}\n",
    "d1"
   ]
  },
  {
   "cell_type": "code",
   "execution_count": 7,
   "id": "42f8de7e-c3a6-4371-b889-c9b0923cc0c2",
   "metadata": {},
   "outputs": [
    {
     "data": {
      "text/plain": [
       "{'name': 'Sujeet', 'marks': {'english': 60, 'Maths': 100}}"
      ]
     },
     "execution_count": 7,
     "metadata": {},
     "output_type": "execute_result"
    }
   ],
   "source": [
    "d1={\"name\":\"Sujeet\",\"marks\":{\"english\":60,\"Maths\":100}}\n",
    "d1"
   ]
  },
  {
   "cell_type": "code",
   "execution_count": 8,
   "id": "75e37bc5-34a6-4de1-b40a-f542ee5577c9",
   "metadata": {},
   "outputs": [
    {
     "data": {
      "text/plain": [
       "60"
      ]
     },
     "execution_count": 8,
     "metadata": {},
     "output_type": "execute_result"
    }
   ],
   "source": [
    "d1[\"marks\"][\"english\"]"
   ]
  },
  {
   "cell_type": "code",
   "execution_count": 9,
   "id": "772e920b-83bb-4bd5-a015-d61b836257ed",
   "metadata": {},
   "outputs": [
    {
     "data": {
      "text/plain": [
       "{'name': 'Sujeet',\n",
       " 'marks': {'english': 60, 'Maths': 100},\n",
       " 'Mentor': 'Virat Kholi'}"
      ]
     },
     "execution_count": 9,
     "metadata": {},
     "output_type": "execute_result"
    }
   ],
   "source": [
    "# Add a new key\n",
    "d1[\"Mentor\"]= \"Virat Kholi\"\n",
    "d1"
   ]
  },
  {
   "cell_type": "code",
   "execution_count": 10,
   "id": "3986072e-b5cb-44a9-ad4f-801db6b0e5c3",
   "metadata": {},
   "outputs": [
    {
     "data": {
      "text/plain": [
       "{'name': 'Sujeet', 'marks': {'english': 60, 'Maths': 100}}"
      ]
     },
     "execution_count": 10,
     "metadata": {},
     "output_type": "execute_result"
    }
   ],
   "source": [
    "del (d1[\"Mentor\"])\n",
    "d1"
   ]
  },
  {
   "cell_type": "code",
   "execution_count": 11,
   "id": "c53d6616-75bd-44e9-aeca-52d921112ab0",
   "metadata": {},
   "outputs": [
    {
     "data": {
      "text/plain": [
       "['name', 'marks']"
      ]
     },
     "execution_count": 11,
     "metadata": {},
     "output_type": "execute_result"
    }
   ],
   "source": [
    "# Get all the keys as list \n",
    "d1.keys()\n",
    "\n",
    "l1=list (d1.keys())\n",
    "l1"
   ]
  },
  {
   "cell_type": "code",
   "execution_count": 12,
   "id": "3cf4cf09-123a-4fad-8694-4c8085417ec4",
   "metadata": {},
   "outputs": [
    {
     "data": {
      "text/plain": [
       "[('name', 'Sujeet'), ('marks', {'english': 60, 'Maths': 100})]"
      ]
     },
     "execution_count": 12,
     "metadata": {},
     "output_type": "execute_result"
    }
   ],
   "source": [
    "# Get key value pair\n",
    "#Touples are holding key value pair\n",
    "list(d1.items())"
   ]
  },
  {
   "cell_type": "code",
   "execution_count": 13,
   "id": "2f1aca0d-6398-4a65-93be-f603161f1012",
   "metadata": {},
   "outputs": [
    {
     "data": {
      "text/plain": [
       "'Sujeet'"
      ]
     },
     "execution_count": 13,
     "metadata": {},
     "output_type": "execute_result"
    }
   ],
   "source": [
    "d1.pop('name')"
   ]
  },
  {
   "cell_type": "code",
   "execution_count": 14,
   "id": "8964c7ce-cf65-4a8d-8c97-ef6de5d5ce86",
   "metadata": {},
   "outputs": [
    {
     "data": {
      "text/plain": [
       "{'marks': {'english': 60, 'Maths': 100}}"
      ]
     },
     "execution_count": 14,
     "metadata": {},
     "output_type": "execute_result"
    }
   ],
   "source": [
    "d1"
   ]
  },
  {
   "cell_type": "code",
   "execution_count": 15,
   "id": "b50ff7d5-0587-4fa8-aea8-a276e59a2f9f",
   "metadata": {},
   "outputs": [
    {
     "name": "stdout",
     "output_type": "stream",
     "text": [
      "B\n"
     ]
    }
   ],
   "source": [
    "marks=70\n",
    "if marks >= 80:\n",
    "    print(\"A\")\n",
    "elif marks >= 70:\n",
    "    print(\"B\")\n",
    "else :\n",
    "    print(\"C\")\n",
    "    "
   ]
  },
  {
   "cell_type": "code",
   "execution_count": 16,
   "id": "c13726db-c397-45b4-8005-8feae9819c53",
   "metadata": {},
   "outputs": [
    {
     "name": "stdout",
     "output_type": "stream",
     "text": [
      "wow\n"
     ]
    }
   ],
   "source": [
    "a=90\n",
    "\n",
    "if a>80 and a >= 90:\n",
    "    print(\"wow\")"
   ]
  },
  {
   "cell_type": "code",
   "execution_count": 18,
   "id": "1d2c6c1c-a468-430c-9e39-beff89c780ed",
   "metadata": {},
   "outputs": [
    {
     "name": "stdin",
     "output_type": "stream",
     "text": [
      "Enter marks 23\n"
     ]
    },
    {
     "name": "stdout",
     "output_type": "stream",
     "text": [
      "C\n"
     ]
    }
   ],
   "source": [
    "# Take input and then typecast\n",
    "# Dedault is string\n",
    "marks=int(input(\"Enter marks\"))\n",
    "if marks >= 80:\n",
    "    print(\"A\")\n",
    "elif marks >= 70:\n",
    "    print(\"B\")\n",
    "else :\n",
    "    print(\"C\")"
   ]
  },
  {
   "cell_type": "code",
   "execution_count": 19,
   "id": "89c43b46-1887-4dc8-af48-6d98b8cd40fc",
   "metadata": {},
   "outputs": [
    {
     "data": {
      "text/plain": [
       "[1, 2, 3, 4, 5, 6, 7, 8, 9, 10]"
      ]
     },
     "execution_count": 19,
     "metadata": {},
     "output_type": "execute_result"
    }
   ],
   "source": [
    "# While LOOP\n",
    "l=[0,1,2,3,4,5,6,7,8,9]\n",
    "i=0\n",
    "while i < 10:\n",
    "    l[i]=l[i]+1\n",
    "    i=i+1\n",
    "l\n"
   ]
  },
  {
   "cell_type": "code",
   "execution_count": 23,
   "id": "5026b9bd-dfb5-4cd1-843a-03339b933d77",
   "metadata": {},
   "outputs": [
    {
     "data": {
      "text/plain": [
       "[2, 3, 4, 5, 6, 7, 8, 9, 10, 11]"
      ]
     },
     "execution_count": 23,
     "metadata": {},
     "output_type": "execute_result"
    }
   ],
   "source": [
    "l1=[]\n",
    "for i in l:\n",
    "    l1.append(i+1)\n",
    "l1"
   ]
  },
  {
   "cell_type": "code",
   "execution_count": 29,
   "id": "5b4595b3-a838-4a1b-87e1-64f5851bf8d4",
   "metadata": {},
   "outputs": [
    {
     "data": {
      "text/plain": [
       "['SUJEET', 'AMBERKAR']"
      ]
     },
     "execution_count": 29,
     "metadata": {},
     "output_type": "execute_result"
    }
   ],
   "source": [
    "l=[\"Sujeet\",\"Amberkar\"]\n",
    "l1=[]\n",
    "for i in l:\n",
    "    l1.append(i.upper())\n",
    "l1"
   ]
  },
  {
   "cell_type": "code",
   "execution_count": 36,
   "id": "99c0ed05-8484-44a3-97bb-9924bd1d5922",
   "metadata": {},
   "outputs": [
    {
     "name": "stdout",
     "output_type": "stream",
     "text": [
      "[34.256]\n",
      "[1, 2, 3, 4, 5, 6]\n"
     ]
    },
    {
     "data": {
      "text/plain": [
       "['abc', 'Amberkar', 'Sujeet']"
      ]
     },
     "execution_count": 36,
     "metadata": {},
     "output_type": "execute_result"
    }
   ],
   "source": [
    "l={1,2,3,4,5,6,\"Sujeet\", \"Amberkar\",34.256,\"abc\"}\n",
    "float_list=[]\n",
    "int_list=[]\n",
    "string_list=[]\n",
    "for i in l:\n",
    "    if type(i) == int:\n",
    "        int_list.append(i)\n",
    "    elif type(i) == float:\n",
    "        float_list.append(i)\n",
    "    else :\n",
    "        string_list.append(i)\n",
    "print(float_list)\n",
    "print(int_list)\n",
    "string_list"
   ]
  },
  {
   "cell_type": "code",
   "execution_count": null,
   "id": "b92562c9-4cf1-4bc1-b993-16daf367e145",
   "metadata": {},
   "outputs": [],
   "source": []
  },
  {
   "cell_type": "code",
   "execution_count": null,
   "id": "54ed19b6-5934-43a7-91ae-8720dc6d2dd2",
   "metadata": {},
   "outputs": [],
   "source": []
  }
 ],
 "metadata": {
  "kernelspec": {
   "display_name": "Python 3 (ipykernel)",
   "language": "python",
   "name": "python3"
  },
  "language_info": {
   "codemirror_mode": {
    "name": "ipython",
    "version": 3
   },
   "file_extension": ".py",
   "mimetype": "text/x-python",
   "name": "python",
   "nbconvert_exporter": "python",
   "pygments_lexer": "ipython3",
   "version": "3.10.8"
  }
 },
 "nbformat": 4,
 "nbformat_minor": 5
}
